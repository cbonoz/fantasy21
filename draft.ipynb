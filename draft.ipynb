{
 "cells": [
  {
   "cell_type": "code",
   "execution_count": 35,
   "id": "f31e6b1a-8175-4dc8-99b1-cebe97acc536",
   "metadata": {},
   "outputs": [
    {
     "name": "stdout",
     "output_type": "stream",
     "text": [
      "3.7.11 (default, Jul  6 2021, 12:43:19) \n",
      "[Clang 12.0.5 (clang-1205.0.22.9)]\n",
      "The autoreload extension is already loaded. To reload it, use:\n",
      "  %reload_ext autoreload\n",
      "ready\n"
     ]
    }
   ],
   "source": [
    "import sys\n",
    "print(sys.version)\n",
    "%load_ext autoreload\n",
    "%autoreload 0\n",
    "\n",
    "\n",
    "from draftfast import rules\n",
    "from draftfast.optimize import run\n",
    "from draftfast.orm import Player\n",
    "from draftfast.csv_parse import salary_download\n",
    "from draftfast.settings import OptimizerSettings, CustomRule\n",
    "from draftfast.lineup_constraints import LineupConstraints\n",
    "import pandas as pd\n",
    "import numpy as np\n",
    "from spread import get_spread_data\n",
    "\n",
    "SALARY_FILE = './data/fanduel_9_20.csv'\n",
    "WEEK = 3\n",
    "ACTIVE_FILE = './data/active.csv'\n",
    "print('ready')"
   ]
  },
  {
   "cell_type": "code",
   "execution_count": 36,
   "id": "9fbdf244-0e16-4a8a-9fb4-9624be69fef2",
   "metadata": {},
   "outputs": [
    {
     "name": "stdout",
     "output_type": "stream",
     "text": [
      "return cached data\n",
      "<class 'pandas.core.frame.DataFrame'>\n",
      "RangeIndex: 16 entries, 0 to 15\n",
      "Data columns (total 44 columns):\n",
      "Unnamed: 0                      16 non-null int64\n",
      "SeasonType                      16 non-null int64\n",
      "Season                          16 non-null int64\n",
      "Type                            16 non-null object\n",
      "Week                            16 non-null int64\n",
      "Timeframe                       16 non-null object\n",
      "Day                             16 non-null object\n",
      "DateTime                        16 non-null object\n",
      "DayString                       16 non-null object\n",
      "TimeString                      16 non-null object\n",
      "DayOfWeek                       16 non-null object\n",
      "DateTimeString                  16 non-null object\n",
      "LastUpdated                     16 non-null object\n",
      "HasStarted                      16 non-null bool\n",
      "Status                          16 non-null object\n",
      "Quarter                         0 non-null float64\n",
      "AwayTeamID                      16 non-null int64\n",
      "AwayTeam                        16 non-null object\n",
      "AwayScore                       0 non-null float64\n",
      "AwayTeamHasWon                  16 non-null bool\n",
      "AwayTeamDetails                 16 non-null object\n",
      "HomeTeamID                      16 non-null int64\n",
      "HomeTeam                        16 non-null object\n",
      "HomeScore                       0 non-null float64\n",
      "HomeTeamHasWon                  16 non-null bool\n",
      "HomeTeamDetails                 16 non-null object\n",
      "AwayTeamLogo                    16 non-null object\n",
      "HomeTeamLogo                    16 non-null object\n",
      "Quarters                        16 non-null object\n",
      "QuartersArray                   16 non-null object\n",
      "QuarterNames                    0 non-null float64\n",
      "HomeTeamQuarters                0 non-null float64\n",
      "AwayTeamQuarters                0 non-null float64\n",
      "OverUnder                       16 non-null float64\n",
      "PointSpread                     16 non-null float64\n",
      "HomeTeamMoneyLine               16 non-null int64\n",
      "AwayTeamMoneyLine               16 non-null int64\n",
      "PointSpreadHomeTeamMoneyLine    16 non-null int64\n",
      "PointSpreadAwayTeamMoneyLine    16 non-null int64\n",
      "GameOddWebs                     16 non-null object\n",
      "Scope                           16 non-null int64\n",
      "Consensus                       16 non-null object\n",
      "Opener                          16 non-null object\n",
      "GameOddsBySportsBook            16 non-null object\n",
      "dtypes: bool(3), float64(8), int64(11), object(22)\n",
      "memory usage: 5.3+ KB\n"
     ]
    }
   ],
   "source": [
    "spread_df = get_spread_data(WEEK)\n",
    "spread_df.info()"
   ]
  },
  {
   "cell_type": "code",
   "execution_count": 37,
   "id": "c08bd70c-6dc1-495f-9cb7-405eb9e4656b",
   "metadata": {},
   "outputs": [
    {
     "name": "stdout",
     "output_type": "stream",
     "text": [
      "{'HOU': 7.5, 'CAR': -7.5, 'BUF': -9.5, 'WAS': 9.5, 'CLE': -7.5, 'CHI': 7.5, 'DET': 7.5, 'BAL': -7.5, 'TEN': -5.0, 'IND': 5.0, 'KC': -7.0, 'LAC': 7.0, 'NE': -2.5, 'NO': 2.5, 'NYG': -3.5, 'ATL': 3.5, 'PIT': -4.5, 'CIN': 4.5, 'JAX': 7.0, 'ARI': -7.0, 'DEN': -10.5, 'NYJ': 10.5, 'LV': -5.0, 'MIA': 5.0, 'LAR': -1.5, 'TB': 1.5, 'MIN': 1.5, 'SEA': -1.5, 'SF': -4.0, 'GB': 4.0, 'DAL': -4.0, 'PHI': 4.0, 'JAC': 7.0}\n",
      "Negative means favored\n"
     ]
    }
   ],
   "source": [
    "favor_map = {}\n",
    "for index, row in spread_df.iterrows():\n",
    "\n",
    "    favor_map[row['HomeTeam']] = row['PointSpread']\n",
    "    favor_map[row['AwayTeam']] = -row['PointSpread']\n",
    "    \n",
    "if 'JAX' in favor_map:\n",
    "    favor_map['JAC'] = favor_map['JAX']\n",
    "    \n",
    "print(favor_map)\n",
    "print('Negative means favored') # https://madduxsports.com/how-to-read-nfl-odds-lines.html"
   ]
  },
  {
   "cell_type": "code",
   "execution_count": 38,
   "id": "9121cf4c-b9db-48b7-b3fd-1f18f31142d8",
   "metadata": {},
   "outputs": [
    {
     "name": "stdout",
     "output_type": "stream",
     "text": [
      "             FPPG      Played       Salary  Tier  Unnamed: 14  Unnamed: 15\n",
      "count  839.000000  839.000000   839.000000   0.0          0.0          0.0\n",
      "mean     4.071748    2.901073  4911.918951   NaN          NaN          NaN\n",
      "std      5.398729    3.216305   969.794906   NaN          NaN          NaN\n",
      "min     -0.750000    1.000000  3000.000000   NaN          NaN          NaN\n",
      "25%      0.465000    1.000000  4500.000000   NaN          NaN          NaN\n",
      "50%      2.258333    2.000000  4500.000000   NaN          NaN          NaN\n",
      "75%      5.000000    2.000000  5300.000000   NaN          NaN          NaN\n",
      "max     34.830002   18.000000  9700.000000   NaN          NaN          NaN\n",
      "wrote ./data/active.csv\n",
      "Excluding: [\"D'Andre Swift\", 'Josh Jacobs', 'Diontae Johnson', 'Carson Wentz', 'Baker Mayfield', 'Tua Tagovailoa', 'Odell Beckham Jr.', 'Jarvis Landry', 'Ryan Fitzpatrick', 'Andy Dalton', 'Darrell Henderson Jr.', 'Marcus Mariota', 'AJ McCarron', 'Chris Streveler', 'Nate Stanley', 'Sam Ehlinger', 'Kellen Mond', 'Bryce Perkins', 'Easton Stick', 'Ian Book', 'Josh Dobbs', 'Dwayne Haskins Jr.', 'Nick Foles', 'Jarrett Stidham', 'Tim Boyle', 'Feleipe Franks', 'Kyle Trask', 'Jake Luton', 'Clayton Thorson', 'Michael Thomas', 'Jamison Crowder', 'Will Fuller V', 'Tyrell Williams', \"Tre'Quan Smith\", 'Kalif Raymond', 'Evan Engram', 'Curtis Samuel', 'T.Y. Hilton', \"N'Keal Harry\", 'Dee Eskridge', 'Denzel Mims', 'Rhamondre Stevenson', 'Parris Campbell', 'Breshad Perriman', 'Anthony Firkser', 'Rashaad Penny', \"James O'Shaughnessy\", 'Rashod Bateman', 'Tarik Cohen', 'John Ross III', \"La'Mical Perine\", 'Cameron Batson', 'Chad Williams', 'Joe Reed', 'Olabisi Johnson', 'Taquan Mizzell', 'Collin Johnson', 'Anthony McFarland Jr.', 'Austin Walter', 'Rico Bussey', 'Nate McCrary', 'Donte Sylencieux', 'Michael Warren', 'Malcolm Perry', 'Jeff Badet', 'Raymond Calais', 'Jerry Jeudy', 'Antoine Wesley', 'Deon Cain', 'Chad Hansen', 'Cody Hollister', 'Mike Boone', 'Jalen McCleskey', 'Darrynton Evans', 'Caleb Scott', 'Brian Hill', 'DaeSean Hamilton', 'Jalen Richard', 'Tommylee Lewis', 'Isaiah Hodgins', 'Chad Beebe', 'Wayne Gallman Jr.', 'Dan Chisena', 'Christian Wade', 'Troymaine Pope', 'Eli Stove', 'Adrian Killins', 'Frank Darby', 'Duke Williams', 'Elijah McGuire', 'Austin Mack', 'Lynn Bowden Jr.', 'Antonio Williams', 'Ryan Becker', 'Alex Bachman', 'Justin Watson', 'Daurice Fountain', 'Cam Akers', 'Allen Hurns', 'Gus Edwards', 'Josh Adams', 'Marvin Hall', 'Derrick Dillon', 'Jaydon Mickens', 'Rysen John', 'Miles Boykin', 'Chris Finke', 'Tim Jones', 'J.J. Nelson', 'Blake Proehl', 'Trenton Irwin', 'Ben Skowronek', 'LeVante Bellamy', 'Davion Davis', 'Binjimen Victor', 'Marcus Johnson', 'Kene Nwangwu', 'Marquez Stevenson', 'Thomas Ives', 'Gary Jennings', 'Josh Imatorbhebhe', \"Ke'Shawn Vaughn\", 'Trey Quinn', 'DeVontres Dukes', 'Xavier Jones', 'Joshua Kelley', 'Ryan Switzer', 'J.K. Dobbins', 'Quartney Davis', 'Eno Benjamin', 'Dezmon Patmon', 'Tavon Austin', 'Justice Hill', 'Mike Weber', 'Travis Etienne', 'Jason Moore Jr.', 'Antonio Callaway', \"J'Mon Moore\", 'Terry Godwin', 'Jaelon Darden', 'Tre Harbison', 'John Ursua', 'Nick Boyle', 'Devin Asiasi', 'Briley Moore-McKinney', 'Sammis Reyes', 'Alex Ellis', 'Jake Breeland', 'Brycen Hopkins', 'Jaeden Graham', 'Dylan Cantrell', 'Cole Hikutini', 'Evan Baylis', 'Hunter Bryant', 'Jacob Hollister', 'Hunter Long', 'Nick Bowers', 'Andrew Vollert', 'Irv Smith Jr.', 'Levine Toilolo', 'Andrew Beck', \"Tre' McKitty\", 'Bruno Labelle', 'Connor Davis', 'Noah Togiai', 'Colby Parkinson', 'Dylan Soehner', 'Stephen Carlson', 'Tyrone Swoopes', 'Jordan Thomas', 'Charlie Taumoepeau', 'Troy Fumagalli', 'Nick Vannett', 'Dax Raymond', 'Jesper Horsted', 'Dalton Keene']\n"
     ]
    }
   ],
   "source": [
    "\n",
    "df = pd.read_csv(SALARY_FILE, na_values= '')\n",
    "df = df.fillna(df.median())\n",
    "print(df.describe())\n",
    "df.to_csv(ACTIVE_FILE)\n",
    "print('wrote ' + ACTIVE_FILE)\n",
    "df['Name'] = df['First Name'] + \" \" + df['Last Name']\n",
    "df['Salary/FPPG'] = df['FPPG'] / df['Salary']\n",
    "excluded_players = list(df[(~df['Injury Indicator'].isna()) | ~df['Injury Details'].isna()]['Name'])\n",
    "# excluded_players = [\"Rob Gronkowski\"]\n",
    "print(f\"Excluding: {excluded_players}\")\n",
    "custom_adds = []#[\"Buffalo Bills\"]# [\"Rob Gronkowski\"] #[\"Kyler Murray\"] # [] #[\"Jake Kumerow\"] \n",
    "if excluded_players:\n",
    "    excluded_players.extend(custom_adds)\n"
   ]
  },
  {
   "cell_type": "code",
   "execution_count": 39,
   "id": "d18adec1-3218-408b-8d88-0918abd8d340",
   "metadata": {},
   "outputs": [],
   "source": [
    "# https://www.fanduel.com/nfl-guide\n",
    "# Use min/max + roster_size to accomodate flex position. FD roster_size = 9\n",
    "def get_nfl_positions():\n",
    "    return [\n",
    "        ['QB', 1, 1],\n",
    "        ['RB', 2, 3],\n",
    "        ['WR', 3, 4],\n",
    "        ['TE', 1, 1],\n",
    "        ['D', 1, 1]\n",
    "    ]               "
   ]
  },
  {
   "cell_type": "code",
   "execution_count": 43,
   "id": "eb0c3754-b593-4ca8-a8a3-aca0118cf33c",
   "metadata": {},
   "outputs": [
    {
     "name": "stdout",
     "output_type": "stream",
     "text": [
      "{'site': 'FAN_DUEL', 'league': 'NFL', 'roster_size': 9, 'position_limits': [['QB', 1, 1], ['RB', 2, 3], ['WR', 3, 4], ['TE', 1, 1], ['D', 1, 1]], 'general_position_limits': [], 'salary_min': 0, 'salary_max': 60000, 'offensive_positions': ['QB', 'RB', 'WR', 'TE', 'FLEX'], 'defensive_positions': ['D'], 'game_type': 'classic', 'max_players_per_team': 9, 'position_per_team_rules': None, 'min_teams': None}\n",
      "Optimal roster for: NFL\n",
      "+----------+------------------+------+---------+--------+--------------------+----------+--------+\n",
      "| Position | Player           | Team | Matchup | Salary |         Projection | vs. Avg. | Locked |\n",
      "+----------+------------------+------+---------+--------+--------------------+----------+--------+\n",
      "| QB       | Kyler Murray     | ARI  | ARI@JAC |  9,000 | 34.830001831054695 |     \u001b[0;31;40m0.00\u001b[0m |        |\n",
      "| RB       | Ty'Son Williams  | BAL  | BAL@DET |  6,400 | 16.899999618530273 |     \u001b[0;31;40m0.00\u001b[0m |        |\n",
      "| RB       | Zack Moss        | BUF  | WAS@BUF |  5,400 | 14.399999618530273 |     \u001b[0;31;40m0.00\u001b[0m |        |\n",
      "| WR       | Tyreek Hill      | KC   | LAC@KC  |  8,700 |  31.60000038146973 |     \u001b[0;31;40m0.00\u001b[0m |        |\n",
      "| WR       | Sterling Shepard | NYG  | ATL@NYG |  6,400 | 16.899999618530273 |     \u001b[0;31;40m0.00\u001b[0m |        |\n",
      "| WR       | Christian Kirk   | ARI  | ARI@JAC |  5,700 |              14.75 |     \u001b[0;31;40m0.00\u001b[0m |        |\n",
      "| WR       | Henry Ruggs III  | LV   | MIA@LV  |  5,600 | 12.800000190734865 |     \u001b[0;31;40m0.00\u001b[0m |        |\n",
      "| TE       | Travis Kelce     | KC   | LAC@KC  |  8,500 |  22.60000038146973 |     \u001b[0;31;40m0.00\u001b[0m |        |\n",
      "| D        | Buffalo Bills    | BUF  | WAS@BUF |  4,100 |               12.5 |     \u001b[0;31;40m0.00\u001b[0m |        |\n",
      "+----------+------------------+------+---------+--------+--------------------+----------+--------+\n",
      "\n",
      "Projected Score: 177.28 \t Cost: $59,800\n"
     ]
    }
   ],
   "source": [
    "# Use salary data from csv as optimization basis.\n",
    "players = salary_download.generate_players_from_csvs(\n",
    "  salary_file_location=ACTIVE_FILE,\n",
    "  game=rules.FAN_DUEL,\n",
    ")\n",
    "\n",
    "# Any additional player or custom rule constraints.\n",
    "#Player -  https://github.com/BenBrostoff/draftfast/blob/68625902ceea83e66ee9f13a44acd732f600f68f/draftfast/orm.py#L245\n",
    "\n",
    "# no players min cost (unlikely to play), low score, or favored to lose except overwhelming proj.\n",
    "block_function = lambda p: p.cost < 5000 or p.proj < 12 or favor_map[p.team] > -3\n",
    "\n",
    "settings = OptimizerSettings(\n",
    "    custom_rules=[\n",
    "        CustomRule(\n",
    "            group_a=lambda p: p,\n",
    "            group_b=block_function, \n",
    "            comparison=lambda sum, a, b: sum(b) <= 1\n",
    "        ),        \n",
    "    ],\n",
    ")\n",
    "\n",
    "if excluded_players:\n",
    "    constraints = LineupConstraints(banned=[excluded_players])\n",
    "else:\n",
    "    constraints = LineupConstraints()\n",
    "\n",
    "ACTIVE_RULE_SET = rules.FD_NFL_RULE_SET\n",
    "# Overrides (position limits, salary, roster size, positions, etc.\n",
    "ACTIVE_RULE_SET.salary_max = 60000\n",
    "ACTIVE_RULE_SET.defensive_positions = ['D']\n",
    "ACTIVE_RULE_SET.offensive_positions = ['QB', 'RB', 'WR', 'TE', 'FLEX']\n",
    "ACTIVE_RULE_SET.position_limits = get_nfl_positions()\n",
    "ACTIVE_RULE_SET.max_players_per_team = 9\n",
    "ACTIVE_RULE_SET.roster_size = 9\n",
    "print(ACTIVE_RULE_SET.__dict__)\n",
    "\n",
    "ALL_POSITIONS = [*ACTIVE_RULE_SET.defensive_positions, *ACTIVE_RULE_SET.offensive_positions]\n",
    "\n",
    "roster = run(\n",
    "    rule_set=ACTIVE_RULE_SET,\n",
    "    player_pool=players,\n",
    "    verbose=True,\n",
    "    optimizer_settings=settings,\n",
    "    constraints=constraints\n",
    ")"
   ]
  },
  {
   "cell_type": "code",
   "execution_count": 41,
   "id": "106ddd43-54f7-4bd4-92d7-d09e647a084f",
   "metadata": {},
   "outputs": [
    {
     "ename": "AttributeError",
     "evalue": "'NoneType' object has no attribute 'players'",
     "output_type": "error",
     "traceback": [
      "\u001b[0;31m---------------------------------------------------------------------------\u001b[0m",
      "\u001b[0;31mAttributeError\u001b[0m                            Traceback (most recent call last)",
      "\u001b[0;32m<ipython-input-41-d03403d956fa>\u001b[0m in \u001b[0;36m<module>\u001b[0;34m\u001b[0m\n\u001b[1;32m      4\u001b[0m \u001b[0;31m#         return matches.iloc[0]['Id']\u001b[0m\u001b[0;34m\u001b[0m\u001b[0;34m\u001b[0m\u001b[0;34m\u001b[0m\u001b[0m\n\u001b[1;32m      5\u001b[0m \u001b[0;31m#     return None\u001b[0m\u001b[0;34m\u001b[0m\u001b[0;34m\u001b[0m\u001b[0;34m\u001b[0m\u001b[0m\n\u001b[0;32m----> 6\u001b[0;31m \u001b[0mroster\u001b[0m\u001b[0;34m.\u001b[0m\u001b[0mplayers\u001b[0m\u001b[0;34m[\u001b[0m\u001b[0;36m6\u001b[0m\u001b[0;34m]\u001b[0m\u001b[0;34m.\u001b[0m\u001b[0m__dict__\u001b[0m\u001b[0;34m\u001b[0m\u001b[0;34m\u001b[0m\u001b[0m\n\u001b[0m",
      "\u001b[0;31mAttributeError\u001b[0m: 'NoneType' object has no attribute 'players'"
     ]
    }
   ],
   "source": [
    "# def find_id(first_name, last_name, pos):\n",
    "#     matches = df.loc[(df['First Name'] == first_name) & (df['Last Name'] == last_name) & (df['Position'] == pos)]\n",
    "#     if matches:\n",
    "#         return matches.iloc[0]['Id']\n",
    "#     return None\n",
    "roster.players[6].__dict__"
   ]
  },
  {
   "cell_type": "code",
   "execution_count": null,
   "id": "5c014bcc-d99a-49bd-af57-380610fcc4b5",
   "metadata": {},
   "outputs": [],
   "source": [
    "for r in roster.players:\n",
    "    print(r.team, r.name, r.proj, r.average_score, r.cost,  r.kv_store['Injury Indicator'], r.kv_store['Injury Details'], r.kv_store['Played'])"
   ]
  },
  {
   "cell_type": "code",
   "execution_count": null,
   "id": "8633b81b-eaa2-4311-a284-7e4fa7c76c06",
   "metadata": {},
   "outputs": [],
   "source": [
    "headers = []\n",
    "players = []\n",
    "\n",
    "for r in roster.players:\n",
    "    headers.append(r.pos if r.pos != 'D' else 'DEF')\n",
    "    p = f\"{r.kv_store['Id']}:{r.name}\"\n",
    "    players.append(p)\n",
    "\n",
    "with open('upload.csv', 'w') as f:\n",
    "    f.write(','.join(headers))\n",
    "    f.write('\\n')\n",
    "    f.write(','.join(players))\n",
    "\n"
   ]
  },
  {
   "cell_type": "code",
   "execution_count": null,
   "id": "094f3997-422e-48f8-9d09-4c6ef60246b8",
   "metadata": {},
   "outputs": [],
   "source": [
    "output = pd.read_csv('upload.csv')\n",
    "output"
   ]
  },
  {
   "cell_type": "code",
   "execution_count": null,
   "id": "4ae78a6b-85a6-447b-bace-58451ebfaccd",
   "metadata": {},
   "outputs": [],
   "source": [
    "m_score = df[(df['FPPG'] > 0) & (df['Played'] > 0)].groupby(['Position'])['FPPG'].mean().to_dict()\n",
    "m_score['DEF'] = m_score['D']\n",
    "m_score"
   ]
  },
  {
   "cell_type": "code",
   "execution_count": null,
   "id": "909a3423-1f56-464a-a654-578b4332ffdf",
   "metadata": {},
   "outputs": [],
   "source": [
    "expected_score = sum([m_score[h] for h in headers])\n",
    "expected_score"
   ]
  },
  {
   "cell_type": "code",
   "execution_count": null,
   "id": "9c18a8e6-8a95-42cc-bb82-b3d0a207f629",
   "metadata": {},
   "outputs": [],
   "source": [
    "# Players that have non-null injury status.\n",
    "df[(~df['Injury Indicator'].isna()) | ~df['Injury Details'].isna()]"
   ]
  },
  {
   "cell_type": "code",
   "execution_count": null,
   "id": "39c5690f-e1db-4842-a458-a1782a4ddc1f",
   "metadata": {},
   "outputs": [],
   "source": [
    "df[df['First Name'] == 'Jeff']"
   ]
  },
  {
   "cell_type": "code",
   "execution_count": null,
   "id": "0a6fab38-3c28-4a5b-b40b-dcb1aab03b1f",
   "metadata": {},
   "outputs": [],
   "source": [
    "# Potentially unaccounted positions\n",
    "df[~df['Position'].isin(ALL_POSITIONS)]"
   ]
  },
  {
   "cell_type": "code",
   "execution_count": null,
   "id": "9d52b6be-5525-4754-95ad-1467c5ceb9e7",
   "metadata": {},
   "outputs": [],
   "source": [
    "df[df['Position'] == 'D'][['FPPG', 'Nickname', 'Salary', 'Salary/FPPG']].sort_values('Salary/FPPG', ascending=False)"
   ]
  },
  {
   "cell_type": "code",
   "execution_count": null,
   "id": "62a26827-7853-4ebc-8553-275e9162072d",
   "metadata": {},
   "outputs": [],
   "source": [
    "df[df['Team'] == 'JAC']"
   ]
  },
  {
   "cell_type": "code",
   "execution_count": null,
   "id": "b4260559-e7f5-4a0b-ab94-215f81fe4750",
   "metadata": {},
   "outputs": [],
   "source": []
  },
  {
   "cell_type": "code",
   "execution_count": null,
   "id": "3f93e669-f715-4fa5-9125-7340af8cb638",
   "metadata": {},
   "outputs": [],
   "source": [
    "spread_df.iloc[1][['HomeTeam', 'PointSpread']]"
   ]
  },
  {
   "cell_type": "code",
   "execution_count": null,
   "id": "8d9317ee-6652-48bc-97be-48a3e94634ad",
   "metadata": {},
   "outputs": [],
   "source": []
  }
 ],
 "metadata": {
  "kernelspec": {
   "display_name": "Python 3",
   "language": "python",
   "name": "python3"
  },
  "language_info": {
   "codemirror_mode": {
    "name": "ipython",
    "version": 3
   },
   "file_extension": ".py",
   "mimetype": "text/x-python",
   "name": "python",
   "nbconvert_exporter": "python",
   "pygments_lexer": "ipython3",
   "version": "3.7.11"
  }
 },
 "nbformat": 4,
 "nbformat_minor": 5
}
