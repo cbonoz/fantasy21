{
 "cells": [
  {
   "cell_type": "code",
   "execution_count": 6,
   "id": "0437c05c-60a0-43c0-a1be-66a1bbd800ac",
   "metadata": {},
   "outputs": [
    {
     "name": "stdout",
     "output_type": "stream",
     "text": [
      "3.7.10 (default, Feb 27 2021, 00:01:01) \n",
      "[Clang 12.0.0 (clang-1200.0.32.29)]\n",
      "ready\n"
     ]
    }
   ],
   "source": [
    "import sys\n",
    "print(sys.version)\n",
    "\n",
    "from draftfast import rules\n",
    "from draftfast.optimize import run\n",
    "from draftfast.orm import Player\n",
    "from draftfast.csv_parse import salary_download\n",
    "from draftfast.settings import OptimizerSettings, CustomRule\n",
    "\n",
    "print('ready')"
   ]
  },
  {
   "cell_type": "code",
   "execution_count": 7,
   "id": "58d55395-9131-4b6f-9726-3d93b505cce9",
   "metadata": {},
   "outputs": [
    {
     "name": "stdout",
     "output_type": "stream",
     "text": [
      "Optimal roster for: NFL\n",
      "+----------+------------------+------+---------+--------+--------------------+----------+--------+\n",
      "| Position | Player           | Team | Matchup | Salary |         Projection | vs. Avg. | Locked |\n",
      "+----------+------------------+------+---------+--------+--------------------+----------+--------+\n",
      "| QB       | Ryan Fitzpatrick | TB   | CAR@TB  |  6,000 | 22.229999542236328 |     \u001b[0;31;40m0.00\u001b[0m |        |\n",
      "| RB       | Todd Gurley II   | LAR  | LAR@DET |  9,800 | 25.081817626953125 |     \u001b[0;31;40m0.00\u001b[0m |        |\n",
      "| RB       | Saquon Barkley   | NYG  | CHI@NYG |  8,600 | 22.772727272727273 |     \u001b[0;31;40m0.00\u001b[0m |        |\n",
      "| RB       | T.J. Yeldon      | JAC  | IND@JAC |  4,800 |  11.98181845925071 |     \u001b[0;31;40m0.00\u001b[0m |        |\n",
      "| WR       | Tyreek Hill      | KC   | KC@OAK  |  8,400 | 20.290908813476562 |     \u001b[0;31;40m0.00\u001b[0m |        |\n",
      "| WR       | Adam Thielen     | MIN  | MIN@NE  |  8,100 | 19.118182095614348 |     \u001b[0;31;40m0.00\u001b[0m |        |\n",
      "| WR       | Geronimo Allison | GB   | ARI@GB  |  4,500 |  10.45999984741211 |     \u001b[0;31;40m0.00\u001b[0m |        |\n",
      "| TE       | Eric Ebron       | IND  | IND@JAC |  5,600 | 13.172726717862217 |     \u001b[0;31;40m0.00\u001b[0m |        |\n",
      "| D        | Los Angeles Rams | LAR  | LAR@DET |  4,100 |  9.909090909090908 |     \u001b[0;31;40m0.00\u001b[0m |        |\n",
      "+----------+------------------+------+---------+--------+--------------------+----------+--------+\n",
      "\n",
      "Projected Score: 155.02 \t Cost: $59,900\n"
     ]
    }
   ],
   "source": [
    "\n",
    "# Use salary data from csv as optimization basis.\n",
    "players = salary_download.generate_players_from_csvs(\n",
    "  salary_file_location='./data/salaries.csv',\n",
    "  game=rules.FAN_DUEL,\n",
    ")\n",
    "\n",
    "settings = OptimizerSettings(\n",
    "    custom_rules=[\n",
    "#         CustomRule(\n",
    "#             group_a=lambda p: p.pos == 'WR' and p.team == 'Patriots',\n",
    "#             group_b=lambda p: p.pos == 'QB' and p.team == 'Patriots',\n",
    "#             comparison=lambda sum, a, b: sum(a) + 1 <= sum(b)\n",
    "#         ),\n",
    "        \n",
    "    ],\n",
    ")\n",
    "\n",
    "ACTIVE_RULE_SET = rules.FD_NFL_RULE_SET\n",
    "# Overrides (position limits, salary, roster size, positions, etc.\n",
    "# ACTIVE_RULE_SET.salary_max = 60000\n",
    "\n",
    "roster = run(\n",
    "rule_set=ACTIVE_RULE_SET,\n",
    "    player_pool=players,\n",
    "    verbose=True,\n",
    "    optimizer_settings=settings,\n",
    ")"
   ]
  },
  {
   "cell_type": "code",
   "execution_count": null,
   "id": "8633b81b-eaa2-4311-a284-7e4fa7c76c06",
   "metadata": {},
   "outputs": [],
   "source": []
  },
  {
   "cell_type": "code",
   "execution_count": null,
   "id": "094f3997-422e-48f8-9d09-4c6ef60246b8",
   "metadata": {},
   "outputs": [],
   "source": []
  },
  {
   "cell_type": "code",
   "execution_count": null,
   "id": "4ae78a6b-85a6-447b-bace-58451ebfaccd",
   "metadata": {},
   "outputs": [],
   "source": []
  }
 ],
 "metadata": {
  "kernelspec": {
   "display_name": "Python 3",
   "language": "python",
   "name": "python3"
  },
  "language_info": {
   "codemirror_mode": {
    "name": "ipython",
    "version": 3
   },
   "file_extension": ".py",
   "mimetype": "text/x-python",
   "name": "python",
   "nbconvert_exporter": "python",
   "pygments_lexer": "ipython3",
   "version": "3.7.10"
  }
 },
 "nbformat": 4,
 "nbformat_minor": 5
}
