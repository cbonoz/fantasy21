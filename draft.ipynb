{
 "cells": [
  {
   "cell_type": "code",
   "execution_count": 1003,
   "id": "3c4685ef-b6da-44e3-a95e-a8cdb7cc3f6f",
   "metadata": {},
   "outputs": [
    {
     "name": "stdout",
     "output_type": "stream",
     "text": [
      "3.7.12 (default, Oct 13 2021, 06:53:03) \n",
      "[Clang 13.0.0 (clang-1300.0.29.3)]\n"
     ]
    }
   ],
   "source": [
    "import sys\n",
    "print(sys.version)"
   ]
  },
  {
   "cell_type": "code",
   "execution_count": 1004,
   "id": "c7ed98b1-54a6-46e2-875e-7cb30521b9b1",
   "metadata": {},
   "outputs": [
    {
     "name": "stdout",
     "output_type": "stream",
     "text": [
      "The autoreload extension is already loaded. To reload it, use:\n",
      "  %reload_ext autoreload\n",
      "ready\n"
     ]
    }
   ],
   "source": [
    "%load_ext autoreload\n",
    "%autoreload 0\n",
    "\n",
    "import os, json\n",
    "from draftfast import rules\n",
    "from draftfast.optimize import run\n",
    "from draftfast.orm import Player\n",
    "from draftfast.csv_parse import salary_download\n",
    "from draftfast.settings import OptimizerSettings, CustomRule, PlayerPoolSettings\n",
    "from draftfast.lineup_constraints import LineupConstraints\n",
    "import pandas as pd\n",
    "import numpy as np\n",
    "from scipy import stats\n",
    "from spread import get_metabet_spread, get_current_rankings, get_fantasy_def_points_against\n",
    "from collections import defaultdict\n",
    "\n",
    "# https://www.pro-football-reference.com/years/2021/fantasy.htm\n",
    "\n",
    "SALARY_FILE = './data/1_22.csv'\n",
    "WEEK = 20\n",
    "MIN_SALARY = 4799\n",
    "WEIGHTED = True\n",
    "\n",
    "ACTIVE_FILE = './data/active.csv'\n",
    "MAX_PLAYED = WEEK - 1\n",
    "print('ready')"
   ]
  },
  {
   "cell_type": "code",
   "execution_count": null,
   "id": "35b3562d-9ae0-4c41-b67c-3acc1a1f45ab",
   "metadata": {},
   "outputs": [],
   "source": []
  },
  {
   "cell_type": "code",
   "execution_count": 1005,
   "id": "a7510da3-656a-4741-92c6-11bf57375de3",
   "metadata": {},
   "outputs": [
    {
     "name": "stdout",
     "output_type": "stream",
     "text": [
      "return cached data week 20\n",
      "(32, 52)\n"
     ]
    }
   ],
   "source": [
    "# https://www.lineups.com/nfl-team-rankings\n",
    "ranking_df = get_current_rankings(WEEK, 'MTI0NTQ2MDU3OQ==', True)\n",
    "\n",
    "def get_abbr(x):\n",
    "    try:\n",
    "        if type(x) is not dict:\n",
    "            x = eval(x)\n",
    "        return x['team_abbr']\n",
    "    except Exception as e:\n",
    "        print(e,x)\n",
    "        \n",
    "\n",
    "print(ranking_df.shape)\n",
    "ranking_df['team'] = ranking_df['nav'].apply(get_abbr)\n",
    "# DEF_KEYS = ['passing_interceptions_rank'\n",
    "# ranking_df['def_rank'] = ranking_df.apply(lambda row: np.avg([row[k] for k in DEF_KEYS]))\n",
    "num_teams = ranking_df.shape[0]\n"
   ]
  },
  {
   "cell_type": "code",
   "execution_count": 1006,
   "id": "78442e80-0f28-4d01-85e7-acfabb8c76a5",
   "metadata": {},
   "outputs": [
    {
     "name": "stdout",
     "output_type": "stream",
     "text": [
      "{'ATL', 'CLE', 'MIA', 'NYJ', 'PIT', 'CIN', 'BUF', 'DAL', 'NO', 'SF', 'PHI', 'DEN', 'MIN', 'CAR', 'TEN', 'HOU', 'IND', 'ARI', 'OAK', 'BAL', 'SEA', 'LAC', 'DET', 'LAR', 'CHI', 'WAS', 'KC', 'NYG', 'JAX', 'TB', 'GB', 'NE'} 32\n"
     ]
    },
    {
     "data": {
      "text/plain": [
       "{'Unnamed: 0': 2,\n",
       " 'points_def': 385,\n",
       " 'passing_completions': 409,\n",
       " 'touchdowns': 47,\n",
       " 'turnover_rank': 26,\n",
       " 'rushing_attempts_rank': 18,\n",
       " 'offensive_yards_rank': 10,\n",
       " 'first_downs': 358,\n",
       " 'rushing_touchdowns': 18,\n",
       " 'offensive_rating_rank': 3,\n",
       " 'turnover': 16,\n",
       " 'red_zone_conversions_rank': 27,\n",
       " 'red_zone_percentage_rank': 29,\n",
       " 'passing_yards_rank': 11,\n",
       " 'offensive_plays': 1076,\n",
       " 'third_down_percentage_rank': 23,\n",
       " 'nav': \"{'team_logo_bordered': 'assets/images/nfl/logos/bordered/philadelphia-eagles-largest.svg', 'team_name': 'Eagles', 'opp_division': 'South', 'opp_logo_bordered': 'assets/images/nfl/logos/bordered/tampa-bay-buccaneers-largest.svg', 'team_rank': '2nd', 'opp_depth_chart_route': '/nfl/depth-charts/tampa-bay-buccaneers', 'team_conference': 'NFC', 'opp_league': 'NFC', 'opp_news_route': '/nfl/news/tampa-bay-buccaneers', 'opp_name_full': 'Tampa Bay Buccaneers', 'status': {}, 'opp_name': 'Buccaneers', 'matchup_route': None, 'matchup_news_route': '/nfl/news/matchups/phi-tb', 'game_key': '202130133', 'team_depth_chart_route': '/nfl/depth-charts/philadelphia-eagles', 'team_league': 'NFC', 'opp_conference': 'NFC', 'opp_roster_route': '/nfl/roster/tampa-bay-buccaneers', 'opp_abbr': 'TB', 'team_stats_route': '/nfl/team-stats/philadelphia-eagles', 'team_record': '9-8', 'updated': None, 'opp_logo_white': 'assets/images/nfl/logos/white/tampa-bay-buccaneers-white.svg', 'team_logo_white': 'assets/images/nfl/logos/white/philadelphia-eagles-white.svg', 'matchup_time': '2022-01-16T18:00:00+00:00', 'is_home': False, 'team_division': 'East', 'team_snaps_route': '/nfl/snap-counts/philadelphia-eagles-snap-counts', 'team_roster_route': '/nfl/roster/philadelphia-eagles', 'team_injuries_route': '/nfl/player-injuries/philadelphia-eagles', 'team_name_full': 'Philadelphia Eagles', 'opp_injuries_route': '/nfl/player-injuries/tampa-bay-buccaneers', 'matchup_season': 2021, 'team_schedule_route': '/nfl/schedule/philadelphia-eagles', 'opp_rank': '1st', 'opp_schedule_route': '/nfl/schedule/tampa-bay-buccaneers', 'team_news_route': '/nfl/news/philadelphia-eagles', 'team_abbr': 'PHI', 'opp_record': '13-4'}\",\n",
       " 'rushing_attempts': 458,\n",
       " 'passing_interceptions_rank': 20,\n",
       " 'passing_attempts_rank': 16,\n",
       " 'points_rank_def': 18,\n",
       " 'team_fk__full_name': 'Philadelphia Eagles',\n",
       " 'passing_attempts': 589,\n",
       " 'overall_rating_rank': 29,\n",
       " 'first_downs_rank': 23,\n",
       " 'passing_touchdowns_rank': 20,\n",
       " 'special_teams_ratings_rank': 27,\n",
       " 'overall_rating': 70,\n",
       " 'red_zone_attempts': 60,\n",
       " 'red_zone_attempts_rank': 23,\n",
       " 'fantasy_points': 107,\n",
       " 'third_down_percentage': 42.9,\n",
       " 'offensive_yards': 5590,\n",
       " 'fourth_down_percentage': 48.3,\n",
       " 'rushing_touchdowns_rank': 23,\n",
       " 'rushing_yards_rank': 9,\n",
       " 'sacks_rank': 31,\n",
       " 'fourth_down_percentage_rank': 11,\n",
       " 'red_zone_conversions': 40,\n",
       " 'points_rank': 2,\n",
       " 'defensive_rating_rank': 18,\n",
       " 'offensive_plays_rank': 18,\n",
       " 'passing_interceptions': 12,\n",
       " 'passing_touchdowns': 28,\n",
       " 'touchdowns_rank': 22,\n",
       " 'fantasy_points_rank': 16,\n",
       " 'red_zone_percentage': 66.7,\n",
       " 'sacks': 29,\n",
       " 'passing_yards': 3756,\n",
       " 'passing_completions_rank': 28,\n",
       " 'rushing_yards': 1834,\n",
       " 'points': 30,\n",
       " 'team': 'PHI'}"
      ]
     },
     "execution_count": 1006,
     "metadata": {},
     "output_type": "execute_result"
    }
   ],
   "source": [
    "rankings = {x['team']: x for x in ranking_df.to_dict('records')}\n",
    "# rankings\n",
    "teams = set(rankings.keys())\n",
    "print(teams, len(teams))\n",
    "rankings['LV'] = rankings['OAK']\n",
    "rankings['JAC'] = rankings['JAX']\n",
    "del rankings['OAK']\n",
    "rankings['PHI']"
   ]
  },
  {
   "cell_type": "code",
   "execution_count": 1007,
   "id": "a2ee0eff-bf01-4d44-8919-2f01cfb793bf",
   "metadata": {},
   "outputs": [
    {
     "name": "stdout",
     "output_type": "stream",
     "text": [
      "return cached data week 20\n",
      "favor_map teams 8\n",
      "{'TEN': -3.5, 'CIN': 3.5, 'GB': -5.52, 'SF': 5.52, 'TB': -2.88, 'LAR': 2.88, 'KC': -1.88, 'BUF': 1.88}\n"
     ]
    },
    {
     "data": {
      "text/plain": [
       "{'TEN': -0.5798747606633747,\n",
       " 'CIN': -0.5798747606633747,\n",
       " 'GB': -0.7470779125110988,\n",
       " 'SF': -0.7470779125110988,\n",
       " 'TB': -0.391326525601052,\n",
       " 'LAR': -0.391326525601052,\n",
       " 'KC': 1.7182791987755255,\n",
       " 'BUF': 1.7182791987755255}"
      ]
     },
     "execution_count": 1007,
     "metadata": {},
     "output_type": "execute_result"
    }
   ],
   "source": [
    "\n",
    "spread_df = get_metabet_spread(WEEK)\n",
    "favor_map = {}\n",
    "z_map = {}\n",
    "z_scores = {}\n",
    "\n",
    "if 'OverUnder' in spread_df.columns.values:\n",
    "    points = list(spread_df['OverUnder'])\n",
    "    zs = stats.zscore(points)\n",
    "    for i, p in enumerate(points):\n",
    "        z_scores[p] = zs[i]\n",
    "\n",
    "# https://madduxsports.com/how-to-read-nfl-odds-lines.html\"\n",
    "for index, row in spread_df.iterrows():\n",
    "    home, away = row['HomeTeam'], row['AwayTeam']\n",
    "    favor_map[home] = row['PointSpread']\n",
    "    favor_map[away] = -row['PointSpread']\n",
    "    if 'OverUnder' in row:\n",
    "        z_map[home] = z_scores[row['OverUnder']]\n",
    "        z_map[away] = z_scores[row['OverUnder']]\n",
    "    \n",
    "\n",
    "    \n",
    "if 'JAX' in favor_map:\n",
    "    favor_map['JAC'] = favor_map['JAX']\n",
    "    z_map['JAC'] = z_map['JAX']\n",
    "    \n",
    "if 'LVS' in favor_map:\n",
    "    favor_map['LV'] = favor_map['LVS']\n",
    "    z_map['LV'] = z_map['LVS']\n",
    "\n",
    "print('favor_map teams', len(favor_map))\n",
    "print(favor_map)\n",
    "z_map"
   ]
  },
  {
   "cell_type": "code",
   "execution_count": 1008,
   "id": "4482ab40-b192-43f9-ab60-b418bfa473a6",
   "metadata": {},
   "outputs": [
    {
     "name": "stdout",
     "output_type": "stream",
     "text": [
      "             FPPG      Played       Salary  Tier  Unnamed: 14  Unnamed: 15\n",
      "count  253.000000  253.000000   253.000000   0.0          0.0          0.0\n",
      "mean     4.664871    8.229249  5016.600791   NaN          NaN          NaN\n",
      "std      5.329601    5.556600  1153.308348   NaN          NaN          NaN\n",
      "min     -0.666667    1.000000  3400.000000   NaN          NaN          NaN\n",
      "25%      1.020000    4.000000  4500.000000   NaN          NaN          NaN\n",
      "50%      2.900000    7.000000  4500.000000   NaN          NaN          NaN\n",
      "75%      6.572222   13.000000  5400.000000   NaN          NaN          NaN\n",
      "max     25.361111   18.000000  9500.000000   NaN          NaN          NaN\n",
      "ordered_teams [('GB', -5.52), ('TEN', -3.5), ('TB', -2.88), ('KC', -1.88), ('BUF', 1.88), ('LAR', 2.88), ('CIN', 3.5), ('SF', 5.52)]\n",
      "top_teams ['GB', 'TEN', 'TB', 'KC', 'BUF', 'LAR', 'CIN', 'SF']\n",
      "excluded_teams set()\n",
      "Excluding: 206\n"
     ]
    }
   ],
   "source": [
    "df = pd.read_csv(SALARY_FILE, na_values= '')\n",
    "df = df.fillna(df.median())\n",
    "print(df.describe())\n",
    "\n",
    "df['Name'] = df['First Name'] + \" \" + df['Last Name']\n",
    "df['Salary/FPPG'] = df['FPPG'] / df['Salary']\n",
    "\n",
    "all_teams = favor_map.keys()\n",
    "winning_teams = [x for x in all_teams if favor_map[x] < 0]\n",
    "ordered_teams = sorted(all_teams, key=lambda x: favor_map[x])\n",
    "print('ordered_teams', [(x, favor_map[x]) for x in ordered_teams])\n",
    "# excluded_teams = set([x for x in all_teams if favor_map[x] > -MIN_FAVORED])\n",
    "# top_teams = winning_teams\n",
    "team_offset = 1\n",
    "half_teams = int(len(ordered_teams)/2)\n",
    "top_teams = ordered_teams#[team_offset:team_offset+int(half_teams)]\n",
    "print(f\"top_teams {top_teams}\")\n",
    "excluded_teams = set(all_teams) - set(top_teams)\n",
    "print(f\"excluded_teams {excluded_teams}\")\n",
    "\n",
    "questionable_players = list(df[(~df['Injury Indicator'].isna()) | (~df['Injury Details'].isna())]['Name'])\n",
    "low_salary_players = list(df[((df['Salary'] < MIN_SALARY)) & (df['Position'] != 'D')]['Name'])\n",
    "\n",
    "excluded_players = [*questionable_players, *low_salary_players]\n",
    "excluded_teams = list(df[(df['Position'] == 'D') & df['Team'].isin(excluded_teams)]['Name'])\n",
    "\n",
    "if excluded_teams:\n",
    "    excluded_players.extend(excluded_teams)\n",
    "\n",
    "# excluded_players = [\"Rob Gronkowski\"]\n",
    "print(f\"Excluding: {len(excluded_players)}\")\n",
    "\n",
    "\n",
    "custom_adds = []\n",
    "\n",
    "custom_adds = ['Travis Kelce', 'Clyde Edwards-Helaire', \"Emmanuel Sanders\", \"D'Onta Foreman\", \"Van Jefferson\",\"Rob Gronkowski\", \"Aaron Jones\", \"Giovani Bernard\",\"George Kittle\"]#, \"Ja'Marr Chase\"]\n",
    "# custom_adds = ['AJ Dillon','Darrel Williams']#, 'Deebo Samuel']\n",
    "\n",
    "if excluded_players:\n",
    "    excluded_players.extend(custom_adds)\n",
    "    \n",
    "questionable_df = df[(df['Name'].isin(set(questionable_players)))]\n",
    "    \n",
    "excluded_df = df[(df['Name'].isin(set(excluded_players)))]\n",
    "    \n",
    "df = df[(~df['Name'].isin(set(excluded_players)))]# & (df['FPPG'] > 0) & (df['Played'] > 0)"
   ]
  },
  {
   "cell_type": "code",
   "execution_count": null,
   "id": "d9a6d48d-9b14-4217-ac3a-4d6f7c36ab9e",
   "metadata": {},
   "outputs": [],
   "source": []
  },
  {
   "cell_type": "code",
   "execution_count": 1009,
   "id": "75dd3adb-7ad4-4601-8961-c0e46d1ed414",
   "metadata": {},
   "outputs": [
    {
     "name": "stdout",
     "output_type": "stream",
     "text": [
      "['TEN', 'GB', 'TB', 'KC']\n"
     ]
    }
   ],
   "source": [
    "print(winning_teams)"
   ]
  },
  {
   "cell_type": "code",
   "execution_count": 1010,
   "id": "1348f4a4-a1fe-4028-8a65-3d14c7fa61d6",
   "metadata": {},
   "outputs": [
    {
     "name": "stdout",
     "output_type": "stream",
     "text": [
      "['./history/week14.csv', './history/week15.csv', './history/week16.csv', './history/week17.csv'] 4\n",
      "Using 4 weeks of history\n",
      "638\n"
     ]
    }
   ],
   "source": [
    "# http://rotoguru1.com/cgi-bin/fyday.pl?week=1&game=fd&scsv=1\n",
    "\n",
    "start_week = WEEK-6# take last few games for momentum weighting.\n",
    "\n",
    "file_names = [f\"./history/week{week_number}.csv\" for week_number in range(start_week, WEEK+1) if week_number != 18 and os.path.isfile(f\"./history/week{week_number}.csv\")]\n",
    "print(file_names, len(file_names))\n",
    "\n",
    "history_dfs = [pd.read_csv(f, delimiter=\";\") for f in file_names]\n",
    "print(f\"Using {len(history_dfs)} weeks of history\")\n",
    "historic_data=pd.concat(history_dfs)\n",
    "\n",
    "if len(historic_data) > 0:\n",
    "    REPLACE_MAP = {\n",
    "        'LA': 'Los Angeles',\n",
    "        '.':'',\n",
    "    }\n",
    "\n",
    "    def name_map(x):\n",
    "        result = ' '.join(x.split(', ')[::-1])\n",
    "        for k in REPLACE_MAP:\n",
    "            result = result.replace(k, REPLACE_MAP[k])\n",
    "        return result\n",
    "\n",
    "\n",
    "    historic_data['Name'] = historic_data['Name'].apply(name_map)\n",
    "    team_data = historic_data[historic_data['Pos'] == 'Def']\n",
    "\n",
    "    historic_data[:1]\n",
    "    historic_averages = historic_data.groupby(\"Name\").mean()['FD points'].to_dict()\n",
    "    historic_averages['Patrick Mahomes'] = historic_averages['Patrick Mahomes II']\n",
    "    historic_averages['Darrell Henderson Jr'] = historic_averages['Darrell Henderson']\n",
    "    # historic_averages\n",
    "\n",
    "    team_averages = team_data.groupby(\"Team\").mean()['FD points'].to_dict()\n",
    "    team_averages['gb'] = team_averages.get('gnb')\n",
    "    team_averages['kc'] = team_averages.get('kan')\n",
    "    team_averages['ne'] = team_averages.get('nwe')\n",
    "    team_averages['tb'] = team_averages.get('tam')\n",
    "    team_averages['lv'] = team_averages.get('lvr')\n",
    "    team_averages['no'] = team_averages.get('nor')\n",
    "    team_averages['sf'] = team_averages.get('sfo')\n",
    "    # print(team_averages)\n",
    "    \n",
    "    for k,v in team_averages.items():\n",
    "        historic_averages[k] = team_averages[k]\n",
    "print(len(historic_averages))"
   ]
  },
  {
   "cell_type": "code",
   "execution_count": 1011,
   "id": "551121be-b331-4bbb-8512-f02f1dc065d2",
   "metadata": {},
   "outputs": [
    {
     "name": "stdout",
     "output_type": "stream",
     "text": [
      "bonus TB Leonard Fournette 0.6\n",
      "bonus KC Darrel Williams 0.47472220526801223\n",
      "bonus TB Cyril Grayson 0.6\n",
      "bonus LAR Darrell Henderson Jr. 0.6\n",
      "bonus TB Chris Godwin 0.6\n",
      "bonus TB Antonio Brown 0.6\n",
      "bonus LAR Robert Woods 0.6\n",
      "defaultdict(<function <lambda> at 0x16337ed40>, {'TB': 2.4, 'KC': 0.47472220526801223, 'LAR': 1.2})\n"
     ]
    }
   ],
   "source": [
    "excluded_bonus = defaultdict(lambda: 0)\n",
    "\n",
    "for index, p in questionable_df.iterrows():\n",
    "    pos = p['Position']\n",
    "    if pos in ['TE', 'WR', 'RB', 'QB']:\n",
    "        points = p['FPPG']\n",
    "        if points > 7:\n",
    "            if pos == 'QB':\n",
    "                # subtract for QB\n",
    "                amt = -min(points * .08, .8)\n",
    "            else:\n",
    "                amt = min(points * .05, .6)\n",
    "            print('bonus', p['Team'], p['Name'], amt)\n",
    "            \n",
    "            excluded_bonus[p['Team']] += amt\n",
    "        \n",
    "print(excluded_bonus)"
   ]
  },
  {
   "cell_type": "code",
   "execution_count": null,
   "id": "0989a305-8f5b-4edb-bdb0-6c4429700ca5",
   "metadata": {},
   "outputs": [],
   "source": []
  },
  {
   "cell_type": "code",
   "execution_count": 1012,
   "id": "949a826a-a13c-4607-9267-dffe5e7cab29",
   "metadata": {},
   "outputs": [
    {
     "name": "stdout",
     "output_type": "stream",
     "text": [
      "wrote ./data/active.csv, (77, 19)\n"
     ]
    }
   ],
   "source": [
    "df.to_csv(ACTIVE_FILE)\n",
    "print(f\"wrote {ACTIVE_FILE}, {df.shape}\")"
   ]
  },
  {
   "cell_type": "code",
   "execution_count": 1013,
   "id": "d18adec1-3218-408b-8d88-0918abd8d340",
   "metadata": {},
   "outputs": [],
   "source": [
    "# https://www.fanduel.com/nfl-guide\n",
    "# Use min/max + roster_size to accomodate flex position. FD roster_size = 9\n",
    "def get_nfl_positions():\n",
    "    return [\n",
    "        ['QB', 1, 1],\n",
    "        ['RB', 2 ,3],\n",
    "        ['WR', 3, 4],\n",
    "        ['TE', 1, 2],\n",
    "        ['D', 1, 1]\n",
    "    ]               "
   ]
  },
  {
   "cell_type": "code",
   "execution_count": 1014,
   "id": "305f4048-31c6-45ef-bbbd-e5840ca6f812",
   "metadata": {},
   "outputs": [
    {
     "data": {
      "text/plain": [
       "{'D': 7.522058823529412,\n",
       " 'QB': 7.205102178775054,\n",
       " 'RB': 10.446835561272609,\n",
       " 'TE': 6.6170195325215655,\n",
       " 'WR': 9.654727691791294,\n",
       " 'DEF': 7.522058823529412}"
      ]
     },
     "execution_count": 1014,
     "metadata": {},
     "output_type": "execute_result"
    }
   ],
   "source": [
    "m_score = df.groupby(['Position'])['FPPG'].mean().to_dict()\n",
    "m_score['DEF'] = m_score['D']\n",
    "    \n",
    "m_score"
   ]
  },
  {
   "cell_type": "code",
   "execution_count": 1015,
   "id": "5040830b-4890-45cf-aae2-d722687a2f51",
   "metadata": {},
   "outputs": [
    {
     "name": "stdout",
     "output_type": "stream",
     "text": [
      "9000\n"
     ]
    }
   ],
   "source": [
    "max_salary = np.percentile(df[df['Salary'] >= MIN_SALARY]['Salary'], 99)-1\n",
    "max_salary = 9000\n",
    "print(max_salary)"
   ]
  },
  {
   "cell_type": "code",
   "execution_count": 1016,
   "id": "d48fa40a-8185-4668-9eab-c1531ee638dc",
   "metadata": {},
   "outputs": [
    {
     "data": {
      "text/plain": [
       "(8, 19)"
      ]
     },
     "execution_count": 1016,
     "metadata": {},
     "output_type": "execute_result"
    }
   ],
   "source": [
    "df[df['Position'] == 'D'].shape"
   ]
  },
  {
   "cell_type": "code",
   "execution_count": 1017,
   "id": "d5bdc7cd-1d73-4528-a771-7480656a4b66",
   "metadata": {},
   "outputs": [
    {
     "name": "stdout",
     "output_type": "stream",
     "text": [
      "{'site': 'FAN_DUEL', 'league': 'NFL', 'roster_size': 9, 'position_limits': [['QB', 1, 1], ['RB', 2, 3], ['WR', 3, 4], ['TE', 1, 2], ['D', 1, 1]], 'general_position_limits': [], 'salary_min': 59900, 'salary_max': 60000, 'offensive_positions': ['QB', 'RB', 'WR', 'TE', 'FLEX', 'WR/FLEX'], 'defensive_positions': ['D', 'DEF'], 'game_type': 'classic', 'max_players_per_team': 9, 'position_per_team_rules': None, 'min_teams': None}\n"
     ]
    }
   ],
   "source": [
    "ACTIVE_RULE_SET = rules.FD_NFL_RULE_SET\n",
    "# Overrides (position limits, salary, roster size, positions, etc.\n",
    "ACTIVE_RULE_SET.salary_max = 60000\n",
    "ACTIVE_RULE_SET.salary_min = ACTIVE_RULE_SET.salary_max - 100\n",
    "ACTIVE_RULE_SET.defensive_positions = ['D', 'DEF']\n",
    "ACTIVE_RULE_SET.offensive_positions = ['QB', 'RB', 'WR', 'TE', 'FLEX', 'WR/FLEX']\n",
    "ACTIVE_RULE_SET.position_limits = get_nfl_positions()\n",
    "ACTIVE_RULE_SET.max_players_per_team = 9\n",
    "ACTIVE_RULE_SET.roster_size = 9\n",
    "print(ACTIVE_RULE_SET.__dict__)\n",
    "\n",
    "ALL_POSITIONS = [*ACTIVE_RULE_SET.defensive_positions, *ACTIVE_RULE_SET.offensive_positions]"
   ]
  },
  {
   "cell_type": "code",
   "execution_count": 1018,
   "id": "31749e22-1ba6-4f5b-a805-98fbabe9b92f",
   "metadata": {},
   "outputs": [
    {
     "name": "stdout",
     "output_type": "stream",
     "text": [
      "return cached data week 20\n"
     ]
    },
    {
     "data": {
      "text/plain": [
       "{'Jacksonville Jaguars': {'rank': 32, 'allowed': 9.71},\n",
       " 'Atlanta Falcons': {'rank': 31, 'allowed': 9.59},\n",
       " 'New York Giants': {'rank': 30, 'allowed': 9.59},\n",
       " 'Carolina Panthers': {'rank': 29, 'allowed': 9.47},\n",
       " 'Chicago Bears': {'rank': 28, 'allowed': 9.12},\n",
       " 'Baltimore Ravens': {'rank': 27, 'allowed': 8.35},\n",
       " 'New York Jets': {'rank': 26, 'allowed': 8.24},\n",
       " 'Houston Texans': {'rank': 25, 'allowed': 7.65},\n",
       " 'Washington Football Team': {'rank': 24, 'allowed': 7.53},\n",
       " 'Denver Broncos': {'rank': 23, 'allowed': 7.53},\n",
       " 'Miami Dolphins': {'rank': 22, 'allowed': 7.41},\n",
       " 'Las Vegas Raiders': {'rank': 21, 'allowed': 6.94},\n",
       " 'Detroit Lions': {'rank': 20, 'allowed': 6.65},\n",
       " 'Cleveland Browns': {'rank': 19, 'allowed': 6.53},\n",
       " 'New Orleans Saints': {'rank': 18, 'allowed': 6.47},\n",
       " 'Tennessee Titans': {'rank': 17, 'allowed': 6.41},\n",
       " 'Cincinnati Bengals': {'rank': 16, 'allowed': 6.24},\n",
       " 'Pittsburgh Steelers': {'rank': 15, 'allowed': 6.06},\n",
       " 'New England Patriots': {'rank': 14, 'allowed': 5.71},\n",
       " 'Los Angeles Rams': {'rank': 13, 'allowed': 5.71},\n",
       " 'Seattle Seahawks': {'rank': 12, 'allowed': 5.47},\n",
       " 'San Francisco 49ers': {'rank': 11, 'allowed': 5.18},\n",
       " 'Los Angeles Chargers': {'rank': 10, 'allowed': 5.0},\n",
       " 'Arizona Cardinals': {'rank': 9, 'allowed': 4.65},\n",
       " 'Kansas City Chiefs': {'rank': 8, 'allowed': 4.59},\n",
       " 'Philadelphia Eagles': {'rank': 7, 'allowed': 4.24},\n",
       " 'Indianapolis Colts': {'rank': 6, 'allowed': 4.24},\n",
       " 'Minnesota Vikings': {'rank': 5, 'allowed': 4.18},\n",
       " 'Buffalo Bills': {'rank': 4, 'allowed': 4.12},\n",
       " 'Dallas Cowboys': {'rank': 3, 'allowed': 3.82},\n",
       " 'Green Bay Packers': {'rank': 2, 'allowed': 3.53},\n",
       " 'Tampa Bay Buccaneers': {'rank': 1, 'allowed': 3.41}}"
      ]
     },
     "execution_count": 1018,
     "metadata": {},
     "output_type": "execute_result"
    }
   ],
   "source": [
    "# Any additional player or custom rule constraints.\n",
    "#Player -  https://github.com/BenBrostoff/draftfast/blob/68625902ceea83e66ee9f13a44acd732f600f68f/draftfast/orm.py#L245\n",
    "\n",
    "# no players min cost (unlikely to play), low score, or favored to lose except overwhelming proj.\n",
    "# Use salary data from csv as optimization basis.\n",
    "# set((k, v['defensive_rating_rank']) for k,v in rankings.items())\n",
    "# rankings['BUF']\n",
    "\n",
    "allowed_map = get_fantasy_def_points_against(WEEK)\n",
    "allowed_map"
   ]
  },
  {
   "cell_type": "code",
   "execution_count": 1035,
   "id": "6426887b-fbdf-4502-898e-8373ad2f517d",
   "metadata": {},
   "outputs": [
    {
     "name": "stdout",
     "output_type": "stream",
     "text": [
      "Ja'Marr Chase 22.425 18.05013888888889 -0.19329158688779158 17.419347302001096 8200.0 0.0021243106465854995\n",
      "CJ Uzomah 5.55 6.500146942138673 -0.19329158688779158 5.869355355250882 5500.0 0.0010671555191365239\n",
      "Buffalo Bills 7.95 9.0 6.0\n",
      "players 77\n",
      "historic data used 56 of 77\n",
      "('BUF', 9.0, 0.23736110263400612, 4.59, 7.011361102634006, 3500.0, 0.0020032460293240018)\n",
      "('TEN', 7.235294117647059, 0.2, 6.24, 8.114036764705881, 4100.0, 0.001979033357245337)\n",
      "('KC', 7.5555555555555545, 0.2, 4.12, 7.222972222222222, 3700.0, 0.0019521546546546547)\n",
      "('LAR', 7.611111111111112, 1.2, 3.41, 7.941069444444445, 4300.0, 0.0018467603359173129)\n",
      "('TB', 8.333333333333334, 0.8, 5.71, 8.025583333333335, 4500.0, 0.0017834629629629635)\n",
      "('CIN', 6.4444444444444455, 0.0, 6.41, 5.876277777777779, 3400.0, 0.0017283169934640527)\n",
      "('SF', 7.0555555555555545, 0.0, 3.53, 6.036472222222222, 3700.0, 0.0016314789789789788)\n",
      "('GB', 6.941176470588236, 0.2, 5.18, 6.82252205882353, 4500.0, 0.0015161160130718956)\n",
      "\n",
      "---\n",
      "\n",
      "('Josh Allen', 25.36111111111111, 26.361722222222223, 26.699481955147398, 8800.0, 0.003034032040357659)\n",
      "('Joe Burrow', 20.341175752527565, 22.666514239142916, 22.035722652255124, 7700.0, 0.0028617821626305356)\n",
      "('Patrick Mahomes', 22.928888956705734, 23.137527821858725, 23.67056534951589, 8500.0, 0.002784772394060693)\n",
      "('Aaron Rodgers', 21.049999237060547, 21.886499504089354, 22.52747353325232, 8400.0, 0.0026818420872919426)\n",
      "('Tom Brady', 22.532221476236984, 21.44119395955404, 19.47075178435369, 7800.0, 0.0024962502287632937)\n",
      "('Matthew Stafford', 20.612221611870662, 19.16244404771593, 17.47200187251558, 7400.0, 0.002361081334123727)\n",
      "('Jimmy Garoppolo', 15.342499732971193, 15.70329149309794, 14.764265522260906, 6500.0, 0.0022714254649632165)\n",
      "('Ryan Tannehill', 16.609410903033087, 15.654117086971507, 16.098325500083714, 7300.0, 0.0022052500685046184)\n",
      "('Trey Lance', 11.153333028157554, 14.270666468302409, 13.331640497465376, 6200.0, 0.002150264596365383)\n",
      "('Jordan Love', 4.023333231608073, 3.1961666005452476, 3.8371406297082147, 6100.0, 0.0006290394474931499)\n",
      "('Shane Buechele', 2.8999998910086497, 2.8999998910086497, 3.433037418665813, 6000.0, 0.0005721729031109688)\n",
      "('DeShone Kizer', 2.8999998910086497, 2.8999998910086497, 3.3442083041208583, 6000.0, 0.0005573680506868097)\n",
      "('Josh Thomas', 2.8999998910086497, 2.8999998910086497, 3.237759623933825, 6000.0, 0.0005396266039889709)\n",
      "('Jake Browning', 2.8999998910086497, 2.8999998910086497, 2.269208304120858, 6000.0, 0.00037820138402014304)\n",
      "('Brandon Allen', 2.7719999313354493, 2.7719999313354493, 2.1412083444476577, 6100.0, 0.0003510177613848619)\n",
      "('Mitchell Trubisky', 1.4866666793823242, 1.4866666793823242, 1.8244264123074994, 6100.0, 0.00029908629709959005)\n",
      "('Ryan Griffin', 2.8999998910086497, 3.4074999291556223, 1.4370577539552714, 6000.0, 0.00023950962565921189)\n",
      "('Chad Henne', 0.8199999928474426, 0.4979999953508378, 1.0310375230080007, 6100.0, 0.00016902254475540995)\n",
      "('Kyle Trask', 2.8999998910086497, 2.8999998910086497, 0.9295577158082988, 6000.0, 0.0001549262859680498)\n",
      "('Kurt Benkert', -0.10000000149011612, -0.10000000096857548, 0.5409740281943916, 6000.0, 9.016233803239859e-05)\n",
      "('Logan Woodside', -0.15000000596046448, -0.1500000038743019, 0.29420840923790653, 6000.0, 4.9034734872984424e-05)\n",
      "('Davis Webb', -0.30000001192092896, -0.30000001192092896, 0.03775972100424618, 6000.0, 6.29328683404103e-06)\n",
      "('Tyler Bray', 0.2400000095367432, 0.2400000095367432, -0.6990259613002897, 6000.0, -0.00011650432688338162)\n",
      "('Nate Sudfeld', -0.25999999046325684, -0.25999999046325684, -1.1990259613002898, 6000.0, -0.00019983766021671498)\n",
      "('Blaine Gabbert', 0.3300000031789144, 0.3300000031789144, -1.6404421720214364, 6000.0, -0.0002734070286702394)\n",
      "('Devlin Hodges', 0.0, 0.0, -1.6904421752003507, 6000.0, -0.00028174036253339176)\n",
      "('Bryce Perkins', 0.0, 0.0, -1.6904421752003507, 6000.0, -0.00028174036253339176)\n",
      "('John Wolford', -0.44999998807907104, -0.44999998807907104, -2.1404421632794217, 6100.0, -0.0003508921579146593)\n"
     ]
    }
   ],
   "source": [
    "players = salary_download.generate_players_from_csvs(salary_file_location=ACTIVE_FILE, game=rules.FAN_DUEL)\n",
    "\n",
    "FAVOR_DIVISION = 8\n",
    "AVERAGE_WEIGHT = .65\n",
    "OVERUNDER_DIVISION = 3\n",
    "\n",
    "defenses = []\n",
    "qbs = []\n",
    "\n",
    "historic_data_used = 0\n",
    "\n",
    "for p in players:\n",
    "    p.average_score = m_score[p.pos]\n",
    "    name = p.name.replace('.', '')\n",
    "    \n",
    "    if WEIGHTED:\n",
    "        base_score = p.proj\n",
    "        average_score = p.proj\n",
    "        \n",
    "        history_key = name_map(p.name) if p.pos != 'D' else p.team.lower()\n",
    "        history_value = historic_averages.get(history_key)\n",
    "        if history_value:\n",
    "            new_score = AVERAGE_WEIGHT*average_score + (1-AVERAGE_WEIGHT)*history_value\n",
    "            base_score = new_score\n",
    "            if 'Buffalo' in p.name:\n",
    "                print(p.name, base_score, average_score, history_value)\n",
    "            historic_data_used+=1\n",
    "        else:\n",
    "            new_score = None\n",
    "            # print('no historic data', history_key)\n",
    "            \n",
    "        \n",
    "        rank_bonus = 0\n",
    "        \n",
    "        # print('rank_bonus', rank_bonus)\n",
    "        teams = p.matchup.split('@')\n",
    "        \n",
    "        \n",
    "        is_home = p.team == teams[1]\n",
    "        if is_home:\n",
    "            rank_bonus += 0.2\n",
    "\n",
    "        teams.remove(p.team) # remove current players team\n",
    "        opponent = teams[0]\n",
    "        \n",
    "        point_bonus = z_map.get(p.team, 0)\n",
    "        if point_bonus and p.pos != 'D':\n",
    "            # max(0, point_bonus/4)\n",
    "            overunder_bonus = -point_bonus/OVERUNDER_DIVISION if p.pos == 'D' else point_bonus/OVERUNDER_DIVISION # lower points better for defensive scoring.\n",
    "            rank_bonus += overunder_bonus\n",
    "            \n",
    "        # current_rank = rankings[p.team]['overall_rating_rank']\n",
    "        # opp_rank = rankings[opponent]['overall_rating_rank']\n",
    "        current_rank = rankings[p.team]['defensive_rating_rank']\n",
    "        opp_rank = num_teams - rankings[opponent]['offensive_rating_rank']\n",
    "\n",
    "        if p.pos == 'D':\n",
    "            opp_bonus = excluded_bonus[opponent]/2\n",
    "            rank_bonus += opp_bonus\n",
    "            opp_def_avg = allowed_map[rankings[opponent]['team_fk__full_name']]['allowed']\n",
    "            base_score = AVERAGE_WEIGHT*base_score + (1-AVERAGE_WEIGHT)*opp_def_avg\n",
    "        else:\n",
    "            if p.pos == 'QB':\n",
    "                # negative (downside for QB injuries)\n",
    "                injury_bonus = -excluded_bonus[p.team]\n",
    "            else:\n",
    "                injury_bonus = excluded_bonus[p.team] \n",
    "                \n",
    "            rank_bonus += injury_bonus\n",
    "            rank_bonus += -favor_map.get(p.team, 0)/FAVOR_DIVISION\n",
    "            \n",
    "        # overall_diff = opp_rank - current_rank # larger the better (should be between 1-32)\n",
    "        # rank_bonus += overall_diff/num_teams*1.5\n",
    "        p.proj = base_score + rank_bonus\n",
    "        \n",
    "        if p.pos == 'D':\n",
    "            defenses.append((p.team, average_score, rank_bonus, opp_def_avg, p.proj, p.cost, p.proj / p.cost))\n",
    "        elif p.pos == 'QB':\n",
    "            qbs.append((history_key, average_score, base_score, p.proj, p.cost, p.proj / p.cost))\n",
    "        \n",
    "        if 'Chase' in name or 'Uzomah' in name:# or p.pos == 'TE':\n",
    "            print(history_key, history_value, base_score, overunder_bonus, p.proj, p.cost, p.proj / p.cost)\n",
    "        \n",
    "\n",
    "print(f\"players {len(players)}\")\n",
    "print(f\"historic data used {historic_data_used} of {len(players)}\") \n",
    "# print(players)\n",
    "\n",
    "for x in sorted(defenses, key=lambda x: x[-1], reverse=True):\n",
    "    print(x)\n",
    "# print(excluded_bonus)\n",
    "print(\"\\n---\\n\")\n",
    "for x in sorted(qbs, key=lambda x: x[-1], reverse=True):\n",
    "    print(x)"
   ]
  },
  {
   "cell_type": "code",
   "execution_count": 1037,
   "id": "284e56b2-f3ba-48d5-8a2a-bfa3903ac6eb",
   "metadata": {},
   "outputs": [
    {
     "name": "stdout",
     "output_type": "stream",
     "text": [
      "+----------+------------------+------+---------+--------+--------------------+----------+--------+\n",
      "| Position | Player           | Team | Matchup | Salary |         Projection | vs. Avg. | Locked |\n",
      "+----------+------------------+------+---------+--------+--------------------+----------+--------+\n",
      "| QB       | Josh Allen       | BUF  | BUF@KC  |  8,800 | 26.699481955147398 |    \u001b[0;32;40m17.03\u001b[0m |        |\n",
      "| RB       | Derrick Henry    | TEN  | CIN@TEN |  9,000 | 23.481708794581937 |    \u001b[0;32;40m13.03\u001b[0m |        |\n",
      "| RB       | Sony Michel      | LAR  | LAR@TB  |  5,300 | 10.880391378537713 |     \u001b[0;32;40m0.43\u001b[0m |        |\n",
      "| WR       | Davante Adams    | GB   | SF@GB   |  8,700 | 20.529723533252323 |    \u001b[0;32;40m10.87\u001b[0m |        |\n",
      "| WR       | Tee Higgins      | CIN  | CIN@TEN |  6,400 | 12.776458677597883 |     \u001b[0;32;40m3.12\u001b[0m |        |\n",
      "| WR       | Tyler Boyd       | CIN  | CIN@TEN |  5,800 | 10.259267446674365 |     \u001b[0;32;40m0.60\u001b[0m |        |\n",
      "| WR       | Gabriel Davis    | BUF  | BUF@KC  |  5,300 | 10.010780566258507 |     \u001b[0;32;40m0.36\u001b[0m |        |\n",
      "| TE       | Dawson Knox      | BUF  | BUF@KC  |  6,500 |  9.532134732925176 |     \u001b[0;32;40m2.92\u001b[0m |        |\n",
      "| D        | Tennessee Titans | TEN  | CIN@TEN |  4,100 |  8.114036764705881 |     \u001b[0;32;40m0.59\u001b[0m |        |\n",
      "+----------+------------------+------+---------+--------+--------------------+----------+--------+\n",
      "\n",
      "Projected Score: 132.28 \t Cost: $59,900\n",
      "min_favored -6\n",
      "spread weighted: True\n",
      "\n",
      "\n",
      "+----------+------------------+------+---------+--------+--------------------+----------+--------+\n",
      "| Position | Player           | Team | Matchup | Salary |         Projection | vs. Avg. | Locked |\n",
      "+----------+------------------+------+---------+--------+--------------------+----------+--------+\n",
      "| QB       | Josh Allen       | BUF  | BUF@KC  |  8,800 | 26.699481955147398 |    \u001b[0;32;40m17.03\u001b[0m |        |\n",
      "| RB       | Derrick Henry    | TEN  | CIN@TEN |  9,000 | 23.481708794581937 |    \u001b[0;32;40m13.03\u001b[0m |        |\n",
      "| RB       | Sony Michel      | LAR  | LAR@TB  |  5,300 | 10.880391378537713 |     \u001b[0;32;40m0.43\u001b[0m |        |\n",
      "| WR       | Davante Adams    | GB   | SF@GB   |  8,700 | 20.529723533252323 |    \u001b[0;32;40m10.87\u001b[0m |        |\n",
      "| WR       | Tee Higgins      | CIN  | CIN@TEN |  6,400 | 12.776458677597883 |     \u001b[0;32;40m3.12\u001b[0m |        |\n",
      "| WR       | Tyler Boyd       | CIN  | CIN@TEN |  5,800 | 10.259267446674365 |     \u001b[0;32;40m0.60\u001b[0m |        |\n",
      "| WR       | Gabriel Davis    | BUF  | BUF@KC  |  5,300 | 10.010780566258507 |     \u001b[0;32;40m0.36\u001b[0m |        |\n",
      "| TE       | Dawson Knox      | BUF  | BUF@KC  |  6,500 |  9.532134732925176 |     \u001b[0;32;40m2.92\u001b[0m |        |\n",
      "| D        | Tennessee Titans | TEN  | CIN@TEN |  4,100 |  8.114036764705881 |     \u001b[0;32;40m0.59\u001b[0m |        |\n",
      "+----------+------------------+------+---------+--------+--------------------+----------+--------+\n",
      "\n",
      "Projected Score: 132.28 \t Cost: $59,900\n",
      "min_favored -7\n",
      "spread weighted: True\n",
      "\n",
      "\n",
      "+----------+------------------+------+---------+--------+--------------------+----------+--------+\n",
      "| Position | Player           | Team | Matchup | Salary |         Projection | vs. Avg. | Locked |\n",
      "+----------+------------------+------+---------+--------+--------------------+----------+--------+\n",
      "| QB       | Josh Allen       | BUF  | BUF@KC  |  8,800 | 26.699481955147398 |    \u001b[0;32;40m17.03\u001b[0m |        |\n",
      "| RB       | Derrick Henry    | TEN  | CIN@TEN |  9,000 | 23.481708794581937 |    \u001b[0;32;40m13.03\u001b[0m |        |\n",
      "| RB       | Sony Michel      | LAR  | LAR@TB  |  5,300 | 10.880391378537713 |     \u001b[0;32;40m0.43\u001b[0m |        |\n",
      "| WR       | Davante Adams    | GB   | SF@GB   |  8,700 | 20.529723533252323 |    \u001b[0;32;40m10.87\u001b[0m |        |\n",
      "| WR       | Tee Higgins      | CIN  | CIN@TEN |  6,400 | 12.776458677597883 |     \u001b[0;32;40m3.12\u001b[0m |        |\n",
      "| WR       | Tyler Boyd       | CIN  | CIN@TEN |  5,800 | 10.259267446674365 |     \u001b[0;32;40m0.60\u001b[0m |        |\n",
      "| WR       | Gabriel Davis    | BUF  | BUF@KC  |  5,300 | 10.010780566258507 |     \u001b[0;32;40m0.36\u001b[0m |        |\n",
      "| TE       | Dawson Knox      | BUF  | BUF@KC  |  6,500 |  9.532134732925176 |     \u001b[0;32;40m2.92\u001b[0m |        |\n",
      "| D        | Tennessee Titans | TEN  | CIN@TEN |  4,100 |  8.114036764705881 |     \u001b[0;32;40m0.59\u001b[0m |        |\n",
      "+----------+------------------+------+---------+--------+--------------------+----------+--------+\n",
      "\n",
      "Projected Score: 132.28 \t Cost: $59,900\n",
      "min_favored -8\n",
      "spread weighted: True\n",
      "\n",
      "\n"
     ]
    }
   ],
   "source": [
    "# list(filter(lambda p: 'Burrow' in p.name, players))\n",
    "player_settings = PlayerPoolSettings()\n",
    "LOCKED = []\n",
    "BLOCKED_TEAMS = []\n",
    "\n",
    "# overrides:\n",
    "# LOCKED = ['Josh Allen', 'Tee Higgins', \"Ja'Marr Chase\"]#, 'Rob Gronkowski']#, 'C.J. Uzomah']#'Davante Adams']\n",
    "# LOCKED = ['Eli Mitchell']#, 'Allen Lazard', \"Ja'Marr Chase\", \"Tee Higgins\"]\n",
    "# LOCKED = ['Buffalo Bills','Josh Allen']\n",
    "# LOCKED = ['Tee Higgins', 'Eli Mitchell', 'Buffalo Bills', 'Tyler Higbee', \"Ja'Marr Chase\"]\n",
    "# LOCKED = ['Tee Higgins', 'Eli Mitchell', 'Buffalo Bills', \"Ja'Marr Chase\", \"Josh Allen\"]#, 'Tee Higgins']\n",
    "# BLOCKED_TEAMS = []\n",
    "\n",
    "constraints = LineupConstraints(locked=LOCKED)\n",
    "\n",
    "MIN_PROJ = 8.7\n",
    "min_favored = -6\n",
    "MIN_LIMIT = -8\n",
    "\n",
    "roster = None\n",
    "best_roster = None\n",
    "best_score = 0\n",
    "\n",
    "\n",
    "get_score = lambda roster: sum([p.proj for p in roster.players])\n",
    "\n",
    "while min_favored >= MIN_LIMIT:\n",
    "    def block_function(p):\n",
    "        store = p.kv_store\n",
    "        played = int(float(store.get('Played', -1)))\n",
    "        \n",
    "        if 'Single' in p.name:\n",
    "            return True\n",
    "        \n",
    "        should_skip = ((p.team in BLOCKED_TEAMS or p.proj < MIN_PROJ) and p.pos != 'D') or (p.cost > max_salary and p.pos != 'QB') or played < MAX_PLAYED/3 or (p.pos == 'QB' and p.proj < 12)# or (favor_map.get(p.team, 0) > -min_favored)\n",
    "    \n",
    "        #print(p.name, played, MAX_PLAYED)\n",
    "        return should_skip\n",
    "\n",
    "    opt_settings = OptimizerSettings(\n",
    "        custom_rules=[\n",
    "            CustomRule(\n",
    "                group_a=lambda p: p,\n",
    "                group_b=block_function, \n",
    "                comparison=lambda sum, a, b: sum(b) == 0\n",
    "            ),\n",
    "        ],\n",
    "        min_teams=len(defenses)/2+1\n",
    "    )\n",
    "\n",
    "    roster = run(\n",
    "        rule_set=ACTIVE_RULE_SET,\n",
    "        player_pool=players,\n",
    "        verbose=False,\n",
    "        optimizer_settings=opt_settings,\n",
    "        constraints=constraints,\n",
    "        player_settings=player_settings\n",
    "    )\n",
    "    \n",
    "    if roster:\n",
    "        # total_salary = sum([p.cost for p in roster.players])\n",
    "        print(roster)\n",
    "        print('min_favored', min_favored)# negative means players' teams can lose\n",
    "        print(f\"spread weighted: {WEIGHTED}\\n\\n\")\n",
    "        current_score = get_score(roster)\n",
    "        if not best_score or current_score > best_score:\n",
    "            best_score = current_score\n",
    "            best_roster = roster\n",
    "\n",
    "    min_favored -= 1\n",
    "    \n",
    "    if min_favored >= MIN_LIMIT:\n",
    "        roster = None\n",
    "        \n",
    "if not roster:\n",
    "    print(\"No solution\")\n",
    "elif not favor_map:\n",
    "    print(\"Warning: No favor map used\")"
   ]
  },
  {
   "cell_type": "code",
   "execution_count": null,
   "id": "56bf707e-4e66-44ac-bc15-4f66336731d2",
   "metadata": {},
   "outputs": [],
   "source": []
  },
  {
   "cell_type": "code",
   "execution_count": null,
   "id": "93868d49-5b21-44e0-9b11-0d3c16938a47",
   "metadata": {},
   "outputs": [],
   "source": []
  },
  {
   "cell_type": "code",
   "execution_count": 1021,
   "id": "106ddd43-54f7-4bd4-92d7-d09e647a084f",
   "metadata": {},
   "outputs": [
    {
     "name": "stdout",
     "output_type": "stream",
     "text": [
      "Davante Adams                -5.52                24.0 20.529723533252323 16.0 0\n",
      "Derrick Henry                 -3.5                     23.481708794581937 8.0 0\n",
      "Tennessee Titans              -3.5                     8.114036764705881 17.0 0\n",
      "Josh Allen                    1.88               28.22 26.699481955147398 18.0 0\n",
      "Dawson Knox                   1.88                7.35 9.532134732925176 16.0 0\n",
      "Gabriel Davis                 1.88  13.766666666666666 10.010780566258507 16.0 0\n",
      "Sony Michel                   2.88               14.45 10.880391378537713 18.0 1.2\n",
      "Tee Higgins                    3.5              15.575 12.776458677597883 15.0 0\n",
      "Tyler Boyd                     3.5  13.500000000000002 10.259267446674365 17.0 0\n",
      "---\n",
      "Total adv: 2.9999999999999982\n",
      "\n"
     ]
    }
   ],
   "source": [
    "# def find_id(first_name, last_name, pos):\n",
    "#     matches = df.loc[(df['First Name'] == first_name) & (df['Last Name'] == last_name) & (df['Position'] == pos)]\n",
    "#     if matches:||\n",
    "#         return matches.iloc[0]['Id']\n",
    "#     return None\n",
    "#print(f\"{\"Player\":20}{\"Advantage\":10}\")\n",
    "if favor_map:\n",
    "    roster = best_roster\n",
    "    sorted_players = sorted(roster.players, key=lambda x: favor_map[x.team])\n",
    "    net_score = 0\n",
    "    for p in sorted_players:\n",
    "        advantage = favor_map[p.team]\n",
    "        name = p.name.replace('.', '')\n",
    "        print(f\"{name:24}{advantage:>10}{historic_averages.get(name, ''):>20} {p.proj} {p.kv_store['Played']} {excluded_bonus[p.team]}\")#, p.kv_store['Played'], MAX_PLAYED)\n",
    "        net_score += advantage\n",
    "    print(f\"---\\nTotal adv: {net_score}\\n\")\n",
    "    roster.players[-1].__dict__\n",
    "\n"
   ]
  },
  {
   "cell_type": "markdown",
   "id": "0459bd08-225c-469a-9ced-d05c7f78ad82",
   "metadata": {},
   "source": []
  },
  {
   "cell_type": "code",
   "execution_count": null,
   "id": "778d7a6a-5f81-44e8-b3c3-00ca48222717",
   "metadata": {},
   "outputs": [],
   "source": []
  },
  {
   "cell_type": "code",
   "execution_count": 1022,
   "id": "5c014bcc-d99a-49bd-af57-380610fcc4b5",
   "metadata": {},
   "outputs": [
    {
     "name": "stdout",
     "output_type": "stream",
     "text": [
      "TEN Derrick Henry 23.481708794581937 10.446835561272609 9000.0   8.0\n",
      "BUF Josh Allen 26.699481955147398 7.205102178775054 8800.0   18.0\n",
      "GB Davante Adams 20.529723533252323 9.654727691791294 8700.0   16.0\n",
      "BUF Dawson Knox 9.532134732925176 6.6170195325215655 6500.0   16.0\n",
      "CIN Tee Higgins 12.776458677597883 9.654727691791294 6400.0   15.0\n",
      "CIN Tyler Boyd 10.259267446674365 9.654727691791294 5800.0   17.0\n",
      "BUF Gabriel Davis 10.010780566258507 9.654727691791294 5300.0   16.0\n",
      "LAR Sony Michel 10.880391378537713 10.446835561272609 5300.0   18.0\n",
      "TEN Tennessee Titans 8.114036764705881 7.522058823529412 4100.0   17.0\n"
     ]
    }
   ],
   "source": [
    "for r in roster.players:\n",
    "    print(r.team, r.name, r.proj, r.average_score, r.cost,  r.kv_store['Injury Indicator'], r.kv_store['Injury Details'], r.kv_store['Played'])\n",
    "    # if 'Zay' in r.name:\n",
    "    #     print(r.__dict__)"
   ]
  },
  {
   "cell_type": "code",
   "execution_count": 1023,
   "id": "8633b81b-eaa2-4311-a284-7e4fa7c76c06",
   "metadata": {},
   "outputs": [
    {
     "name": "stdout",
     "output_type": "stream",
     "text": [
      "done\n"
     ]
    }
   ],
   "source": [
    "# Create upload CSV by reordering columns to match template order.\n",
    "\n",
    "headers = []\n",
    "players = []\n",
    "ORDERED_COLS = ['QB','RB','RB','WR','WR','WR','TE','FLEX','DEF'] # template order.\n",
    "\n",
    "def get_match_names(col):\n",
    "    if col == 'DEF':\n",
    "        return ['D']\n",
    "    elif col == 'FLEX' :\n",
    "        return ['RB', 'WR']\n",
    "    return [col]\n",
    "\n",
    "roster_copy = roster.players.copy()\n",
    "for c in ORDERED_COLS:\n",
    "    headers.append(c)\n",
    "    match_names = get_match_names(c)\n",
    "    for r in roster_copy:\n",
    "        if r.pos in match_names:\n",
    "            p = f\"{r.kv_store['Id']}:{r.name}\"\n",
    "            players.append(p)\n",
    "            roster_copy.remove(r)\n",
    "            break\n",
    "\n",
    "with open('upload.csv', 'w') as f:\n",
    "    f.write(','.join(headers))\n",
    "    f.write('\\n')\n",
    "    f.write(','.join(players))\n",
    "\n",
    "print('done')\n"
   ]
  },
  {
   "cell_type": "code",
   "execution_count": 1024,
   "id": "094f3997-422e-48f8-9d09-4c6ef60246b8",
   "metadata": {},
   "outputs": [
    {
     "data": {
      "text/html": [
       "<div>\n",
       "<style scoped>\n",
       "    .dataframe tbody tr th:only-of-type {\n",
       "        vertical-align: middle;\n",
       "    }\n",
       "\n",
       "    .dataframe tbody tr th {\n",
       "        vertical-align: top;\n",
       "    }\n",
       "\n",
       "    .dataframe thead th {\n",
       "        text-align: right;\n",
       "    }\n",
       "</style>\n",
       "<table border=\"1\" class=\"dataframe\">\n",
       "  <thead>\n",
       "    <tr style=\"text-align: right;\">\n",
       "      <th></th>\n",
       "      <th>QB</th>\n",
       "      <th>RB</th>\n",
       "      <th>RB.1</th>\n",
       "      <th>WR</th>\n",
       "      <th>WR.1</th>\n",
       "      <th>WR.2</th>\n",
       "      <th>TE</th>\n",
       "      <th>FLEX</th>\n",
       "      <th>DEF</th>\n",
       "    </tr>\n",
       "  </thead>\n",
       "  <tbody>\n",
       "    <tr>\n",
       "      <th>0</th>\n",
       "      <td>70496-62239:Josh Allen</td>\n",
       "      <td>70496-39280:Derrick Henry</td>\n",
       "      <td>70496-53640:Sony Michel</td>\n",
       "      <td>70496-45889:Davante Adams</td>\n",
       "      <td>70496-89981:Tee Higgins</td>\n",
       "      <td>70496-40669:Tyler Boyd</td>\n",
       "      <td>70496-64585:Dawson Knox</td>\n",
       "      <td>70496-94534:Gabriel Davis</td>\n",
       "      <td>70496-12534:Tennessee Titans</td>\n",
       "    </tr>\n",
       "  </tbody>\n",
       "</table>\n",
       "</div>"
      ],
      "text/plain": [
       "                       QB                         RB                     RB.1  \\\n",
       "0  70496-62239:Josh Allen  70496-39280:Derrick Henry  70496-53640:Sony Michel   \n",
       "\n",
       "                          WR                     WR.1                    WR.2  \\\n",
       "0  70496-45889:Davante Adams  70496-89981:Tee Higgins  70496-40669:Tyler Boyd   \n",
       "\n",
       "                        TE                       FLEX  \\\n",
       "0  70496-64585:Dawson Knox  70496-94534:Gabriel Davis   \n",
       "\n",
       "                            DEF  \n",
       "0  70496-12534:Tennessee Titans  "
      ]
     },
     "execution_count": 1024,
     "metadata": {},
     "output_type": "execute_result"
    }
   ],
   "source": [
    "output = pd.read_csv('upload.csv')\n",
    "output"
   ]
  },
  {
   "cell_type": "code",
   "execution_count": 1025,
   "id": "4ae78a6b-85a6-447b-bace-58451ebfaccd",
   "metadata": {},
   "outputs": [
    {
     "data": {
      "text/plain": [
       "{'D': 7.522058823529412,\n",
       " 'QB': 9.666802904934064,\n",
       " 'RB': 10.446835561272609,\n",
       " 'TE': 6.6170195325215655,\n",
       " 'WR': 9.654727691791294,\n",
       " 'DEF': 7.522058823529412,\n",
       " 'FLEX': 10.05078162653195}"
      ]
     },
     "execution_count": 1025,
     "metadata": {},
     "output_type": "execute_result"
    }
   ],
   "source": [
    "m_score = df[(df['FPPG'] > 0) & (df['Played'] > 0)].groupby(['Position'])['FPPG'].mean().to_dict()\n",
    "m_score['DEF'] = m_score['D']\n",
    "m_score['FLEX'] = (m_score['WR']+m_score['RB'])/2\n",
    "m_score"
   ]
  },
  {
   "cell_type": "code",
   "execution_count": 1026,
   "id": "909a3423-1f56-464a-a654-578b4332ffdf",
   "metadata": {},
   "outputs": [
    {
     "data": {
      "text/plain": [
       "83.71451708543607"
      ]
     },
     "execution_count": 1026,
     "metadata": {},
     "output_type": "execute_result"
    }
   ],
   "source": [
    "expected_score = sum([m_score.get(h) for h in headers])\n",
    "expected_score"
   ]
  },
  {
   "cell_type": "code",
   "execution_count": 1027,
   "id": "9c18a8e6-8a95-42cc-bb82-b3d0a207f629",
   "metadata": {},
   "outputs": [
    {
     "data": {
      "text/html": [
       "<div>\n",
       "<style scoped>\n",
       "    .dataframe tbody tr th:only-of-type {\n",
       "        vertical-align: middle;\n",
       "    }\n",
       "\n",
       "    .dataframe tbody tr th {\n",
       "        vertical-align: top;\n",
       "    }\n",
       "\n",
       "    .dataframe thead th {\n",
       "        text-align: right;\n",
       "    }\n",
       "</style>\n",
       "<table border=\"1\" class=\"dataframe\">\n",
       "  <thead>\n",
       "    <tr style=\"text-align: right;\">\n",
       "      <th></th>\n",
       "      <th>Id</th>\n",
       "      <th>Position</th>\n",
       "      <th>First Name</th>\n",
       "      <th>Nickname</th>\n",
       "      <th>Last Name</th>\n",
       "      <th>FPPG</th>\n",
       "      <th>Played</th>\n",
       "      <th>Salary</th>\n",
       "      <th>Game</th>\n",
       "      <th>Team</th>\n",
       "      <th>Opponent</th>\n",
       "      <th>Injury Indicator</th>\n",
       "      <th>Injury Details</th>\n",
       "      <th>Tier</th>\n",
       "      <th>Unnamed: 14</th>\n",
       "      <th>Unnamed: 15</th>\n",
       "      <th>Roster Position</th>\n",
       "      <th>Name</th>\n",
       "      <th>Salary/FPPG</th>\n",
       "    </tr>\n",
       "  </thead>\n",
       "  <tbody>\n",
       "  </tbody>\n",
       "</table>\n",
       "</div>"
      ],
      "text/plain": [
       "Empty DataFrame\n",
       "Columns: [Id, Position, First Name, Nickname, Last Name, FPPG, Played, Salary, Game, Team, Opponent, Injury Indicator, Injury Details, Tier, Unnamed: 14, Unnamed: 15, Roster Position, Name, Salary/FPPG]\n",
       "Index: []"
      ]
     },
     "execution_count": 1027,
     "metadata": {},
     "output_type": "execute_result"
    }
   ],
   "source": [
    "# Players that have non-null injury status.\n",
    "df[(~df['Injury Indicator'].isna()) | ~df['Injury Details'].isna()]"
   ]
  },
  {
   "cell_type": "code",
   "execution_count": 1028,
   "id": "39c5690f-e1db-4842-a458-a1782a4ddc1f",
   "metadata": {},
   "outputs": [
    {
     "data": {
      "text/html": [
       "<div>\n",
       "<style scoped>\n",
       "    .dataframe tbody tr th:only-of-type {\n",
       "        vertical-align: middle;\n",
       "    }\n",
       "\n",
       "    .dataframe tbody tr th {\n",
       "        vertical-align: top;\n",
       "    }\n",
       "\n",
       "    .dataframe thead th {\n",
       "        text-align: right;\n",
       "    }\n",
       "</style>\n",
       "<table border=\"1\" class=\"dataframe\">\n",
       "  <thead>\n",
       "    <tr style=\"text-align: right;\">\n",
       "      <th></th>\n",
       "      <th>Id</th>\n",
       "      <th>Position</th>\n",
       "      <th>First Name</th>\n",
       "      <th>Nickname</th>\n",
       "      <th>Last Name</th>\n",
       "      <th>FPPG</th>\n",
       "      <th>Played</th>\n",
       "      <th>Salary</th>\n",
       "      <th>Game</th>\n",
       "      <th>Team</th>\n",
       "      <th>Opponent</th>\n",
       "      <th>Injury Indicator</th>\n",
       "      <th>Injury Details</th>\n",
       "      <th>Tier</th>\n",
       "      <th>Unnamed: 14</th>\n",
       "      <th>Unnamed: 15</th>\n",
       "      <th>Roster Position</th>\n",
       "      <th>Name</th>\n",
       "      <th>Salary/FPPG</th>\n",
       "    </tr>\n",
       "  </thead>\n",
       "  <tbody>\n",
       "  </tbody>\n",
       "</table>\n",
       "</div>"
      ],
      "text/plain": [
       "Empty DataFrame\n",
       "Columns: [Id, Position, First Name, Nickname, Last Name, FPPG, Played, Salary, Game, Team, Opponent, Injury Indicator, Injury Details, Tier, Unnamed: 14, Unnamed: 15, Roster Position, Name, Salary/FPPG]\n",
       "Index: []"
      ]
     },
     "execution_count": 1028,
     "metadata": {},
     "output_type": "execute_result"
    }
   ],
   "source": [
    "df[df['First Name'] == 'Zay']"
   ]
  },
  {
   "cell_type": "code",
   "execution_count": 1029,
   "id": "0a6fab38-3c28-4a5b-b40b-dcb1aab03b1f",
   "metadata": {},
   "outputs": [
    {
     "data": {
      "text/html": [
       "<div>\n",
       "<style scoped>\n",
       "    .dataframe tbody tr th:only-of-type {\n",
       "        vertical-align: middle;\n",
       "    }\n",
       "\n",
       "    .dataframe tbody tr th {\n",
       "        vertical-align: top;\n",
       "    }\n",
       "\n",
       "    .dataframe thead th {\n",
       "        text-align: right;\n",
       "    }\n",
       "</style>\n",
       "<table border=\"1\" class=\"dataframe\">\n",
       "  <thead>\n",
       "    <tr style=\"text-align: right;\">\n",
       "      <th></th>\n",
       "      <th>Id</th>\n",
       "      <th>Position</th>\n",
       "      <th>First Name</th>\n",
       "      <th>Nickname</th>\n",
       "      <th>Last Name</th>\n",
       "      <th>FPPG</th>\n",
       "      <th>Played</th>\n",
       "      <th>Salary</th>\n",
       "      <th>Game</th>\n",
       "      <th>Team</th>\n",
       "      <th>Opponent</th>\n",
       "      <th>Injury Indicator</th>\n",
       "      <th>Injury Details</th>\n",
       "      <th>Tier</th>\n",
       "      <th>Unnamed: 14</th>\n",
       "      <th>Unnamed: 15</th>\n",
       "      <th>Roster Position</th>\n",
       "      <th>Name</th>\n",
       "      <th>Salary/FPPG</th>\n",
       "    </tr>\n",
       "  </thead>\n",
       "  <tbody>\n",
       "  </tbody>\n",
       "</table>\n",
       "</div>"
      ],
      "text/plain": [
       "Empty DataFrame\n",
       "Columns: [Id, Position, First Name, Nickname, Last Name, FPPG, Played, Salary, Game, Team, Opponent, Injury Indicator, Injury Details, Tier, Unnamed: 14, Unnamed: 15, Roster Position, Name, Salary/FPPG]\n",
       "Index: []"
      ]
     },
     "execution_count": 1029,
     "metadata": {},
     "output_type": "execute_result"
    }
   ],
   "source": [
    "# Potentially unaccounted positions\n",
    "df[~df['Position'].isin(ALL_POSITIONS)]"
   ]
  },
  {
   "cell_type": "code",
   "execution_count": 1030,
   "id": "9d52b6be-5525-4754-95ad-1467c5ceb9e7",
   "metadata": {},
   "outputs": [
    {
     "data": {
      "text/html": [
       "<div>\n",
       "<style scoped>\n",
       "    .dataframe tbody tr th:only-of-type {\n",
       "        vertical-align: middle;\n",
       "    }\n",
       "\n",
       "    .dataframe tbody tr th {\n",
       "        vertical-align: top;\n",
       "    }\n",
       "\n",
       "    .dataframe thead th {\n",
       "        text-align: right;\n",
       "    }\n",
       "</style>\n",
       "<table border=\"1\" class=\"dataframe\">\n",
       "  <thead>\n",
       "    <tr style=\"text-align: right;\">\n",
       "      <th></th>\n",
       "      <th>FPPG</th>\n",
       "      <th>Nickname</th>\n",
       "      <th>Salary</th>\n",
       "      <th>Salary/FPPG</th>\n",
       "    </tr>\n",
       "  </thead>\n",
       "  <tbody>\n",
       "    <tr>\n",
       "      <th>251</th>\n",
       "      <td>9.000000</td>\n",
       "      <td>Buffalo Bills</td>\n",
       "      <td>3500</td>\n",
       "      <td>0.002571</td>\n",
       "    </tr>\n",
       "    <tr>\n",
       "      <th>249</th>\n",
       "      <td>7.555556</td>\n",
       "      <td>Kansas City Chiefs</td>\n",
       "      <td>3700</td>\n",
       "      <td>0.002042</td>\n",
       "    </tr>\n",
       "    <tr>\n",
       "      <th>250</th>\n",
       "      <td>7.055556</td>\n",
       "      <td>San Francisco 49ers</td>\n",
       "      <td>3700</td>\n",
       "      <td>0.001907</td>\n",
       "    </tr>\n",
       "    <tr>\n",
       "      <th>252</th>\n",
       "      <td>6.444444</td>\n",
       "      <td>Cincinnati Bengals</td>\n",
       "      <td>3400</td>\n",
       "      <td>0.001895</td>\n",
       "    </tr>\n",
       "    <tr>\n",
       "      <th>162</th>\n",
       "      <td>8.333333</td>\n",
       "      <td>Tampa Bay Buccaneers</td>\n",
       "      <td>4500</td>\n",
       "      <td>0.001852</td>\n",
       "    </tr>\n",
       "    <tr>\n",
       "      <th>202</th>\n",
       "      <td>7.611111</td>\n",
       "      <td>Los Angeles Rams</td>\n",
       "      <td>4300</td>\n",
       "      <td>0.001770</td>\n",
       "    </tr>\n",
       "    <tr>\n",
       "      <th>214</th>\n",
       "      <td>7.235294</td>\n",
       "      <td>Tennessee Titans</td>\n",
       "      <td>4100</td>\n",
       "      <td>0.001765</td>\n",
       "    </tr>\n",
       "    <tr>\n",
       "      <th>157</th>\n",
       "      <td>6.941176</td>\n",
       "      <td>Green Bay Packers</td>\n",
       "      <td>4500</td>\n",
       "      <td>0.001542</td>\n",
       "    </tr>\n",
       "  </tbody>\n",
       "</table>\n",
       "</div>"
      ],
      "text/plain": [
       "         FPPG              Nickname  Salary  Salary/FPPG\n",
       "251  9.000000         Buffalo Bills    3500     0.002571\n",
       "249  7.555556    Kansas City Chiefs    3700     0.002042\n",
       "250  7.055556   San Francisco 49ers    3700     0.001907\n",
       "252  6.444444    Cincinnati Bengals    3400     0.001895\n",
       "162  8.333333  Tampa Bay Buccaneers    4500     0.001852\n",
       "202  7.611111      Los Angeles Rams    4300     0.001770\n",
       "214  7.235294      Tennessee Titans    4100     0.001765\n",
       "157  6.941176     Green Bay Packers    4500     0.001542"
      ]
     },
     "execution_count": 1030,
     "metadata": {},
     "output_type": "execute_result"
    }
   ],
   "source": [
    "df[df['Position'] == 'D'][['FPPG', 'Nickname', 'Salary', 'Salary/FPPG']].sort_values('Salary/FPPG', ascending=False)"
   ]
  },
  {
   "cell_type": "code",
   "execution_count": 1031,
   "id": "62a26827-7853-4ebc-8553-275e9162072d",
   "metadata": {},
   "outputs": [
    {
     "data": {
      "text/html": [
       "<div>\n",
       "<style scoped>\n",
       "    .dataframe tbody tr th:only-of-type {\n",
       "        vertical-align: middle;\n",
       "    }\n",
       "\n",
       "    .dataframe tbody tr th {\n",
       "        vertical-align: top;\n",
       "    }\n",
       "\n",
       "    .dataframe thead th {\n",
       "        text-align: right;\n",
       "    }\n",
       "</style>\n",
       "<table border=\"1\" class=\"dataframe\">\n",
       "  <thead>\n",
       "    <tr style=\"text-align: right;\">\n",
       "      <th></th>\n",
       "      <th>Id</th>\n",
       "      <th>Position</th>\n",
       "      <th>First Name</th>\n",
       "      <th>Nickname</th>\n",
       "      <th>Last Name</th>\n",
       "      <th>FPPG</th>\n",
       "      <th>Played</th>\n",
       "      <th>Salary</th>\n",
       "      <th>Game</th>\n",
       "      <th>Team</th>\n",
       "      <th>Opponent</th>\n",
       "      <th>Injury Indicator</th>\n",
       "      <th>Injury Details</th>\n",
       "      <th>Tier</th>\n",
       "      <th>Unnamed: 14</th>\n",
       "      <th>Unnamed: 15</th>\n",
       "      <th>Roster Position</th>\n",
       "      <th>Name</th>\n",
       "      <th>Salary/FPPG</th>\n",
       "    </tr>\n",
       "  </thead>\n",
       "  <tbody>\n",
       "  </tbody>\n",
       "</table>\n",
       "</div>"
      ],
      "text/plain": [
       "Empty DataFrame\n",
       "Columns: [Id, Position, First Name, Nickname, Last Name, FPPG, Played, Salary, Game, Team, Opponent, Injury Indicator, Injury Details, Tier, Unnamed: 14, Unnamed: 15, Roster Position, Name, Salary/FPPG]\n",
       "Index: []"
      ]
     },
     "execution_count": 1031,
     "metadata": {},
     "output_type": "execute_result"
    }
   ],
   "source": [
    "df[df['Team'] == 'JAC']"
   ]
  },
  {
   "cell_type": "code",
   "execution_count": null,
   "id": "b4260559-e7f5-4a0b-ab94-215f81fe4750",
   "metadata": {},
   "outputs": [],
   "source": []
  },
  {
   "cell_type": "code",
   "execution_count": 1032,
   "id": "3f93e669-f715-4fa5-9125-7340af8cb638",
   "metadata": {},
   "outputs": [
    {
     "data": {
      "text/plain": [
       "HomeTeam         GB\n",
       "PointSpread   -5.52\n",
       "Name: 1, dtype: object"
      ]
     },
     "execution_count": 1032,
     "metadata": {},
     "output_type": "execute_result"
    }
   ],
   "source": [
    "spread_df.iloc[1][['HomeTeam', 'PointSpread']]"
   ]
  },
  {
   "cell_type": "code",
   "execution_count": 1033,
   "id": "8d9317ee-6652-48bc-97be-48a3e94634ad",
   "metadata": {},
   "outputs": [
    {
     "name": "stdout",
     "output_type": "stream",
     "text": [
      " 1. QB      Josh Allen                    QB    BUF            BUF@KC   25.361         8800.0$   \n",
      " 2. RB      Derrick Henry                 RB    TEN            CIN@TEN  23.038         9000.0$   \n",
      " 3. RB      Dontrell Hilliard             RB    TEN            CIN@TEN  9.029          5100.0$   \n",
      " 4. WR      Deebo Samuel                  WR    SF             SF@GB    18.762         8600.0$   \n",
      " 5. WR      Gabriel Davis                 WR    BUF            BUF@KC   7.469          5300.0$   \n",
      " 6. WR      Tee Higgins                   WR    CIN            CIN@TEN  12.24          6400.0$   \n",
      " 7. TE      Tyler Higbee                  TE    LAR            LAR@TB   7.662          5400.0$   \n",
      " 8. FLEX    Joe Mixon                     RB    CIN            CIN@TEN  16.265         7800.0$   \n",
      " 9. DEF     Buffalo Bills                 D     BUF            BUF@KC   9.0            3500.0$   \n",
      "\n",
      "Fantasy Points 128.82\n",
      "Salary 59900.00\n",
      "\n",
      " 1. QB      Josh Allen                    QB    BUF            BUF@KC   25.361         8800.0$   \n",
      " 2. RB      Derrick Henry                 RB    TEN            CIN@TEN  23.038         9000.0$   \n",
      " 3. RB      Dontrell Hilliard             RB    TEN            CIN@TEN  9.029          5100.0$   \n",
      " 4. WR      Deebo Samuel                  WR    SF             SF@GB    18.762         8600.0$   \n",
      " 5. WR      Tee Higgins                   WR    CIN            CIN@TEN  12.24          6400.0$   \n",
      " 6. WR      Tyler Boyd                    WR    CIN            CIN@TEN  9.485          5800.0$   \n",
      " 7. TE      Tyler Higbee                  TE    LAR            LAR@TB   7.662          5400.0$   \n",
      " 8. FLEX    Eli Mitchell                  RB    SF             SF@GB    14.208         7300.0$   \n",
      " 9. DEF     Buffalo Bills                 D     BUF            BUF@KC   9.0            3500.0$   \n",
      "\n",
      "Fantasy Points 128.78\n",
      "Salary 59900.00\n",
      "\n",
      " 1. QB      Josh Allen                    QB    BUF            BUF@KC   25.361         8800.0$   \n",
      " 2. RB      Derrick Henry                 RB    TEN            CIN@TEN  23.038         9000.0$   \n",
      " 3. RB      Dontrell Hilliard             RB    TEN            CIN@TEN  9.029          5100.0$   \n",
      " 4. WR      Deebo Samuel                  WR    SF             SF@GB    18.762         8600.0$   \n",
      " 5. WR      Randall Cobb                  WR    GB             SF@GB    7.236          5300.0$   \n",
      " 6. WR      Tee Higgins                   WR    CIN            CIN@TEN  12.24          6400.0$   \n",
      " 7. TE      Tyler Higbee                  TE    LAR            LAR@TB   7.662          5400.0$   \n",
      " 8. FLEX    Joe Mixon                     RB    CIN            CIN@TEN  16.265         7800.0$   \n",
      " 9. DEF     Buffalo Bills                 D     BUF            BUF@KC   9.0            3500.0$   \n",
      "\n",
      "Fantasy Points 128.59\n",
      "Salary 59900.00\n",
      "\n",
      " 1. QB      Tom Brady                     QB    TB             LAR@TB   22.532         7800.0$   \n",
      " 2. RB      Derrick Henry                 RB    TEN            CIN@TEN  23.038         9000.0$   \n",
      " 3. RB      Dontrell Hilliard             RB    TEN            CIN@TEN  9.029          5100.0$   \n",
      " 4. WR      Cooper Kupp                   WR    LAR            LAR@TB   21.2           9500.0$   \n",
      " 5. WR      Deebo Samuel                  WR    SF             SF@GB    18.762         8600.0$   \n",
      " 6. WR      Tyler Boyd                    WR    CIN            CIN@TEN  9.485          5800.0$   \n",
      " 7. TE      Tyler Higbee                  TE    LAR            LAR@TB   7.662          5400.0$   \n",
      " 8. FLEX    Sony Michel                   RB    LAR            LAR@TB   7.867          5300.0$   \n",
      " 9. DEF     Buffalo Bills                 D     BUF            BUF@KC   9.0            3500.0$   \n",
      "\n",
      "Fantasy Points 128.57\n",
      "Salary 60000.00\n",
      "\n",
      " 1. QB      Matthew Stafford              QB    LAR            LAR@TB   20.612         7400.0$   \n",
      " 2. RB      Derrick Henry                 RB    TEN            CIN@TEN  23.038         9000.0$   \n",
      " 3. RB      Dontrell Hilliard             RB    TEN            CIN@TEN  9.029          5100.0$   \n",
      " 4. WR      Cooper Kupp                   WR    LAR            LAR@TB   21.2           9500.0$   \n",
      " 5. WR      Tee Higgins                   WR    CIN            CIN@TEN  12.24          6400.0$   \n",
      " 6. WR      Tyler Boyd                    WR    CIN            CIN@TEN  9.485          5800.0$   \n",
      " 7. TE      Tyler Higbee                  TE    LAR            LAR@TB   7.662          5400.0$   \n",
      " 8. FLEX    Joe Mixon                     RB    CIN            CIN@TEN  16.265         7800.0$   \n",
      " 9. DEF     Buffalo Bills                 D     BUF            BUF@KC   9.0            3500.0$   \n",
      "\n",
      "Fantasy Points 128.53\n",
      "Salary 59900.00\n",
      "\n",
      " 1. QB      Tom Brady                     QB    TB             LAR@TB   22.532         7800.0$   \n",
      " 2. RB      Derrick Henry                 RB    TEN            CIN@TEN  23.038         9000.0$   \n",
      " 3. RB      Dontrell Hilliard             RB    TEN            CIN@TEN  9.029          5100.0$   \n",
      " 4. WR      Deebo Samuel                  WR    SF             SF@GB    18.762         8600.0$   \n",
      " 5. WR      Gabriel Davis                 WR    BUF            BUF@KC   7.469          5300.0$   \n",
      " 6. WR      Tee Higgins                   WR    CIN            CIN@TEN  12.24          6400.0$   \n",
      " 7. TE      Dawson Knox                   TE    BUF            BUF@KC   10.188         6500.0$   \n",
      " 8. FLEX    Joe Mixon                     RB    CIN            CIN@TEN  16.265         7800.0$   \n",
      " 9. DEF     Buffalo Bills                 D     BUF            BUF@KC   9.0            3500.0$   \n",
      "\n",
      "Fantasy Points 128.52\n",
      "Salary 60000.00\n",
      "\n",
      " 1. QB      Tom Brady                     QB    TB             LAR@TB   22.532         7800.0$   \n",
      " 2. RB      Derrick Henry                 RB    TEN            CIN@TEN  23.038         9000.0$   \n",
      " 3. RB      Dontrell Hilliard             RB    TEN            CIN@TEN  9.029          5100.0$   \n",
      " 4. WR      Deebo Samuel                  WR    SF             SF@GB    18.762         8600.0$   \n",
      " 5. WR      Tee Higgins                   WR    CIN            CIN@TEN  12.24          6400.0$   \n",
      " 6. WR      Tyler Boyd                    WR    CIN            CIN@TEN  9.485          5800.0$   \n",
      " 7. TE      Dawson Knox                   TE    BUF            BUF@KC   10.188         6500.0$   \n",
      " 8. FLEX    Eli Mitchell                  RB    SF             SF@GB    14.208         7300.0$   \n",
      " 9. DEF     Buffalo Bills                 D     BUF            BUF@KC   9.0            3500.0$   \n",
      "\n",
      "Fantasy Points 128.48\n",
      "Salary 60000.00\n",
      "\n",
      " 1. QB      Josh Allen                    QB    BUF            BUF@KC   25.361         8800.0$   \n",
      " 2. RB      Derrick Henry                 RB    TEN            CIN@TEN  23.038         9000.0$   \n",
      " 3. RB      Dontrell Hilliard             RB    TEN            CIN@TEN  9.029          5100.0$   \n",
      " 4. WR      Cole Beasley                  WR    BUF            BUF@KC   7.1            5200.0$   \n",
      " 5. WR      Deebo Samuel                  WR    SF             SF@GB    18.762         8600.0$   \n",
      " 6. WR      Tee Higgins                   WR    CIN            CIN@TEN  12.24          6400.0$   \n",
      " 7. TE      Tyler Higbee                  TE    LAR            LAR@TB   7.662          5400.0$   \n",
      " 8. FLEX    Joe Mixon                     RB    CIN            CIN@TEN  16.265         7800.0$   \n",
      " 9. DEF     Buffalo Bills                 D     BUF            BUF@KC   9.0            3500.0$   \n",
      "\n",
      "Fantasy Points 128.46\n",
      "Salary 59800.00\n",
      "\n",
      " 1. QB      Tom Brady                     QB    TB             LAR@TB   22.532         7800.0$   \n",
      " 2. RB      Derrick Henry                 RB    TEN            CIN@TEN  23.038         9000.0$   \n",
      " 3. RB      Dontrell Hilliard             RB    TEN            CIN@TEN  9.029          5100.0$   \n",
      " 4. WR      Cooper Kupp                   WR    LAR            LAR@TB   21.2           9500.0$   \n",
      " 5. WR      Gabriel Davis                 WR    BUF            BUF@KC   7.469          5300.0$   \n",
      " 6. WR      Tee Higgins                   WR    CIN            CIN@TEN  12.24          6400.0$   \n",
      " 7. TE      Tyler Higbee                  TE    LAR            LAR@TB   7.662          5400.0$   \n",
      " 8. FLEX    Joe Mixon                     RB    CIN            CIN@TEN  16.265         7800.0$   \n",
      " 9. DEF     Buffalo Bills                 D     BUF            BUF@KC   9.0            3500.0$   \n",
      "\n",
      "Fantasy Points 128.43\n",
      "Salary 59800.00\n",
      "\n",
      " 1. QB      Tom Brady                     QB    TB             LAR@TB   22.532         7800.0$   \n",
      " 2. RB      Derrick Henry                 RB    TEN            CIN@TEN  23.038         9000.0$   \n",
      " 3. RB      Dontrell Hilliard             RB    TEN            CIN@TEN  9.029          5100.0$   \n",
      " 4. WR      Cooper Kupp                   WR    LAR            LAR@TB   21.2           9500.0$   \n",
      " 5. WR      Tee Higgins                   WR    CIN            CIN@TEN  12.24          6400.0$   \n",
      " 6. WR      Tyler Boyd                    WR    CIN            CIN@TEN  9.485          5800.0$   \n",
      " 7. TE      Tyler Higbee                  TE    LAR            LAR@TB   7.662          5400.0$   \n",
      " 8. FLEX    Eli Mitchell                  RB    SF             SF@GB    14.208         7300.0$   \n",
      " 9. DEF     Buffalo Bills                 D     BUF            BUF@KC   9.0            3500.0$   \n",
      "\n",
      "Fantasy Points 128.39\n",
      "Salary 59800.00\n",
      "\n"
     ]
    }
   ],
   "source": [
    "from pydfs_lineup_optimizer import Site, Sport, get_optimizer\n",
    "\n",
    "optimizer = get_optimizer(Site.FANDUEL, Sport.FOOTBALL)\n",
    "optimizer.load_players_from_csv(ACTIVE_FILE)\n",
    "for lineup in optimizer.optimize(10):\n",
    "    print(lineup)\n"
   ]
  },
  {
   "cell_type": "code",
   "execution_count": null,
   "id": "2c63ac8a-6129-43c2-aac2-744035a26c19",
   "metadata": {},
   "outputs": [],
   "source": []
  },
  {
   "cell_type": "code",
   "execution_count": null,
   "id": "89baf020-4dd7-427e-a5dd-ba0893ac45ec",
   "metadata": {},
   "outputs": [],
   "source": []
  }
 ],
 "metadata": {
  "kernelspec": {
   "display_name": "Python 3",
   "language": "python",
   "name": "python3"
  },
  "language_info": {
   "codemirror_mode": {
    "name": "ipython",
    "version": 3
   },
   "file_extension": ".py",
   "mimetype": "text/x-python",
   "name": "python",
   "nbconvert_exporter": "python",
   "pygments_lexer": "ipython3",
   "version": "3.7.12"
  }
 },
 "nbformat": 4,
 "nbformat_minor": 5
}
