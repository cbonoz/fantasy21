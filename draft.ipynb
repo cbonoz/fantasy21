{
 "cells": [
  {
   "cell_type": "code",
   "execution_count": 56,
   "id": "3c4685ef-b6da-44e3-a95e-a8cdb7cc3f6f",
   "metadata": {},
   "outputs": [
    {
     "name": "stdout",
     "output_type": "stream",
     "text": [
      "3.7.12 (default, Oct 13 2021, 06:53:03) \n",
      "[Clang 13.0.0 (clang-1300.0.29.3)]\n"
     ]
    }
   ],
   "source": [
    "import sys\n",
    "print(sys.version)"
   ]
  },
  {
   "cell_type": "code",
   "execution_count": 57,
   "id": "c7ed98b1-54a6-46e2-875e-7cb30521b9b1",
   "metadata": {},
   "outputs": [
    {
     "name": "stdout",
     "output_type": "stream",
     "text": [
      "The autoreload extension is already loaded. To reload it, use:\n",
      "  %reload_ext autoreload\n",
      "ready\n"
     ]
    }
   ],
   "source": [
    "%load_ext autoreload\n",
    "%autoreload 0\n",
    "\n",
    "import os, json\n",
    "from draftfast import rules\n",
    "from draftfast.optimize import run\n",
    "from draftfast.orm import Player\n",
    "from draftfast.csv_parse import salary_download\n",
    "from draftfast.settings import OptimizerSettings, CustomRule, PlayerPoolSettings\n",
    "from draftfast.lineup_constraints import LineupConstraints\n",
    "import pandas as pd\n",
    "import numpy as np\n",
    "from scipy import stats\n",
    "from spread import get_metabet_spread, get_current_rankings, get_fantasy_def_points_against\n",
    "from collections import defaultdict\n",
    "\n",
    "# https://www.pro-football-reference.com/years/2021/fantasy.htm\n",
    "\n",
    "SALARY_FILE = './data/1_17.csv'\n",
    "WEEK = 20\n",
    "MIN_SALARY = 4799\n",
    "WEIGHTED = True\n",
    "\n",
    "ACTIVE_FILE = './data/active.csv'\n",
    "MAX_PLAYED = WEEK - 1\n",
    "print('ready')"
   ]
  },
  {
   "cell_type": "code",
   "execution_count": null,
   "id": "35b3562d-9ae0-4c41-b67c-3acc1a1f45ab",
   "metadata": {},
   "outputs": [],
   "source": []
  },
  {
   "cell_type": "code",
   "execution_count": 58,
   "id": "a7510da3-656a-4741-92c6-11bf57375de3",
   "metadata": {},
   "outputs": [
    {
     "name": "stdout",
     "output_type": "stream",
     "text": [
      "return cached data week 20\n",
      "(32, 52)\n"
     ]
    }
   ],
   "source": [
    "# https://www.lineups.com/nfl-team-rankings\n",
    "ranking_df = get_current_rankings(WEEK, 'MTI0NTQ2MDU3OQ==', True)\n",
    "\n",
    "def get_abbr(x):\n",
    "    try:\n",
    "        if type(x) is not dict:\n",
    "            x = eval(x)\n",
    "        return x['team_abbr']\n",
    "    except Exception as e:\n",
    "        print(e,x)\n",
    "        \n",
    "\n",
    "print(ranking_df.shape)\n",
    "ranking_df['team'] = ranking_df['nav'].apply(get_abbr)\n",
    "# DEF_KEYS = ['passing_interceptions_rank'\n",
    "# ranking_df['def_rank'] = ranking_df.apply(lambda row: np.avg([row[k] for k in DEF_KEYS]))\n",
    "num_teams = ranking_df.shape[0]\n"
   ]
  },
  {
   "cell_type": "code",
   "execution_count": 59,
   "id": "78442e80-0f28-4d01-85e7-acfabb8c76a5",
   "metadata": {},
   "outputs": [
    {
     "name": "stdout",
     "output_type": "stream",
     "text": [
      "{'JAX', 'IND', 'ATL', 'OAK', 'LAC', 'CAR', 'NYJ', 'DEN', 'PHI', 'MIA', 'NO', 'BUF', 'CHI', 'SEA', 'MIN', 'GB', 'HOU', 'NE', 'WAS', 'TEN', 'CLE', 'CIN', 'PIT', 'NYG', 'ARI', 'LAR', 'BAL', 'TB', 'DET', 'SF', 'DAL', 'KC'} 32\n"
     ]
    },
    {
     "data": {
      "text/plain": [
       "{'Unnamed: 0': 2,\n",
       " 'points_def': 385,\n",
       " 'passing_completions': 409,\n",
       " 'touchdowns': 47,\n",
       " 'turnover_rank': 26,\n",
       " 'rushing_attempts_rank': 18,\n",
       " 'offensive_yards_rank': 10,\n",
       " 'first_downs': 358,\n",
       " 'rushing_touchdowns': 18,\n",
       " 'offensive_rating_rank': 3,\n",
       " 'turnover': 16,\n",
       " 'red_zone_conversions_rank': 27,\n",
       " 'red_zone_percentage_rank': 29,\n",
       " 'passing_yards_rank': 11,\n",
       " 'offensive_plays': 1076,\n",
       " 'third_down_percentage_rank': 23,\n",
       " 'nav': \"{'team_logo_bordered': 'assets/images/nfl/logos/bordered/philadelphia-eagles-largest.svg', 'team_name': 'Eagles', 'opp_division': 'South', 'opp_logo_bordered': 'assets/images/nfl/logos/bordered/tampa-bay-buccaneers-largest.svg', 'team_rank': '2nd', 'opp_depth_chart_route': '/nfl/depth-charts/tampa-bay-buccaneers', 'team_conference': 'NFC', 'opp_league': 'NFC', 'opp_news_route': '/nfl/news/tampa-bay-buccaneers', 'opp_name_full': 'Tampa Bay Buccaneers', 'status': {}, 'opp_name': 'Buccaneers', 'matchup_route': None, 'matchup_news_route': '/nfl/news/matchups/phi-tb', 'game_key': '202130133', 'team_depth_chart_route': '/nfl/depth-charts/philadelphia-eagles', 'team_league': 'NFC', 'opp_conference': 'NFC', 'opp_roster_route': '/nfl/roster/tampa-bay-buccaneers', 'opp_abbr': 'TB', 'team_stats_route': '/nfl/team-stats/philadelphia-eagles', 'team_record': '9-8', 'updated': None, 'opp_logo_white': 'assets/images/nfl/logos/white/tampa-bay-buccaneers-white.svg', 'team_logo_white': 'assets/images/nfl/logos/white/philadelphia-eagles-white.svg', 'matchup_time': '2022-01-16T18:00:00+00:00', 'is_home': False, 'team_division': 'East', 'team_snaps_route': '/nfl/snap-counts/philadelphia-eagles-snap-counts', 'team_roster_route': '/nfl/roster/philadelphia-eagles', 'team_injuries_route': '/nfl/player-injuries/philadelphia-eagles', 'team_name_full': 'Philadelphia Eagles', 'opp_injuries_route': '/nfl/player-injuries/tampa-bay-buccaneers', 'matchup_season': 2021, 'team_schedule_route': '/nfl/schedule/philadelphia-eagles', 'opp_rank': '1st', 'opp_schedule_route': '/nfl/schedule/tampa-bay-buccaneers', 'team_news_route': '/nfl/news/philadelphia-eagles', 'team_abbr': 'PHI', 'opp_record': '13-4'}\",\n",
       " 'rushing_attempts': 458,\n",
       " 'passing_interceptions_rank': 20,\n",
       " 'passing_attempts_rank': 16,\n",
       " 'points_rank_def': 18,\n",
       " 'team_fk__full_name': 'Philadelphia Eagles',\n",
       " 'passing_attempts': 589,\n",
       " 'overall_rating_rank': 29,\n",
       " 'first_downs_rank': 23,\n",
       " 'passing_touchdowns_rank': 20,\n",
       " 'special_teams_ratings_rank': 27,\n",
       " 'overall_rating': 70,\n",
       " 'red_zone_attempts': 60,\n",
       " 'red_zone_attempts_rank': 23,\n",
       " 'fantasy_points': 107,\n",
       " 'third_down_percentage': 42.9,\n",
       " 'offensive_yards': 5590,\n",
       " 'fourth_down_percentage': 48.3,\n",
       " 'rushing_touchdowns_rank': 23,\n",
       " 'rushing_yards_rank': 9,\n",
       " 'sacks_rank': 31,\n",
       " 'fourth_down_percentage_rank': 11,\n",
       " 'red_zone_conversions': 40,\n",
       " 'points_rank': 2,\n",
       " 'defensive_rating_rank': 18,\n",
       " 'offensive_plays_rank': 18,\n",
       " 'passing_interceptions': 12,\n",
       " 'passing_touchdowns': 28,\n",
       " 'touchdowns_rank': 22,\n",
       " 'fantasy_points_rank': 16,\n",
       " 'red_zone_percentage': 66.7,\n",
       " 'sacks': 29,\n",
       " 'passing_yards': 3756,\n",
       " 'passing_completions_rank': 28,\n",
       " 'rushing_yards': 1834,\n",
       " 'points': 30,\n",
       " 'team': 'PHI'}"
      ]
     },
     "execution_count": 59,
     "metadata": {},
     "output_type": "execute_result"
    }
   ],
   "source": [
    "rankings = {x['team']: x for x in ranking_df.to_dict('records')}\n",
    "# rankings\n",
    "teams = set(rankings.keys())\n",
    "print(teams, len(teams))\n",
    "rankings['LV'] = rankings['OAK']\n",
    "rankings['JAC'] = rankings['JAX']\n",
    "del rankings['OAK']\n",
    "rankings['PHI']"
   ]
  },
  {
   "cell_type": "code",
   "execution_count": 60,
   "id": "a2ee0eff-bf01-4d44-8919-2f01cfb793bf",
   "metadata": {},
   "outputs": [
    {
     "name": "stdout",
     "output_type": "stream",
     "text": [
      "return cached data week 20\n",
      "favor_map teams 8\n",
      "{'LAR': -3.47, 'ARI': 3.47, 'TEN': -3.5, 'CIN': 3.5, 'GB': -5.45, 'SF': 5.45, 'KC': -2.48, 'BUF': 2.48}\n"
     ]
    },
    {
     "data": {
      "text/plain": [
       "{'LAR': -0.29902289063720355,\n",
       " 'ARI': -0.29902289063720355,\n",
       " 'TEN': -0.7768349247624503,\n",
       " 'CIN': -0.7768349247624503,\n",
       " 'GB': -0.6300560646063292,\n",
       " 'SF': -0.6300560646063292,\n",
       " 'KC': 1.7059138800059852,\n",
       " 'BUF': 1.7059138800059852}"
      ]
     },
     "execution_count": 60,
     "metadata": {},
     "output_type": "execute_result"
    }
   ],
   "source": [
    "\n",
    "spread_df = get_metabet_spread(WEEK)\n",
    "favor_map = {}\n",
    "z_map = {}\n",
    "z_scores = {}\n",
    "\n",
    "if 'OverUnder' in spread_df.columns.values:\n",
    "    points = list(spread_df['OverUnder'])\n",
    "    zs = stats.zscore(points)\n",
    "    for i, p in enumerate(points):\n",
    "        z_scores[p] = zs[i]\n",
    "\n",
    "# https://madduxsports.com/how-to-read-nfl-odds-lines.html\"\n",
    "for index, row in spread_df.iterrows():\n",
    "    home, away = row['HomeTeam'], row['AwayTeam']\n",
    "    favor_map[home] = row['PointSpread']\n",
    "    favor_map[away] = -row['PointSpread']\n",
    "    if 'OverUnder' in row:\n",
    "        z_map[home] = z_scores[row['OverUnder']]\n",
    "        z_map[away] = z_scores[row['OverUnder']]\n",
    "    \n",
    "\n",
    "    \n",
    "if 'JAX' in favor_map:\n",
    "    favor_map['JAC'] = favor_map['JAX']\n",
    "    z_map['JAC'] = z_map['JAX']\n",
    "    \n",
    "if 'LVS' in favor_map:\n",
    "    favor_map['LV'] = favor_map['LVS']\n",
    "    z_map['LV'] = z_map['LVS']\n",
    "\n",
    "print('favor_map teams', len(favor_map))\n",
    "print(favor_map)\n",
    "z_map"
   ]
  },
  {
   "cell_type": "code",
   "execution_count": 61,
   "id": "4482ab40-b192-43f9-ab60-b418bfa473a6",
   "metadata": {},
   "outputs": [
    {
     "name": "stdout",
     "output_type": "stream",
     "text": [
      "             FPPG      Played       Salary  Tier  Unnamed: 14  Unnamed: 15\n",
      "count  129.000000  129.000000   129.000000   0.0          0.0          0.0\n",
      "mean     4.292445    7.767442  4971.317829   NaN          NaN          NaN\n",
      "std      5.039028    5.513494  1136.620113   NaN          NaN          NaN\n",
      "min     -0.363636    1.000000  3400.000000   NaN          NaN          NaN\n",
      "25%      0.600000    4.000000  4500.000000   NaN          NaN          NaN\n",
      "50%      2.800000    6.000000  4500.000000   NaN          NaN          NaN\n",
      "75%      5.360000   12.000000  5200.000000   NaN          NaN          NaN\n",
      "max     23.037500   18.000000  9000.000000   NaN          NaN          NaN\n",
      "ordered_teams [('GB', -5.45), ('TEN', -3.5), ('LAR', -3.47), ('KC', -2.48), ('BUF', 2.48), ('ARI', 3.47), ('CIN', 3.5), ('SF', 5.45)]\n",
      "top_teams ['GB', 'TEN', 'LAR', 'KC', 'BUF', 'ARI', 'CIN', 'SF']\n",
      "excluded_teams set()\n",
      "Excluding: 116\n"
     ]
    }
   ],
   "source": [
    "df = pd.read_csv(SALARY_FILE, na_values= '')\n",
    "df = df.fillna(df.median())\n",
    "print(df.describe())\n",
    "\n",
    "df['Name'] = df['First Name'] + \" \" + df['Last Name']\n",
    "df['Salary/FPPG'] = df['FPPG'] / df['Salary']\n",
    "\n",
    "all_teams = favor_map.keys()\n",
    "winning_teams = [x for x in all_teams if favor_map[x] < 0]\n",
    "ordered_teams = sorted(all_teams, key=lambda x: favor_map[x])\n",
    "print('ordered_teams', [(x, favor_map[x]) for x in ordered_teams])\n",
    "# excluded_teams = set([x for x in all_teams if favor_map[x] > -MIN_FAVORED])\n",
    "# top_teams = winning_teams\n",
    "team_offset = 1\n",
    "half_teams = int(len(ordered_teams)/2)\n",
    "top_teams = ordered_teams#[team_offset:team_offset+int(half_teams)]\n",
    "print(f\"top_teams {top_teams}\")\n",
    "excluded_teams = set(all_teams) - set(top_teams)\n",
    "print(f\"excluded_teams {excluded_teams}\")\n",
    "\n",
    "questionable_players = list(df[(~df['Injury Indicator'].isna()) | (~df['Injury Details'].isna())]['Name'])\n",
    "low_salary_players = list(df[((df['Salary'] < MIN_SALARY)) & (df['Position'] != 'D')]['Name'])\n",
    "\n",
    "excluded_players = [*questionable_players, *low_salary_players]\n",
    "excluded_teams = list(df[(df['Position'] == 'D') & df['Team'].isin(excluded_teams)]['Name'])\n",
    "\n",
    "if excluded_teams:\n",
    "    excluded_players.extend(excluded_teams)\n",
    "\n",
    "# excluded_players = [\"Rob Gronkowski\"]\n",
    "print(f\"Excluding: {len(excluded_players)}\")\n",
    "\n",
    "# custom_adds = ['Mike Evans', 'Tee Higgins', 'Los Angeles Rams', 'Tyler Higbee', 'Gabriel Davis', 'Sony Michel', 'Mecole Hardman']\n",
    "# custom_adds = ['Byron Pringle', 'Tee Higgins', 'Gabriel Davis', 'Cedrick Wilson', 'Tyler Boyd', 'Tony Pollard','Mecole Hardman', 'Ezekiel Elliott', 'Tyler Higbee']\n",
    "# custom_adds = ['Tyler Boyd', 'Stefon Diggs', 'Tyler Higbee']\n",
    "# custom_adds = ['AJ Dillon', 'Tyler Boyd']\n",
    "custom_adds = []\n",
    "\n",
    "if excluded_players:\n",
    "    excluded_players.extend(custom_adds)\n",
    "    \n",
    "questionable_df = df[(df['Name'].isin(set(questionable_players)))]\n",
    "    \n",
    "excluded_df = df[(df['Name'].isin(set(excluded_players)))]\n",
    "    \n",
    "df = df[(~df['Name'].isin(set(excluded_players)))]# & (df['FPPG'] > 0) & (df['Played'] > 0)"
   ]
  },
  {
   "cell_type": "code",
   "execution_count": null,
   "id": "d9a6d48d-9b14-4217-ac3a-4d6f7c36ab9e",
   "metadata": {},
   "outputs": [],
   "source": []
  },
  {
   "cell_type": "code",
   "execution_count": 62,
   "id": "75dd3adb-7ad4-4601-8961-c0e46d1ed414",
   "metadata": {},
   "outputs": [
    {
     "name": "stdout",
     "output_type": "stream",
     "text": [
      "['LAR', 'TEN', 'GB', 'KC']\n"
     ]
    }
   ],
   "source": [
    "print(winning_teams)"
   ]
  },
  {
   "cell_type": "code",
   "execution_count": 63,
   "id": "1348f4a4-a1fe-4028-8a65-3d14c7fa61d6",
   "metadata": {},
   "outputs": [
    {
     "name": "stdout",
     "output_type": "stream",
     "text": [
      "['./history/week15.csv', './history/week16.csv', './history/week17.csv', './history/week18.csv'] 4\n",
      "Using 4 weeks of history\n",
      "642\n"
     ]
    }
   ],
   "source": [
    "# http://rotoguru1.com/cgi-bin/fyday.pl?week=1&game=fd&scsv=1\n",
    "\n",
    "start_week = WEEK-5# take last few games for momentum weighting.\n",
    "\n",
    "file_names = [f\"./history/week{week_number}.csv\" for week_number in range(start_week, WEEK+1) if os.path.isfile(f\"./history/week{week_number}.csv\")]\n",
    "print(file_names, len(file_names))\n",
    "\n",
    "history_dfs = [pd.read_csv(f, delimiter=\";\") for f in file_names]\n",
    "print(f\"Using {len(history_dfs)} weeks of history\")\n",
    "historic_data=pd.concat(history_dfs)\n",
    "\n",
    "if len(historic_data) > 0:\n",
    "    REPLACE_MAP = {\n",
    "        'LA': 'Los Angeles',\n",
    "        '.':'',\n",
    "    }\n",
    "\n",
    "    def name_map(x):\n",
    "        result = ' '.join(x.split(', ')[::-1])\n",
    "        for k in REPLACE_MAP:\n",
    "            result = result.replace(k, REPLACE_MAP[k])\n",
    "        return result\n",
    "\n",
    "\n",
    "    historic_data['Name'] = historic_data['Name'].apply(name_map)\n",
    "    team_data = historic_data[historic_data['Pos'] == 'Def']\n",
    "\n",
    "    historic_data[:1]\n",
    "    historic_averages = historic_data.groupby(\"Name\").mean()['FD points'].to_dict()\n",
    "    historic_averages['Patrick Mahomes'] = historic_averages['Patrick Mahomes II']\n",
    "    historic_averages['Darrell Henderson Jr'] = historic_averages['Darrell Henderson']\n",
    "    # historic_averages\n",
    "\n",
    "    team_averages = team_data.groupby(\"Team\").mean()['FD points'].to_dict()\n",
    "    team_averages['gb'] = team_averages.get('gnb')\n",
    "    team_averages['kc'] = team_averages.get('kan')\n",
    "    team_averages['ne'] = team_averages.get('nwe')\n",
    "    team_averages['tb'] = team_averages.get('tam')\n",
    "    team_averages['lv'] = team_averages.get('lvr')\n",
    "    team_averages['no'] = team_averages.get('nor')\n",
    "    team_averages['sf'] = team_averages.get('sfo')\n",
    "    # print(team_averages)\n",
    "    \n",
    "    for k,v in team_averages.items():\n",
    "        historic_averages[k] = team_averages[k]\n",
    "print(len(historic_averages))"
   ]
  },
  {
   "cell_type": "code",
   "execution_count": 64,
   "id": "551121be-b331-4bbb-8512-f02f1dc065d2",
   "metadata": {},
   "outputs": [
    {
     "name": "stdout",
     "output_type": "stream",
     "text": [
      "bonus TEN Derrick Henry 0.6\n",
      "bonus GB Aaron Jones 0.6\n",
      "bonus SF Jimmy Garoppolo -0.8\n",
      "bonus GB Randall Cobb 0.3618181748823686\n",
      "defaultdict(<function <lambda> at 0x1530690e0>, {'TEN': 0.6, 'GB': 0.9618181748823686, 'SF': -0.8})\n"
     ]
    }
   ],
   "source": [
    "excluded_bonus = defaultdict(lambda: 0)\n",
    "\n",
    "for index, p in questionable_df.iterrows():\n",
    "    pos = p['Position']\n",
    "    if pos in ['TE', 'WR', 'RB', 'QB']:\n",
    "        points = p['FPPG']\n",
    "        if points > 7:\n",
    "            if pos == 'QB':\n",
    "                # subtract for QB\n",
    "                amt = -min(points * .08, .8)\n",
    "            else:\n",
    "                amt = min(points * .05, .6)\n",
    "            print('bonus', p['Team'], p['Name'], amt)\n",
    "            \n",
    "            excluded_bonus[p['Team']] += amt\n",
    "        \n",
    "print(excluded_bonus)"
   ]
  },
  {
   "cell_type": "code",
   "execution_count": null,
   "id": "0989a305-8f5b-4edb-bdb0-6c4429700ca5",
   "metadata": {},
   "outputs": [],
   "source": []
  },
  {
   "cell_type": "code",
   "execution_count": 65,
   "id": "949a826a-a13c-4607-9267-dffe5e7cab29",
   "metadata": {},
   "outputs": [
    {
     "name": "stdout",
     "output_type": "stream",
     "text": [
      "wrote ./data/active.csv, (37, 19)\n"
     ]
    }
   ],
   "source": [
    "df.to_csv(ACTIVE_FILE)\n",
    "print(f\"wrote {ACTIVE_FILE}, {df.shape}\")"
   ]
  },
  {
   "cell_type": "code",
   "execution_count": 66,
   "id": "d18adec1-3218-408b-8d88-0918abd8d340",
   "metadata": {},
   "outputs": [],
   "source": [
    "# https://www.fanduel.com/nfl-guide\n",
    "# Use min/max + roster_size to accomodate flex position. FD roster_size = 9\n",
    "def get_nfl_positions():\n",
    "    return [\n",
    "        ['QB', 1, 1],\n",
    "        ['RB', 2 ,3],\n",
    "        ['WR', 3, 4],\n",
    "        ['TE', 1, 2],\n",
    "        ['D', 1, 1]\n",
    "    ]               "
   ]
  },
  {
   "cell_type": "code",
   "execution_count": 67,
   "id": "305f4048-31c6-45ef-bbbd-e5840ca6f812",
   "metadata": {},
   "outputs": [
    {
     "data": {
      "text/plain": [
       "{'D': 6.919117647058824,\n",
       " 'QB': 6.773270999998146,\n",
       " 'RB': 10.620223628224297,\n",
       " 'TE': 6.555441157023112,\n",
       " 'WR': 10.93046897857846,\n",
       " 'DEF': 6.919117647058824}"
      ]
     },
     "execution_count": 67,
     "metadata": {},
     "output_type": "execute_result"
    }
   ],
   "source": [
    "m_score = df.groupby(['Position'])['FPPG'].mean().to_dict()\n",
    "m_score['DEF'] = m_score['D']\n",
    "    \n",
    "m_score"
   ]
  },
  {
   "cell_type": "code",
   "execution_count": 68,
   "id": "5040830b-4890-45cf-aae2-d722687a2f51",
   "metadata": {},
   "outputs": [
    {
     "name": "stdout",
     "output_type": "stream",
     "text": [
      "9500\n"
     ]
    }
   ],
   "source": [
    "max_salary = np.percentile(df[df['Salary'] >= MIN_SALARY]['Salary'], 99)-1\n",
    "max_salary = 9500\n",
    "print(max_salary)"
   ]
  },
  {
   "cell_type": "code",
   "execution_count": 69,
   "id": "d48fa40a-8185-4668-9eab-c1531ee638dc",
   "metadata": {},
   "outputs": [
    {
     "data": {
      "text/plain": [
       "(4, 19)"
      ]
     },
     "execution_count": 69,
     "metadata": {},
     "output_type": "execute_result"
    }
   ],
   "source": [
    "df[df['Position'] == 'D'].shape"
   ]
  },
  {
   "cell_type": "code",
   "execution_count": 70,
   "id": "d5bdc7cd-1d73-4528-a771-7480656a4b66",
   "metadata": {},
   "outputs": [
    {
     "name": "stdout",
     "output_type": "stream",
     "text": [
      "{'site': 'FAN_DUEL', 'league': 'NFL', 'roster_size': 9, 'position_limits': [['QB', 1, 1], ['RB', 2, 3], ['WR', 3, 4], ['TE', 1, 2], ['D', 1, 1]], 'general_position_limits': [], 'salary_min': 60000, 'salary_max': 60000, 'offensive_positions': ['QB', 'RB', 'WR', 'TE', 'FLEX', 'WR/FLEX'], 'defensive_positions': ['D', 'DEF'], 'game_type': 'classic', 'max_players_per_team': 9, 'position_per_team_rules': None, 'min_teams': None}\n"
     ]
    }
   ],
   "source": [
    "ACTIVE_RULE_SET = rules.FD_NFL_RULE_SET\n",
    "# Overrides (position limits, salary, roster size, positions, etc.\n",
    "ACTIVE_RULE_SET.salary_max = 60000\n",
    "ACTIVE_RULE_SET.salary_min = ACTIVE_RULE_SET.salary_max - 0\n",
    "ACTIVE_RULE_SET.defensive_positions = ['D', 'DEF']\n",
    "ACTIVE_RULE_SET.offensive_positions = ['QB', 'RB', 'WR', 'TE', 'FLEX', 'WR/FLEX']\n",
    "ACTIVE_RULE_SET.position_limits = get_nfl_positions()\n",
    "ACTIVE_RULE_SET.max_players_per_team = 9\n",
    "ACTIVE_RULE_SET.roster_size = 9\n",
    "print(ACTIVE_RULE_SET.__dict__)\n",
    "\n",
    "ALL_POSITIONS = [*ACTIVE_RULE_SET.defensive_positions, *ACTIVE_RULE_SET.offensive_positions]"
   ]
  },
  {
   "cell_type": "code",
   "execution_count": 71,
   "id": "31749e22-1ba6-4f5b-a805-98fbabe9b92f",
   "metadata": {},
   "outputs": [
    {
     "name": "stdout",
     "output_type": "stream",
     "text": [
      "return cached data week 20\n"
     ]
    },
    {
     "data": {
      "text/plain": [
       "{'Jacksonville Jaguars': {'rank': 32, 'allowed': 9.71},\n",
       " 'Atlanta Falcons': {'rank': 31, 'allowed': 9.59},\n",
       " 'New York Giants': {'rank': 30, 'allowed': 9.59},\n",
       " 'Carolina Panthers': {'rank': 29, 'allowed': 9.47},\n",
       " 'Chicago Bears': {'rank': 28, 'allowed': 9.12},\n",
       " 'Baltimore Ravens': {'rank': 27, 'allowed': 8.35},\n",
       " 'New York Jets': {'rank': 26, 'allowed': 8.24},\n",
       " 'Houston Texans': {'rank': 25, 'allowed': 7.65},\n",
       " 'Washington Football Team': {'rank': 24, 'allowed': 7.53},\n",
       " 'Denver Broncos': {'rank': 23, 'allowed': 7.53},\n",
       " 'Miami Dolphins': {'rank': 22, 'allowed': 7.41},\n",
       " 'Las Vegas Raiders': {'rank': 21, 'allowed': 6.94},\n",
       " 'Detroit Lions': {'rank': 20, 'allowed': 6.65},\n",
       " 'Cleveland Browns': {'rank': 19, 'allowed': 6.53},\n",
       " 'New Orleans Saints': {'rank': 18, 'allowed': 6.47},\n",
       " 'Tennessee Titans': {'rank': 17, 'allowed': 6.41},\n",
       " 'Cincinnati Bengals': {'rank': 16, 'allowed': 6.24},\n",
       " 'Pittsburgh Steelers': {'rank': 15, 'allowed': 6.06},\n",
       " 'New England Patriots': {'rank': 14, 'allowed': 5.71},\n",
       " 'Los Angeles Rams': {'rank': 13, 'allowed': 5.71},\n",
       " 'Seattle Seahawks': {'rank': 12, 'allowed': 5.47},\n",
       " 'San Francisco 49ers': {'rank': 11, 'allowed': 5.18},\n",
       " 'Los Angeles Chargers': {'rank': 10, 'allowed': 5.0},\n",
       " 'Arizona Cardinals': {'rank': 9, 'allowed': 4.65},\n",
       " 'Kansas City Chiefs': {'rank': 8, 'allowed': 4.59},\n",
       " 'Philadelphia Eagles': {'rank': 7, 'allowed': 4.24},\n",
       " 'Indianapolis Colts': {'rank': 6, 'allowed': 4.24},\n",
       " 'Minnesota Vikings': {'rank': 5, 'allowed': 4.18},\n",
       " 'Buffalo Bills': {'rank': 4, 'allowed': 4.12},\n",
       " 'Dallas Cowboys': {'rank': 3, 'allowed': 3.82},\n",
       " 'Green Bay Packers': {'rank': 2, 'allowed': 3.53},\n",
       " 'Tampa Bay Buccaneers': {'rank': 1, 'allowed': 3.41}}"
      ]
     },
     "execution_count": 71,
     "metadata": {},
     "output_type": "execute_result"
    }
   ],
   "source": [
    "# Any additional player or custom rule constraints.\n",
    "#Player -  https://github.com/BenBrostoff/draftfast/blob/68625902ceea83e66ee9f13a44acd732f600f68f/draftfast/orm.py#L245\n",
    "\n",
    "# no players min cost (unlikely to play), low score, or favored to lose except overwhelming proj.\n",
    "# Use salary data from csv as optimization basis.\n",
    "# set((k, v['defensive_rating_rank']) for k,v in rankings.items())\n",
    "# rankings['BUF']\n",
    "\n",
    "allowed_map = get_fantasy_def_points_against(WEEK)\n",
    "allowed_map"
   ]
  },
  {
   "cell_type": "code",
   "execution_count": 72,
   "id": "6426887b-fbdf-4502-898e-8373ad2f517d",
   "metadata": {},
   "outputs": [
    {
     "name": "stdout",
     "output_type": "stream",
     "text": [
      "CJ Uzomah 4.866666666666666 6.1537253824869795 -0.19420873119061258 5.609516651296367 5500.0 0.0010199121184175212\n",
      "Jauan Jennings 10.275 7.307142791748047 -0.1575140161515823 5.8046287755964645 5000.0 0.001160925755119293\n",
      "players 37\n",
      "historic data used 29 of 37\n",
      "('CIN', 9, 6.41, 0.3, 0.1442087311906126, 6.238333333333333, 6.382542064523946, 3400.0, 0.0018772182542717488)\n",
      "('TEN', 5, 6.24, 0.0, 0.7442087311906126, 6.6905882352941175, 7.43479696648473, 4100.0, 0.0018133651137767633)\n",
      "('SF', 9, 3.53, 0.4809090874411843, 0.09342310359276662, 5.4816666666666665, 5.575089770259433, 3700.0, 0.001506781018989036)\n",
      "('GB', 9, 5.18, -0.4, 0.5025140161515824, 5.472352941176471, 5.974866957328054, 4500.0, 0.0013277482127395674)\n",
      "\n",
      "---\n",
      "\n",
      "('Joe Burrow', 28.573333333333334, 23.63403878484987, -0.19420873119061258, 23.08983005365926, 7700.0, 0.0029986792277479557)\n",
      "('Aaron Rodgers', 19.585, 20.46399954223633, -0.1575140161515823, 20.08966735120238, 8400.0, 0.002391627065619331)\n",
      "('Trey Lance', 20.06, 14.71599981689453, -0.1575140161515823, 14.81348580074295, 6200.0, 0.002389271903345637)\n",
      "('Ryan Tannehill', 16.565, 16.591646541819856, -0.19420873119061258, 16.347437810629245, 7300.0, 0.002239375042551951)\n",
      "('Jordan Love', 5.46, 4.597999938964843, -0.1575140161515823, 4.223667747930892, 6100.0, 0.0006924045488411299)\n",
      "('Brandon Allen', 4.87, 3.6111999588012695, -0.19420873119061258, 3.0669912276106572, 6100.0, 0.000502785447149288)\n",
      "('DeShone Kizer', None, 2.799999952316284, -0.19420873119061258, 2.5557912211256717, 6000.0, 0.00042596520352094526)\n",
      "('Jake Browning', None, 2.799999952316284, -0.19420873119061258, 2.255791221125672, 6000.0, 0.0003759652035209453)\n",
      "('Tyler Bray', None, 0.2400000095367432, -0.1575140161515823, 0.33748599338516083, 6000.0, 5.624766556419347e-05)\n",
      "('Nate Sudfeld', None, -0.25999999046325684, -0.1575140161515823, -0.16251400661483917, 6000.0, -2.7085667769139862e-05)\n",
      "('Logan Woodside', 0.0, -0.15000000596046448, -0.19420873119061258, -0.39420873715107696, 6000.0, -6.570145619184617e-05)\n",
      "('Kurt Benkert', None, -0.10000000149011612, -0.1575140161515823, -0.474332192524067, 6000.0, -7.905536542067783e-05)\n"
     ]
    }
   ],
   "source": [
    "players = salary_download.generate_players_from_csvs(salary_file_location=ACTIVE_FILE, game=rules.FAN_DUEL)\n",
    "\n",
    "FAVOR_DIVISION = 10\n",
    "AVERAGE_WEIGHT = .6\n",
    "OVERUNDER_DIVISION = 4\n",
    "\n",
    "defenses = []\n",
    "qbs = []\n",
    "\n",
    "historic_data_used = 0\n",
    "\n",
    "for p in players:\n",
    "    p.average_score = m_score[p.pos]\n",
    "    name = p.name.replace('.', '')\n",
    "    \n",
    "    if WEIGHTED:\n",
    "        base_score = p.proj\n",
    "        \n",
    "        history_key = name_map(p.name) if p.pos != 'D' else p.team.lower()\n",
    "        history_value = historic_averages.get(history_key)\n",
    "        if history_value:\n",
    "            new_score = AVERAGE_WEIGHT*base_score + (1-AVERAGE_WEIGHT)*history_value\n",
    "            base_score = new_score\n",
    "            historic_data_used+=1\n",
    "        else:\n",
    "            new_score = None\n",
    "            # print('no historic data', history_key)\n",
    "            \n",
    "        \n",
    "        rank_bonus = -favor_map.get(p.team, 0)/FAVOR_DIVISION\n",
    "        \n",
    "        # print('rank_bonus', rank_bonus)\n",
    "        teams = p.matchup.split('@')\n",
    "        \n",
    "        \n",
    "        is_home = p.team == teams[1]\n",
    "        if is_home:\n",
    "            rank_bonus += 0.20\n",
    "\n",
    "        teams.remove(p.team) # remove current players team\n",
    "        opponent = teams[0]\n",
    "        \n",
    "        point_bonus = z_map.get(p.team, 0)\n",
    "        if point_bonus:\n",
    "            # max(0, point_bonus/4)\n",
    "            overunder_bonus = -point_bonus/OVERUNDER_DIVISION if p.pos == 'D' else point_bonus/OVERUNDER_DIVISION # lower points better for defensive scoring.\n",
    "            rank_bonus += overunder_bonus\n",
    "            \n",
    "        # current_rank = rankings[p.team]['overall_rating_rank']\n",
    "        # opp_rank = rankings[opponent]['overall_rating_rank']\n",
    "        current_rank = rankings[p.team]['points_rank']\n",
    "        opp_rank = num_teams - rankings[opponent]['offensive_rating_rank']\n",
    "\n",
    "        if p.pos == 'D':\n",
    "            opp_bonus = excluded_bonus[opponent]/2\n",
    "            rank_bonus += opp_bonus\n",
    "            opp_def_avg = allowed_map[rankings[opponent]['team_fk__full_name']]['allowed']\n",
    "            base_score = .5*base_score + .5*opp_def_avg\n",
    "        else:\n",
    "            if p.pos == 'QB':\n",
    "                # negative (downside for QB injuries)\n",
    "                injury_bonus = -excluded_bonus[p.team]\n",
    "            else:\n",
    "                injury_bonus = excluded_bonus[p.team] \n",
    "                \n",
    "            rank_bonus += injury_bonus\n",
    "            \n",
    "        # overall_diff = opp_rank - current_rank # larger the better (should be between 1-32)\n",
    "        # rank_bonus += overall_diff/num_teams*1.5\n",
    "        p.proj = base_score + rank_bonus\n",
    "        \n",
    "        if p.pos == 'D':\n",
    "            defenses.append((p.team, current_rank, opp_def_avg, opp_bonus, rank_bonus, base_score, p.proj, p.cost, p.proj / p.cost))\n",
    "        elif p.pos == 'QB':\n",
    "            qbs.append((history_key, history_value, base_score, overunder_bonus, p.proj, p.cost, p.proj / p.cost))\n",
    "        \n",
    "        if 'Jenn' in name or 'Uzomah' in name:# or p.pos == 'TE':\n",
    "            print(history_key, history_value, base_score, overunder_bonus, p.proj, p.cost, p.proj / p.cost)\n",
    "        \n",
    "\n",
    "print(f\"players {len(players)}\")\n",
    "print(f\"historic data used {historic_data_used} of {len(players)}\") \n",
    "# print(players)\n",
    "\n",
    "for x in sorted(defenses, key=lambda x: x[-1], reverse=True):\n",
    "    print(x)\n",
    "# print(excluded_bonus)\n",
    "print(\"\\n---\\n\")\n",
    "for x in sorted(qbs, key=lambda x: x[-1], reverse=True):\n",
    "    print(x)"
   ]
  },
  {
   "cell_type": "code",
   "execution_count": 73,
   "id": "b6f781f3-44fc-4d32-ac90-c3258b6b643b",
   "metadata": {},
   "outputs": [
    {
     "name": "stdout",
     "output_type": "stream",
     "text": [
      "+----------+------------------+------+---------+--------+--------------------+----------+--------+\n",
      "| Position | Player           | Team | Matchup | Salary |         Projection | vs. Avg. | Locked |\n",
      "+----------+------------------+------+---------+--------+--------------------+----------+--------+\n",
      "| QB       | Joe Burrow       | CIN  | CIN@TEN |  7,700 |  23.08983005365926 |    \u001b[0;32;40m16.32\u001b[0m |        |\n",
      "| RB       | Joe Mixon        | CIN  | CIN@TEN |  7,800 | 15.494614798221152 |     \u001b[0;32;40m4.87\u001b[0m |        |\n",
      "| RB       | AJ Dillon        | GB   | SF@GB   |  6,100 | 12.059892609443104 |     \u001b[0;32;40m1.44\u001b[0m |        |\n",
      "| WR       | Davante Adams    | GB   | SF@GB   |  8,700 | 19.694303700967115 |     \u001b[0;32;40m8.76\u001b[0m |        |\n",
      "| WR       | Deebo Samuel     | SF   | SF@GB   |  8,600 | 18.070897446968825 |     \u001b[0;32;40m7.14\u001b[0m |        |\n",
      "| WR       | Allen Lazard     | GB   | SF@GB   |  6,000 | 12.279304158730787 |     \u001b[0;32;40m1.35\u001b[0m |        |\n",
      "| WR       | Tyler Boyd       | CIN  | CIN@TEN |  5,800 | 11.239948325430865 |     \u001b[0;32;40m0.31\u001b[0m |        |\n",
      "| TE       | Anthony Firkser  | TEN  | CIN@TEN |  5,200 |  6.059791207774232 |    \u001b[0;31;40m-0.50\u001b[0m |        |\n",
      "| D        | Tennessee Titans | TEN  | CIN@TEN |  4,100 |   7.43479696648473 |     \u001b[0;32;40m0.52\u001b[0m |        |\n",
      "+----------+------------------+------+---------+--------+--------------------+----------+--------+\n",
      "\n",
      "Projected Score: 125.42 \t Cost: $60,000\n",
      "min_favored -8\n",
      "spread weighted: True\n",
      "\n",
      "\n",
      "+----------+------------------+------+---------+--------+--------------------+----------+--------+\n",
      "| Position | Player           | Team | Matchup | Salary |         Projection | vs. Avg. | Locked |\n",
      "+----------+------------------+------+---------+--------+--------------------+----------+--------+\n",
      "| QB       | Joe Burrow       | CIN  | CIN@TEN |  7,700 |  23.08983005365926 |    \u001b[0;32;40m16.32\u001b[0m |        |\n",
      "| RB       | Joe Mixon        | CIN  | CIN@TEN |  7,800 | 15.494614798221152 |     \u001b[0;32;40m4.87\u001b[0m |        |\n",
      "| RB       | AJ Dillon        | GB   | SF@GB   |  6,100 | 12.059892609443104 |     \u001b[0;32;40m1.44\u001b[0m |        |\n",
      "| WR       | Davante Adams    | GB   | SF@GB   |  8,700 | 19.694303700967115 |     \u001b[0;32;40m8.76\u001b[0m |        |\n",
      "| WR       | Deebo Samuel     | SF   | SF@GB   |  8,600 | 18.070897446968825 |     \u001b[0;32;40m7.14\u001b[0m |        |\n",
      "| WR       | Allen Lazard     | GB   | SF@GB   |  6,000 | 12.279304158730787 |     \u001b[0;32;40m1.35\u001b[0m |        |\n",
      "| WR       | Tyler Boyd       | CIN  | CIN@TEN |  5,800 | 11.239948325430865 |     \u001b[0;32;40m0.31\u001b[0m |        |\n",
      "| TE       | Anthony Firkser  | TEN  | CIN@TEN |  5,200 |  6.059791207774232 |    \u001b[0;31;40m-0.50\u001b[0m |        |\n",
      "| D        | Tennessee Titans | TEN  | CIN@TEN |  4,100 |   7.43479696648473 |     \u001b[0;32;40m0.52\u001b[0m |        |\n",
      "+----------+------------------+------+---------+--------+--------------------+----------+--------+\n",
      "\n",
      "Projected Score: 125.42 \t Cost: $60,000\n",
      "min_favored -9\n",
      "spread weighted: True\n",
      "\n",
      "\n",
      "+----------+------------------+------+---------+--------+--------------------+----------+--------+\n",
      "| Position | Player           | Team | Matchup | Salary |         Projection | vs. Avg. | Locked |\n",
      "+----------+------------------+------+---------+--------+--------------------+----------+--------+\n",
      "| QB       | Joe Burrow       | CIN  | CIN@TEN |  7,700 |  23.08983005365926 |    \u001b[0;32;40m16.32\u001b[0m |        |\n",
      "| RB       | Joe Mixon        | CIN  | CIN@TEN |  7,800 | 15.494614798221152 |     \u001b[0;32;40m4.87\u001b[0m |        |\n",
      "| RB       | AJ Dillon        | GB   | SF@GB   |  6,100 | 12.059892609443104 |     \u001b[0;32;40m1.44\u001b[0m |        |\n",
      "| WR       | Davante Adams    | GB   | SF@GB   |  8,700 | 19.694303700967115 |     \u001b[0;32;40m8.76\u001b[0m |        |\n",
      "| WR       | Deebo Samuel     | SF   | SF@GB   |  8,600 | 18.070897446968825 |     \u001b[0;32;40m7.14\u001b[0m |        |\n",
      "| WR       | Allen Lazard     | GB   | SF@GB   |  6,000 | 12.279304158730787 |     \u001b[0;32;40m1.35\u001b[0m |        |\n",
      "| WR       | Tyler Boyd       | CIN  | CIN@TEN |  5,800 | 11.239948325430865 |     \u001b[0;32;40m0.31\u001b[0m |        |\n",
      "| TE       | Anthony Firkser  | TEN  | CIN@TEN |  5,200 |  6.059791207774232 |    \u001b[0;31;40m-0.50\u001b[0m |        |\n",
      "| D        | Tennessee Titans | TEN  | CIN@TEN |  4,100 |   7.43479696648473 |     \u001b[0;32;40m0.52\u001b[0m |        |\n",
      "+----------+------------------+------+---------+--------+--------------------+----------+--------+\n",
      "\n",
      "Projected Score: 125.42 \t Cost: $60,000\n",
      "min_favored -10\n",
      "spread weighted: True\n",
      "\n",
      "\n"
     ]
    }
   ],
   "source": [
    "player_settings = PlayerPoolSettings()\n",
    "LOCKED = []\n",
    "BLOCKED_TEAMS = []\n",
    "\n",
    "# overrides:\n",
    "# LOCKED = ['Cincinnati Bengals', 'Davante Adams']\n",
    "# BLOCKED_TEAMS = []\n",
    "\n",
    "constraints = LineupConstraints(locked=LOCKED)\n",
    "\n",
    "MIN_PROJ = 5\n",
    "min_favored = -8\n",
    "MIN_LIMIT = -10\n",
    "\n",
    "roster = None\n",
    "best_roster = None\n",
    "best_score = 0\n",
    "\n",
    "get_score = lambda roster: sum([p.proj for p in roster.players])\n",
    "\n",
    "while min_favored >= MIN_LIMIT:\n",
    "    def block_function(p):\n",
    "        store = p.kv_store\n",
    "        played = int(float(store.get('Played', -1)))\n",
    "        \n",
    "        should_skip = ((p.team in BLOCKED_TEAMS or p.proj < MIN_PROJ) and p.pos != 'D') or (p.cost > max_salary) or played < MAX_PLAYED/2 or (p.pos == 'QB' and p.proj < 12)# or (favor_map.get(p.team, 0) > -min_favored)\n",
    "    \n",
    "        #print(p.name, played, MAX_PLAYED)\n",
    "        return should_skip\n",
    "\n",
    "    opt_settings = OptimizerSettings(\n",
    "        custom_rules=[\n",
    "            CustomRule(\n",
    "                group_a=lambda p: p,\n",
    "                group_b=block_function, \n",
    "                comparison=lambda sum, a, b: sum(b) == 0\n",
    "            ),\n",
    "        ],\n",
    "        min_teams=2\n",
    "    )\n",
    "\n",
    "    roster = run(\n",
    "        rule_set=ACTIVE_RULE_SET,\n",
    "        player_pool=players,\n",
    "        verbose=False,\n",
    "        optimizer_settings=opt_settings,\n",
    "        constraints=constraints,\n",
    "        player_settings=player_settings\n",
    "    )\n",
    "    \n",
    "    if roster:\n",
    "        # total_salary = sum([p.cost for p in roster.players])\n",
    "        print(roster)\n",
    "        print('min_favored', min_favored)# negative means players' teams can lose\n",
    "        print(f\"spread weighted: {WEIGHTED}\\n\\n\")\n",
    "        current_score = get_score(roster)\n",
    "        if not best_score or current_score > best_score:\n",
    "            best_score = current_score\n",
    "            best_roster = roster\n",
    "\n",
    "    min_favored -= 1\n",
    "    \n",
    "    if min_favored >= MIN_LIMIT:\n",
    "        roster = None\n",
    "        \n",
    "if not roster:\n",
    "    print(\"No solution\")\n",
    "elif not favor_map:\n",
    "    print(\"Warning: No favor map used\")"
   ]
  },
  {
   "cell_type": "code",
   "execution_count": null,
   "id": "56bf707e-4e66-44ac-bc15-4f66336731d2",
   "metadata": {},
   "outputs": [],
   "source": []
  },
  {
   "cell_type": "code",
   "execution_count": null,
   "id": "93868d49-5b21-44e0-9b11-0d3c16938a47",
   "metadata": {},
   "outputs": [],
   "source": []
  },
  {
   "cell_type": "code",
   "execution_count": 74,
   "id": "106ddd43-54f7-4bd4-92d7-d09e647a084f",
   "metadata": {},
   "outputs": [
    {
     "name": "stdout",
     "output_type": "stream",
     "text": [
      "Davante Adams                -5.45               18.85 19.694303700967115 16.0 0.9618181748823686\n",
      "AJ Dillon                    -5.45  11.400000000000002 12.059892609443104 17.0 0.9618181748823686\n",
      "Allen Lazard                 -5.45                13.7 12.279304158730787 14.0 0.9618181748823686\n",
      "Anthony Firkser               -3.5   6.550000000000001 6.059791207774232 15.0 0.6\n",
      "Tennessee Titans              -3.5                     7.43479696648473 17.0 0.6\n",
      "Joe Mixon                      3.5  15.700000000000001 15.494614798221152 17.0 0\n",
      "Joe Burrow                     3.5  28.573333333333334 23.08983005365926 17.0 0\n",
      "Tyler Boyd                     3.5  15.233333333333334 11.239948325430865 17.0 0\n",
      "Deebo Samuel                  5.45               20.79 18.070897446968825 17.0 -0.8\n",
      "---\n",
      "Total adv: -7.400000000000001\n",
      "\n"
     ]
    }
   ],
   "source": [
    "# def find_id(first_name, last_name, pos):\n",
    "#     matches = df.loc[(df['First Name'] == first_name) & (df['Last Name'] == last_name) & (df['Position'] == pos)]\n",
    "#     if matches:||\n",
    "#         return matches.iloc[0]['Id']\n",
    "#     return None\n",
    "#print(f\"{\"Player\":20}{\"Advantage\":10}\")\n",
    "if favor_map:\n",
    "    roster = best_roster\n",
    "    sorted_players = sorted(roster.players, key=lambda x: favor_map[x.team])\n",
    "    net_score = 0\n",
    "    for p in sorted_players:\n",
    "        advantage = favor_map[p.team]\n",
    "        name = p.name.replace('.', '')\n",
    "        print(f\"{name:24}{advantage:>10}{historic_averages.get(name, ''):>20} {p.proj} {p.kv_store['Played']} {excluded_bonus[p.team]}\")#, p.kv_store['Played'], MAX_PLAYED)\n",
    "        net_score += advantage\n",
    "    print(f\"---\\nTotal adv: {net_score}\\n\")\n",
    "    roster.players[-1].__dict__\n",
    "\n"
   ]
  },
  {
   "cell_type": "markdown",
   "id": "0459bd08-225c-469a-9ced-d05c7f78ad82",
   "metadata": {},
   "source": []
  },
  {
   "cell_type": "code",
   "execution_count": null,
   "id": "778d7a6a-5f81-44e8-b3c3-00ca48222717",
   "metadata": {},
   "outputs": [],
   "source": []
  },
  {
   "cell_type": "code",
   "execution_count": 75,
   "id": "5c014bcc-d99a-49bd-af57-380610fcc4b5",
   "metadata": {},
   "outputs": [
    {
     "name": "stdout",
     "output_type": "stream",
     "text": [
      "GB Davante Adams 19.694303700967115 10.93046897857846 8700.0   16.0\n",
      "SF Deebo Samuel 18.070897446968825 10.93046897857846 8600.0   17.0\n",
      "CIN Joe Mixon 15.494614798221152 10.620223628224297 7800.0   17.0\n",
      "CIN Joe Burrow 23.08983005365926 6.773270999998146 7700.0   17.0\n",
      "GB AJ Dillon 12.059892609443104 10.620223628224297 6100.0   17.0\n",
      "GB Allen Lazard 12.279304158730787 10.93046897857846 6000.0   14.0\n",
      "CIN Tyler Boyd 11.239948325430865 10.93046897857846 5800.0   17.0\n",
      "TEN Anthony Firkser 6.059791207774232 6.555441157023112 5200.0   15.0\n",
      "TEN Tennessee Titans 7.43479696648473 6.919117647058824 4100.0   17.0\n"
     ]
    }
   ],
   "source": [
    "for r in roster.players:\n",
    "    print(r.team, r.name, r.proj, r.average_score, r.cost,  r.kv_store['Injury Indicator'], r.kv_store['Injury Details'], r.kv_store['Played'])\n",
    "    # if 'Zay' in r.name:\n",
    "    #     print(r.__dict__)"
   ]
  },
  {
   "cell_type": "code",
   "execution_count": 76,
   "id": "8633b81b-eaa2-4311-a284-7e4fa7c76c06",
   "metadata": {},
   "outputs": [
    {
     "name": "stdout",
     "output_type": "stream",
     "text": [
      "done\n"
     ]
    }
   ],
   "source": [
    "# Create upload CSV by reordering columns to match template order.\n",
    "\n",
    "headers = []\n",
    "players = []\n",
    "ORDERED_COLS = ['QB','RB','RB','WR','WR','WR','TE','FLEX','DEF'] # template order.\n",
    "\n",
    "def get_match_names(col):\n",
    "    if col == 'DEF':\n",
    "        return ['D']\n",
    "    elif col == 'FLEX' :\n",
    "        return ['RB', 'WR']\n",
    "    return [col]\n",
    "\n",
    "roster_copy = roster.players.copy()\n",
    "for c in ORDERED_COLS:\n",
    "    headers.append(c)\n",
    "    match_names = get_match_names(c)\n",
    "    for r in roster_copy:\n",
    "        if r.pos in match_names:\n",
    "            p = f\"{r.kv_store['Id']}:{r.name}\"\n",
    "            players.append(p)\n",
    "            roster_copy.remove(r)\n",
    "            break\n",
    "\n",
    "with open('upload.csv', 'w') as f:\n",
    "    f.write(','.join(headers))\n",
    "    f.write('\\n')\n",
    "    f.write(','.join(players))\n",
    "\n",
    "print('done')\n"
   ]
  },
  {
   "cell_type": "code",
   "execution_count": 77,
   "id": "094f3997-422e-48f8-9d09-4c6ef60246b8",
   "metadata": {},
   "outputs": [
    {
     "data": {
      "text/html": [
       "<div>\n",
       "<style scoped>\n",
       "    .dataframe tbody tr th:only-of-type {\n",
       "        vertical-align: middle;\n",
       "    }\n",
       "\n",
       "    .dataframe tbody tr th {\n",
       "        vertical-align: top;\n",
       "    }\n",
       "\n",
       "    .dataframe thead th {\n",
       "        text-align: right;\n",
       "    }\n",
       "</style>\n",
       "<table border=\"1\" class=\"dataframe\">\n",
       "  <thead>\n",
       "    <tr style=\"text-align: right;\">\n",
       "      <th></th>\n",
       "      <th>QB</th>\n",
       "      <th>RB</th>\n",
       "      <th>RB.1</th>\n",
       "      <th>WR</th>\n",
       "      <th>WR.1</th>\n",
       "      <th>WR.2</th>\n",
       "      <th>TE</th>\n",
       "      <th>FLEX</th>\n",
       "      <th>DEF</th>\n",
       "    </tr>\n",
       "  </thead>\n",
       "  <tbody>\n",
       "    <tr>\n",
       "      <th>0</th>\n",
       "      <td>70436-63336:Joe Burrow</td>\n",
       "      <td>70436-52442:Joe Mixon</td>\n",
       "      <td>70436-93107:AJ Dillon</td>\n",
       "      <td>70436-45889:Davante Adams</td>\n",
       "      <td>70436-56018:Deebo Samuel</td>\n",
       "      <td>70436-56809:Allen Lazard</td>\n",
       "      <td>70436-80294:Anthony Firkser</td>\n",
       "      <td>70436-40669:Tyler Boyd</td>\n",
       "      <td>70436-12534:Tennessee Titans</td>\n",
       "    </tr>\n",
       "  </tbody>\n",
       "</table>\n",
       "</div>"
      ],
      "text/plain": [
       "                       QB                     RB                   RB.1  \\\n",
       "0  70436-63336:Joe Burrow  70436-52442:Joe Mixon  70436-93107:AJ Dillon   \n",
       "\n",
       "                          WR                      WR.1  \\\n",
       "0  70436-45889:Davante Adams  70436-56018:Deebo Samuel   \n",
       "\n",
       "                       WR.2                           TE  \\\n",
       "0  70436-56809:Allen Lazard  70436-80294:Anthony Firkser   \n",
       "\n",
       "                     FLEX                           DEF  \n",
       "0  70436-40669:Tyler Boyd  70436-12534:Tennessee Titans  "
      ]
     },
     "execution_count": 77,
     "metadata": {},
     "output_type": "execute_result"
    }
   ],
   "source": [
    "output = pd.read_csv('upload.csv')\n",
    "output"
   ]
  },
  {
   "cell_type": "code",
   "execution_count": 78,
   "id": "4ae78a6b-85a6-447b-bace-58451ebfaccd",
   "metadata": {},
   "outputs": [
    {
     "data": {
      "text/plain": [
       "{'D': 6.919117647058824,\n",
       " 'QB': 9.087694666432398,\n",
       " 'RB': 10.620223628224297,\n",
       " 'TE': 6.555441157023112,\n",
       " 'WR': 10.93046897857846,\n",
       " 'DEF': 6.919117647058824,\n",
       " 'FLEX': 10.775346303401378}"
      ]
     },
     "execution_count": 78,
     "metadata": {},
     "output_type": "execute_result"
    }
   ],
   "source": [
    "m_score = df[(df['FPPG'] > 0) & (df['Played'] > 0)].groupby(['Position'])['FPPG'].mean().to_dict()\n",
    "m_score['DEF'] = m_score['D']\n",
    "m_score['FLEX'] = (m_score['WR']+m_score['RB'])/2\n",
    "m_score"
   ]
  },
  {
   "cell_type": "code",
   "execution_count": 79,
   "id": "909a3423-1f56-464a-a654-578b4332ffdf",
   "metadata": {},
   "outputs": [
    {
     "data": {
      "text/plain": [
       "87.36945396609968"
      ]
     },
     "execution_count": 79,
     "metadata": {},
     "output_type": "execute_result"
    }
   ],
   "source": [
    "expected_score = sum([m_score.get(h) for h in headers])\n",
    "expected_score"
   ]
  },
  {
   "cell_type": "code",
   "execution_count": 80,
   "id": "9c18a8e6-8a95-42cc-bb82-b3d0a207f629",
   "metadata": {},
   "outputs": [
    {
     "data": {
      "text/html": [
       "<div>\n",
       "<style scoped>\n",
       "    .dataframe tbody tr th:only-of-type {\n",
       "        vertical-align: middle;\n",
       "    }\n",
       "\n",
       "    .dataframe tbody tr th {\n",
       "        vertical-align: top;\n",
       "    }\n",
       "\n",
       "    .dataframe thead th {\n",
       "        text-align: right;\n",
       "    }\n",
       "</style>\n",
       "<table border=\"1\" class=\"dataframe\">\n",
       "  <thead>\n",
       "    <tr style=\"text-align: right;\">\n",
       "      <th></th>\n",
       "      <th>Id</th>\n",
       "      <th>Position</th>\n",
       "      <th>First Name</th>\n",
       "      <th>Nickname</th>\n",
       "      <th>Last Name</th>\n",
       "      <th>FPPG</th>\n",
       "      <th>Played</th>\n",
       "      <th>Salary</th>\n",
       "      <th>Game</th>\n",
       "      <th>Team</th>\n",
       "      <th>Opponent</th>\n",
       "      <th>Injury Indicator</th>\n",
       "      <th>Injury Details</th>\n",
       "      <th>Tier</th>\n",
       "      <th>Unnamed: 14</th>\n",
       "      <th>Unnamed: 15</th>\n",
       "      <th>Roster Position</th>\n",
       "      <th>Name</th>\n",
       "      <th>Salary/FPPG</th>\n",
       "    </tr>\n",
       "  </thead>\n",
       "  <tbody>\n",
       "  </tbody>\n",
       "</table>\n",
       "</div>"
      ],
      "text/plain": [
       "Empty DataFrame\n",
       "Columns: [Id, Position, First Name, Nickname, Last Name, FPPG, Played, Salary, Game, Team, Opponent, Injury Indicator, Injury Details, Tier, Unnamed: 14, Unnamed: 15, Roster Position, Name, Salary/FPPG]\n",
       "Index: []"
      ]
     },
     "execution_count": 80,
     "metadata": {},
     "output_type": "execute_result"
    }
   ],
   "source": [
    "# Players that have non-null injury status.\n",
    "df[(~df['Injury Indicator'].isna()) | ~df['Injury Details'].isna()]"
   ]
  },
  {
   "cell_type": "code",
   "execution_count": 81,
   "id": "39c5690f-e1db-4842-a458-a1782a4ddc1f",
   "metadata": {},
   "outputs": [
    {
     "data": {
      "text/html": [
       "<div>\n",
       "<style scoped>\n",
       "    .dataframe tbody tr th:only-of-type {\n",
       "        vertical-align: middle;\n",
       "    }\n",
       "\n",
       "    .dataframe tbody tr th {\n",
       "        vertical-align: top;\n",
       "    }\n",
       "\n",
       "    .dataframe thead th {\n",
       "        text-align: right;\n",
       "    }\n",
       "</style>\n",
       "<table border=\"1\" class=\"dataframe\">\n",
       "  <thead>\n",
       "    <tr style=\"text-align: right;\">\n",
       "      <th></th>\n",
       "      <th>Id</th>\n",
       "      <th>Position</th>\n",
       "      <th>First Name</th>\n",
       "      <th>Nickname</th>\n",
       "      <th>Last Name</th>\n",
       "      <th>FPPG</th>\n",
       "      <th>Played</th>\n",
       "      <th>Salary</th>\n",
       "      <th>Game</th>\n",
       "      <th>Team</th>\n",
       "      <th>Opponent</th>\n",
       "      <th>Injury Indicator</th>\n",
       "      <th>Injury Details</th>\n",
       "      <th>Tier</th>\n",
       "      <th>Unnamed: 14</th>\n",
       "      <th>Unnamed: 15</th>\n",
       "      <th>Roster Position</th>\n",
       "      <th>Name</th>\n",
       "      <th>Salary/FPPG</th>\n",
       "    </tr>\n",
       "  </thead>\n",
       "  <tbody>\n",
       "  </tbody>\n",
       "</table>\n",
       "</div>"
      ],
      "text/plain": [
       "Empty DataFrame\n",
       "Columns: [Id, Position, First Name, Nickname, Last Name, FPPG, Played, Salary, Game, Team, Opponent, Injury Indicator, Injury Details, Tier, Unnamed: 14, Unnamed: 15, Roster Position, Name, Salary/FPPG]\n",
       "Index: []"
      ]
     },
     "execution_count": 81,
     "metadata": {},
     "output_type": "execute_result"
    }
   ],
   "source": [
    "df[df['First Name'] == 'Zay']"
   ]
  },
  {
   "cell_type": "code",
   "execution_count": 82,
   "id": "0a6fab38-3c28-4a5b-b40b-dcb1aab03b1f",
   "metadata": {},
   "outputs": [
    {
     "data": {
      "text/html": [
       "<div>\n",
       "<style scoped>\n",
       "    .dataframe tbody tr th:only-of-type {\n",
       "        vertical-align: middle;\n",
       "    }\n",
       "\n",
       "    .dataframe tbody tr th {\n",
       "        vertical-align: top;\n",
       "    }\n",
       "\n",
       "    .dataframe thead th {\n",
       "        text-align: right;\n",
       "    }\n",
       "</style>\n",
       "<table border=\"1\" class=\"dataframe\">\n",
       "  <thead>\n",
       "    <tr style=\"text-align: right;\">\n",
       "      <th></th>\n",
       "      <th>Id</th>\n",
       "      <th>Position</th>\n",
       "      <th>First Name</th>\n",
       "      <th>Nickname</th>\n",
       "      <th>Last Name</th>\n",
       "      <th>FPPG</th>\n",
       "      <th>Played</th>\n",
       "      <th>Salary</th>\n",
       "      <th>Game</th>\n",
       "      <th>Team</th>\n",
       "      <th>Opponent</th>\n",
       "      <th>Injury Indicator</th>\n",
       "      <th>Injury Details</th>\n",
       "      <th>Tier</th>\n",
       "      <th>Unnamed: 14</th>\n",
       "      <th>Unnamed: 15</th>\n",
       "      <th>Roster Position</th>\n",
       "      <th>Name</th>\n",
       "      <th>Salary/FPPG</th>\n",
       "    </tr>\n",
       "  </thead>\n",
       "  <tbody>\n",
       "  </tbody>\n",
       "</table>\n",
       "</div>"
      ],
      "text/plain": [
       "Empty DataFrame\n",
       "Columns: [Id, Position, First Name, Nickname, Last Name, FPPG, Played, Salary, Game, Team, Opponent, Injury Indicator, Injury Details, Tier, Unnamed: 14, Unnamed: 15, Roster Position, Name, Salary/FPPG]\n",
       "Index: []"
      ]
     },
     "execution_count": 82,
     "metadata": {},
     "output_type": "execute_result"
    }
   ],
   "source": [
    "# Potentially unaccounted positions\n",
    "df[~df['Position'].isin(ALL_POSITIONS)]"
   ]
  },
  {
   "cell_type": "code",
   "execution_count": 83,
   "id": "9d52b6be-5525-4754-95ad-1467c5ceb9e7",
   "metadata": {},
   "outputs": [
    {
     "data": {
      "text/html": [
       "<div>\n",
       "<style scoped>\n",
       "    .dataframe tbody tr th:only-of-type {\n",
       "        vertical-align: middle;\n",
       "    }\n",
       "\n",
       "    .dataframe tbody tr th {\n",
       "        vertical-align: top;\n",
       "    }\n",
       "\n",
       "    .dataframe thead th {\n",
       "        text-align: right;\n",
       "    }\n",
       "</style>\n",
       "<table border=\"1\" class=\"dataframe\">\n",
       "  <thead>\n",
       "    <tr style=\"text-align: right;\">\n",
       "      <th></th>\n",
       "      <th>FPPG</th>\n",
       "      <th>Nickname</th>\n",
       "      <th>Salary</th>\n",
       "      <th>Salary/FPPG</th>\n",
       "    </tr>\n",
       "  </thead>\n",
       "  <tbody>\n",
       "    <tr>\n",
       "      <th>127</th>\n",
       "      <td>7.055556</td>\n",
       "      <td>San Francisco 49ers</td>\n",
       "      <td>3700</td>\n",
       "      <td>0.001907</td>\n",
       "    </tr>\n",
       "    <tr>\n",
       "      <th>128</th>\n",
       "      <td>6.444444</td>\n",
       "      <td>Cincinnati Bengals</td>\n",
       "      <td>3400</td>\n",
       "      <td>0.001895</td>\n",
       "    </tr>\n",
       "    <tr>\n",
       "      <th>109</th>\n",
       "      <td>7.235294</td>\n",
       "      <td>Tennessee Titans</td>\n",
       "      <td>4100</td>\n",
       "      <td>0.001765</td>\n",
       "    </tr>\n",
       "    <tr>\n",
       "      <th>99</th>\n",
       "      <td>6.941176</td>\n",
       "      <td>Green Bay Packers</td>\n",
       "      <td>4500</td>\n",
       "      <td>0.001542</td>\n",
       "    </tr>\n",
       "  </tbody>\n",
       "</table>\n",
       "</div>"
      ],
      "text/plain": [
       "         FPPG             Nickname  Salary  Salary/FPPG\n",
       "127  7.055556  San Francisco 49ers    3700     0.001907\n",
       "128  6.444444   Cincinnati Bengals    3400     0.001895\n",
       "109  7.235294     Tennessee Titans    4100     0.001765\n",
       "99   6.941176    Green Bay Packers    4500     0.001542"
      ]
     },
     "execution_count": 83,
     "metadata": {},
     "output_type": "execute_result"
    }
   ],
   "source": [
    "df[df['Position'] == 'D'][['FPPG', 'Nickname', 'Salary', 'Salary/FPPG']].sort_values('Salary/FPPG', ascending=False)"
   ]
  },
  {
   "cell_type": "code",
   "execution_count": 84,
   "id": "62a26827-7853-4ebc-8553-275e9162072d",
   "metadata": {},
   "outputs": [
    {
     "data": {
      "text/html": [
       "<div>\n",
       "<style scoped>\n",
       "    .dataframe tbody tr th:only-of-type {\n",
       "        vertical-align: middle;\n",
       "    }\n",
       "\n",
       "    .dataframe tbody tr th {\n",
       "        vertical-align: top;\n",
       "    }\n",
       "\n",
       "    .dataframe thead th {\n",
       "        text-align: right;\n",
       "    }\n",
       "</style>\n",
       "<table border=\"1\" class=\"dataframe\">\n",
       "  <thead>\n",
       "    <tr style=\"text-align: right;\">\n",
       "      <th></th>\n",
       "      <th>Id</th>\n",
       "      <th>Position</th>\n",
       "      <th>First Name</th>\n",
       "      <th>Nickname</th>\n",
       "      <th>Last Name</th>\n",
       "      <th>FPPG</th>\n",
       "      <th>Played</th>\n",
       "      <th>Salary</th>\n",
       "      <th>Game</th>\n",
       "      <th>Team</th>\n",
       "      <th>Opponent</th>\n",
       "      <th>Injury Indicator</th>\n",
       "      <th>Injury Details</th>\n",
       "      <th>Tier</th>\n",
       "      <th>Unnamed: 14</th>\n",
       "      <th>Unnamed: 15</th>\n",
       "      <th>Roster Position</th>\n",
       "      <th>Name</th>\n",
       "      <th>Salary/FPPG</th>\n",
       "    </tr>\n",
       "  </thead>\n",
       "  <tbody>\n",
       "  </tbody>\n",
       "</table>\n",
       "</div>"
      ],
      "text/plain": [
       "Empty DataFrame\n",
       "Columns: [Id, Position, First Name, Nickname, Last Name, FPPG, Played, Salary, Game, Team, Opponent, Injury Indicator, Injury Details, Tier, Unnamed: 14, Unnamed: 15, Roster Position, Name, Salary/FPPG]\n",
       "Index: []"
      ]
     },
     "execution_count": 84,
     "metadata": {},
     "output_type": "execute_result"
    }
   ],
   "source": [
    "df[df['Team'] == 'JAC']"
   ]
  },
  {
   "cell_type": "code",
   "execution_count": null,
   "id": "b4260559-e7f5-4a0b-ab94-215f81fe4750",
   "metadata": {},
   "outputs": [],
   "source": []
  },
  {
   "cell_type": "code",
   "execution_count": 85,
   "id": "3f93e669-f715-4fa5-9125-7340af8cb638",
   "metadata": {},
   "outputs": [
    {
     "data": {
      "text/plain": [
       "HomeTeam       TEN\n",
       "PointSpread   -3.5\n",
       "Name: 1, dtype: object"
      ]
     },
     "execution_count": 85,
     "metadata": {},
     "output_type": "execute_result"
    }
   ],
   "source": [
    "spread_df.iloc[1][['HomeTeam', 'PointSpread']]"
   ]
  },
  {
   "cell_type": "code",
   "execution_count": 86,
   "id": "8d9317ee-6652-48bc-97be-48a3e94634ad",
   "metadata": {},
   "outputs": [
    {
     "name": "stdout",
     "output_type": "stream",
     "text": [
      " 1. QB      Joe Burrow                    QB    CIN            CIN@TEN  20.341         7700.0$   \n",
      " 2. RB      D'Onta Foreman                RB    TEN            CIN@TEN  9.933          5500.0$   \n",
      " 3. RB      Dontrell Hilliard             RB    TEN            CIN@TEN  9.029          5100.0$   \n",
      " 4. WR      Davante Adams                 WR    GB             SF@GB    17.675         8700.0$   \n",
      " 5. WR      Deebo Samuel                  WR    SF             SF@GB    18.762         8600.0$   \n",
      " 6. WR      Tee Higgins                   WR    CIN            CIN@TEN  12.24          6400.0$   \n",
      " 7. TE      George Kittle                 TE    SF             SF@GB    10.987         6400.0$   \n",
      " 8. FLEX    Joe Mixon                     RB    CIN            CIN@TEN  16.265         7800.0$   \n",
      " 9. DEF     San Francisco 49ers           D     SF             SF@GB    7.056          3700.0$   \n",
      "\n",
      "Fantasy Points 122.29\n",
      "Salary 59900.00\n",
      "\n",
      " 1. QB      Joe Burrow                    QB    CIN            CIN@TEN  20.341         7700.0$   \n",
      " 2. RB      D'Onta Foreman                RB    TEN            CIN@TEN  9.933          5500.0$   \n",
      " 3. RB      Dontrell Hilliard             RB    TEN            CIN@TEN  9.029          5100.0$   \n",
      " 4. WR      Davante Adams                 WR    GB             SF@GB    17.675         8700.0$   \n",
      " 5. WR      Deebo Samuel                  WR    SF             SF@GB    18.762         8600.0$   \n",
      " 6. WR      Tee Higgins                   WR    CIN            CIN@TEN  12.24          6400.0$   \n",
      " 7. TE      George Kittle                 TE    SF             SF@GB    10.987         6400.0$   \n",
      " 8. FLEX    Joe Mixon                     RB    CIN            CIN@TEN  16.265         7800.0$   \n",
      " 9. DEF     Cincinnati Bengals            D     CIN            CIN@TEN  6.444          3400.0$   \n",
      "\n",
      "Fantasy Points 121.68\n",
      "Salary 59600.00\n",
      "\n",
      " 1. QB      Joe Burrow                    QB    CIN            CIN@TEN  20.341         7700.0$   \n",
      " 2. RB      D'Onta Foreman                RB    TEN            CIN@TEN  9.933          5500.0$   \n",
      " 3. RB      Dontrell Hilliard             RB    TEN            CIN@TEN  9.029          5100.0$   \n",
      " 4. WR      Davante Adams                 WR    GB             SF@GB    17.675         8700.0$   \n",
      " 5. WR      Deebo Samuel                  WR    SF             SF@GB    18.762         8600.0$   \n",
      " 6. WR      Ja'Marr Chase                 WR    CIN            CIN@TEN  15.694         8200.0$   \n",
      " 7. TE      George Kittle                 TE    SF             SF@GB    10.987         6400.0$   \n",
      " 8. FLEX    Tee Higgins                   WR    CIN            CIN@TEN  12.24          6400.0$   \n",
      " 9. DEF     Cincinnati Bengals            D     CIN            CIN@TEN  6.444          3400.0$   \n",
      "\n",
      "Fantasy Points 121.11\n",
      "Salary 60000.00\n",
      "\n",
      " 1. QB      Joe Burrow                    QB    CIN            CIN@TEN  20.341         7700.0$   \n",
      " 2. RB      D'Onta Foreman                RB    TEN            CIN@TEN  9.933          5500.0$   \n",
      " 3. RB      Dontrell Hilliard             RB    TEN            CIN@TEN  9.029          5100.0$   \n",
      " 4. WR      Deebo Samuel                  WR    SF             SF@GB    18.762         8600.0$   \n",
      " 5. WR      Ja'Marr Chase                 WR    CIN            CIN@TEN  15.694         8200.0$   \n",
      " 6. WR      Tee Higgins                   WR    CIN            CIN@TEN  12.24          6400.0$   \n",
      " 7. TE      George Kittle                 TE    SF             SF@GB    10.987         6400.0$   \n",
      " 8. FLEX    Joe Mixon                     RB    CIN            CIN@TEN  16.265         7800.0$   \n",
      " 9. DEF     Tennessee Titans              D     TEN            CIN@TEN  7.235          4100.0$   \n",
      "\n",
      "Fantasy Points 120.49\n",
      "Salary 59800.00\n",
      "\n",
      " 1. QB      Joe Burrow                    QB    CIN            CIN@TEN  20.341         7700.0$   \n",
      " 2. RB      D'Onta Foreman                RB    TEN            CIN@TEN  9.933          5500.0$   \n",
      " 3. RB      Dontrell Hilliard             RB    TEN            CIN@TEN  9.029          5100.0$   \n",
      " 4. WR      Davante Adams                 WR    GB             SF@GB    17.675         8700.0$   \n",
      " 5. WR      Deebo Samuel                  WR    SF             SF@GB    18.762         8600.0$   \n",
      " 6. WR      Tee Higgins                   WR    CIN            CIN@TEN  12.24          6400.0$   \n",
      " 7. TE      George Kittle                 TE    SF             SF@GB    10.987         6400.0$   \n",
      " 8. FLEX    Eli Mitchell                  RB    SF             SF@GB    14.208         7300.0$   \n",
      " 9. DEF     Tennessee Titans              D     TEN            CIN@TEN  7.235          4100.0$   \n",
      "\n",
      "Fantasy Points 120.41\n",
      "Salary 59800.00\n",
      "\n",
      " 1. QB      Aaron Rodgers                 QB    GB             SF@GB    21.05          8400.0$   \n",
      " 2. RB      D'Onta Foreman                RB    TEN            CIN@TEN  9.933          5500.0$   \n",
      " 3. RB      Dontrell Hilliard             RB    TEN            CIN@TEN  9.029          5100.0$   \n",
      " 4. WR      Deebo Samuel                  WR    SF             SF@GB    18.762         8600.0$   \n",
      " 5. WR      Ja'Marr Chase                 WR    CIN            CIN@TEN  15.694         8200.0$   \n",
      " 6. WR      Tee Higgins                   WR    CIN            CIN@TEN  12.24          6400.0$   \n",
      " 7. TE      George Kittle                 TE    SF             SF@GB    10.987         6400.0$   \n",
      " 8. FLEX    Joe Mixon                     RB    CIN            CIN@TEN  16.265         7800.0$   \n",
      " 9. DEF     Cincinnati Bengals            D     CIN            CIN@TEN  6.444          3400.0$   \n",
      "\n",
      "Fantasy Points 120.41\n",
      "Salary 59800.00\n",
      "\n",
      " 1. QB      Aaron Rodgers                 QB    GB             SF@GB    21.05          8400.0$   \n",
      " 2. RB      D'Onta Foreman                RB    TEN            CIN@TEN  9.933          5500.0$   \n",
      " 3. RB      Dontrell Hilliard             RB    TEN            CIN@TEN  9.029          5100.0$   \n",
      " 4. WR      Davante Adams                 WR    GB             SF@GB    17.675         8700.0$   \n",
      " 5. WR      Deebo Samuel                  WR    SF             SF@GB    18.762         8600.0$   \n",
      " 6. WR      Tee Higgins                   WR    CIN            CIN@TEN  12.24          6400.0$   \n",
      " 7. TE      George Kittle                 TE    SF             SF@GB    10.987         6400.0$   \n",
      " 8. FLEX    Eli Mitchell                  RB    SF             SF@GB    14.208         7300.0$   \n",
      " 9. DEF     Cincinnati Bengals            D     CIN            CIN@TEN  6.444          3400.0$   \n",
      "\n",
      "Fantasy Points 120.33\n",
      "Salary 59800.00\n",
      "\n",
      " 1. QB      Joe Burrow                    QB    CIN            CIN@TEN  20.341         7700.0$   \n",
      " 2. RB      D'Onta Foreman                RB    TEN            CIN@TEN  9.933          5500.0$   \n",
      " 3. RB      Dontrell Hilliard             RB    TEN            CIN@TEN  9.029          5100.0$   \n",
      " 4. WR      Deebo Samuel                  WR    SF             SF@GB    18.762         8600.0$   \n",
      " 5. WR      Ja'Marr Chase                 WR    CIN            CIN@TEN  15.694         8200.0$   \n",
      " 6. WR      Tee Higgins                   WR    CIN            CIN@TEN  12.24          6400.0$   \n",
      " 7. TE      George Kittle                 TE    SF             SF@GB    10.987         6400.0$   \n",
      " 8. FLEX    Joe Mixon                     RB    CIN            CIN@TEN  16.265         7800.0$   \n",
      " 9. DEF     San Francisco 49ers           D     SF             SF@GB    7.056          3700.0$   \n",
      "\n",
      "Fantasy Points 120.31\n",
      "Salary 59400.00\n",
      "\n",
      " 1. QB      Joe Burrow                    QB    CIN            CIN@TEN  20.341         7700.0$   \n",
      " 2. RB      AJ Dillon                     RB    GB             SF@GB    9.918          6100.0$   \n",
      " 3. RB      Dontrell Hilliard             RB    TEN            CIN@TEN  9.029          5100.0$   \n",
      " 4. WR      Deebo Samuel                  WR    SF             SF@GB    18.762         8600.0$   \n",
      " 5. WR      Ja'Marr Chase                 WR    CIN            CIN@TEN  15.694         8200.0$   \n",
      " 6. WR      Tee Higgins                   WR    CIN            CIN@TEN  12.24          6400.0$   \n",
      " 7. TE      George Kittle                 TE    SF             SF@GB    10.987         6400.0$   \n",
      " 8. FLEX    Joe Mixon                     RB    CIN            CIN@TEN  16.265         7800.0$   \n",
      " 9. DEF     San Francisco 49ers           D     SF             SF@GB    7.056          3700.0$   \n",
      "\n",
      "Fantasy Points 120.29\n",
      "Salary 60000.00\n",
      "\n",
      " 1. QB      Aaron Rodgers                 QB    GB             SF@GB    21.05          8400.0$   \n",
      " 2. RB      D'Onta Foreman                RB    TEN            CIN@TEN  9.933          5500.0$   \n",
      " 3. RB      Dontrell Hilliard             RB    TEN            CIN@TEN  9.029          5100.0$   \n",
      " 4. WR      Davante Adams                 WR    GB             SF@GB    17.675         8700.0$   \n",
      " 5. WR      Deebo Samuel                  WR    SF             SF@GB    18.762         8600.0$   \n",
      " 6. WR      Tyler Boyd                    WR    CIN            CIN@TEN  9.485          5800.0$   \n",
      " 7. TE      George Kittle                 TE    SF             SF@GB    10.987         6400.0$   \n",
      " 8. FLEX    Joe Mixon                     RB    CIN            CIN@TEN  16.265         7800.0$   \n",
      " 9. DEF     San Francisco 49ers           D     SF             SF@GB    7.056          3700.0$   \n",
      "\n",
      "Fantasy Points 120.24\n",
      "Salary 60000.00\n",
      "\n"
     ]
    }
   ],
   "source": [
    "from pydfs_lineup_optimizer import Site, Sport, get_optimizer\n",
    "\n",
    "optimizer = get_optimizer(Site.FANDUEL, Sport.FOOTBALL)\n",
    "optimizer.load_players_from_csv(ACTIVE_FILE)\n",
    "for lineup in optimizer.optimize(10):\n",
    "    print(lineup)\n"
   ]
  },
  {
   "cell_type": "code",
   "execution_count": null,
   "id": "2c63ac8a-6129-43c2-aac2-744035a26c19",
   "metadata": {},
   "outputs": [],
   "source": []
  },
  {
   "cell_type": "code",
   "execution_count": null,
   "id": "89baf020-4dd7-427e-a5dd-ba0893ac45ec",
   "metadata": {},
   "outputs": [],
   "source": []
  }
 ],
 "metadata": {
  "kernelspec": {
   "display_name": "Python 3",
   "language": "python",
   "name": "python3"
  },
  "language_info": {
   "codemirror_mode": {
    "name": "ipython",
    "version": 3
   },
   "file_extension": ".py",
   "mimetype": "text/x-python",
   "name": "python",
   "nbconvert_exporter": "python",
   "pygments_lexer": "ipython3",
   "version": "3.7.12"
  }
 },
 "nbformat": 4,
 "nbformat_minor": 5
}
