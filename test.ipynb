{
 "cells": [
  {
   "cell_type": "code",
   "execution_count": 1,
   "id": "b0c2a494-4e3c-4263-99e1-5109514fc5fe",
   "metadata": {},
   "outputs": [],
   "source": [
    "import requests\n",
    "\n",
    "def get_data(week):\n",
    "    url = \"https://bettingdata.com/NFL_Odds/Odds_Read\"\n",
    "\n",
    "    payload = \"{\\\"filters\\\":{\\\"scope\\\":1,\\\"subscope\\\":2,\\\"week\\\":3,\\\"season\\\":2021,\\\"seasontype\\\":1,\\\"team\\\":null,\\\"conference\\\":null,\\\"exportType\\\":null,\\\"date\\\":null,\\\"teamkey\\\":\\\"ARI\\\",\\\"show_no_odds\\\":false,\\\"client\\\":1,\\\"state\\\":\\\"WORLD\\\",\\\"geo_state\\\":null,\\\"league\\\":\\\"nfl\\\",\\\"widget_scope\\\":1}}\"\n",
    "    headers = {\n",
    "      'authority': 'bettingdata.com',\n",
    "      'sec-ch-ua': '\"Google Chrome\";v=\"93\", \" Not;A Brand\";v=\"99\", \"Chromium\";v=\"93\"',\n",
    "      'accept': 'application/json, text/plain, */*',\n",
    "      'content-type': 'application/json;charset=UTF-8',\n",
    "      'sec-ch-ua-mobile': '?0',\n",
    "      'user-agent': 'Mozilla/5.0 (Macintosh; Intel Mac OS X 10_15_7) AppleWebKit/537.36 (KHTML, like Gecko) Chrome/93.0.4577.82 Safari/537.36',\n",
    "      'sec-ch-ua-platform': '\"macOS\"',\n",
    "      'origin': 'https://bettingdata.com',\n",
    "      'sec-fetch-site': 'same-origin',\n",
    "      'sec-fetch-mode': 'cors',\n",
    "      'sec-fetch-dest': 'empty',\n",
    "      'referer': 'https://bettingdata.com/nfl/odds?scope=1&subscope=2&week=3&season=2021&seasontype=1&teamkey=ARI&client=1&state=WORLD&league=nfl&widget_scope=1',\n",
    "      'accept-language': 'en-US,en;q=0.9,es;q=0.8',\n",
    "      'cookie': '_ga=GA1.1.197300910.1632099438; _cioanonid=b79c5d7c-926f-6403-3a20-2fd25bdfc87d; _ga_QXY5NYRE7Q=GS1.1.1632099437.1.1.1632099464.0'\n",
    "    }\n",
    "\n",
    "    response = requests.request(\"POST\", url, headers=headers, data=payload)\n",
    "\n",
    "    print(response.text)\n",
    "\n",
    "#     df = pd.read_json(data)\n",
    "#     df.to_csv(f\"./data/week_{week}.csv\")\n",
    "#     return df\n",
    "    return response"
   ]
  },
  {
   "cell_type": "code",
   "execution_count": 8,
   "id": "5f3279a3-b923-48fc-8718-2bbd89dc346e",
   "metadata": {},
   "outputs": [],
   "source": [
    "# get_data(3)\n",
    "from bs4 import BeautifulSoup\n",
    "from urllib.request import urlopen\n",
    "\n",
    "\n",
    "url = f\"https://fantasy.nfl.com/research/pointsagainst?position=8&statCategory=pointsAgainst&statSeason=2021&statType=seasonPointsAgainst\"\n",
    "\n",
    "\n",
    "page = urlopen(url)\n",
    "soup = BeautifulSoup(page, \"html.parser\")\n",
    "rows = soup.find_all('td', attrs={'class': 'teamNameAndInfo'})"
   ]
  },
  {
   "cell_type": "code",
   "execution_count": 35,
   "id": "d2a366d1-bafd-483e-a09e-6f95c4159642",
   "metadata": {},
   "outputs": [],
   "source": [
    "teams = [row.text.replace('vs', '').replace(' DEF', '') for row in rows]\n"
   ]
  },
  {
   "cell_type": "code",
   "execution_count": 36,
   "id": "7b6ee885-7941-476d-bc89-d6bbf733e577",
   "metadata": {},
   "outputs": [
    {
     "data": {
      "text/plain": [
       "[9.71,\n",
       " 9.59,\n",
       " 9.59,\n",
       " 9.47,\n",
       " 9.12,\n",
       " 8.35,\n",
       " 8.24,\n",
       " 7.65,\n",
       " 7.53,\n",
       " 7.53,\n",
       " 7.41,\n",
       " 6.94,\n",
       " 6.65,\n",
       " 6.53,\n",
       " 6.47,\n",
       " 6.41,\n",
       " 6.24,\n",
       " 6.06,\n",
       " 5.71,\n",
       " 5.71,\n",
       " 5.47,\n",
       " 5.18,\n",
       " 5.0,\n",
       " 4.65,\n",
       " 4.59,\n",
       " 4.24,\n",
       " 4.24,\n",
       " 4.18,\n",
       " 4.12,\n",
       " 3.82,\n",
       " 3.53,\n",
       " 3.41]"
      ]
     },
     "execution_count": 36,
     "metadata": {},
     "output_type": "execute_result"
    }
   ],
   "source": [
    "points = []\n",
    "for r in soup.find_all('td', attrs={'class', 'numeric'}):\n",
    "    against = r.find('span', attrs={'class', 'pointsAgainstStatId-pts'})\n",
    "    if against:\n",
    "        points.append(float(against.text))\n",
    "        \n",
    "points"
   ]
  },
  {
   "cell_type": "code",
   "execution_count": 37,
   "id": "73fb9bb2-5396-44e8-954d-2a18b3f69b2a",
   "metadata": {},
   "outputs": [
    {
     "name": "stdout",
     "output_type": "stream",
     "text": [
      "0 Jacksonville Jaguars\n",
      "1 Atlanta Falcons\n",
      "2 New York Giants\n",
      "3 Carolina Panthers\n",
      "4 Chicago Bears\n",
      "5 Baltimore Ravens\n",
      "6 New York Jets\n",
      "7 Houston Texans\n",
      "8 Washington Football Team\n",
      "9 Denver Broncos\n",
      "10 Miami Dolphins\n",
      "11 Las Vegas Raiders\n",
      "12 Detroit Lions\n",
      "13 Cleveland Browns\n",
      "14 New Orleans Saints\n",
      "15 Tennessee Titans\n",
      "16 Cincinnati Bengals\n",
      "17 Pittsburgh Steelers\n",
      "18 New England Patriots\n",
      "19 Los Angeles Rams\n",
      "20 Seattle Seahawks\n",
      "21 San Francisco 49ers\n",
      "22 Los Angeles Chargers\n",
      "23 Arizona Cardinals\n",
      "24 Kansas City Chiefs\n",
      "25 Philadelphia Eagles\n",
      "26 Indianapolis Colts\n",
      "27 Minnesota Vikings\n",
      "28 Buffalo Bills\n",
      "29 Dallas Cowboys\n",
      "30 Green Bay Packers\n",
      "31 Tampa Bay Buccaneers\n"
     ]
    }
   ],
   "source": [
    "def_map = {}\n",
    "for i, team in enumerate(teams):\n",
    "    rank = len(teams) - i\n",
    "    def_map[team] = {\n",
    "        'rank': rank,\n",
    "        'allowed': points[i]\n",
    "    }"
   ]
  },
  {
   "cell_type": "code",
   "execution_count": null,
   "id": "1b21ca1b-f509-4dcc-aa68-b6d1728ae223",
   "metadata": {},
   "outputs": [],
   "source": []
  }
 ],
 "metadata": {
  "kernelspec": {
   "display_name": "Python 3",
   "language": "python",
   "name": "python3"
  },
  "language_info": {
   "codemirror_mode": {
    "name": "ipython",
    "version": 3
   },
   "file_extension": ".py",
   "mimetype": "text/x-python",
   "name": "python",
   "nbconvert_exporter": "python",
   "pygments_lexer": "ipython3",
   "version": "3.7.12"
  }
 },
 "nbformat": 4,
 "nbformat_minor": 5
}
