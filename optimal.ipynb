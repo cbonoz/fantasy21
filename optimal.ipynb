{
 "cells": [
  {
   "cell_type": "code",
   "execution_count": 2,
   "id": "0a1183ef-42bd-45b7-b800-979d74930000",
   "metadata": {},
   "outputs": [
    {
     "name": "stdout",
     "output_type": "stream",
     "text": [
      "The autoreload extension is already loaded. To reload it, use:\n",
      "  %reload_ext autoreload\n",
      "ready\n"
     ]
    }
   ],
   "source": [
    "%load_ext autoreload\n",
    "%autoreload 0\n",
    "\n",
    "import os, json\n",
    "from draftfast import rules\n",
    "from draftfast.optimize import run\n",
    "from draftfast.orm import Player\n",
    "from draftfast.csv_parse import salary_download\n",
    "from draftfast.settings import OptimizerSettings, CustomRule, PlayerPoolSettings\n",
    "from draftfast.lineup_constraints import LineupConstraints\n",
    "import pandas as pd\n",
    "import numpy as np\n",
    "from spread import get_spread_data, get_current_rankings\n",
    "from collections import defaultdict\n",
    "\n",
    "WEEK = 14\n",
    "SALARY_FILE = f\"./history/week{WEEK}.csv\"\n",
    "MIN_SALARY = 0\n",
    "\n",
    "# http://rotoguru1.com/cgi-bin/fyday.pl?week=13&game=fd&scsv=1\n",
    "ACTIVE_FILE = f\"./history/optimal{WEEK}.csv\"\n",
    "\n",
    "print('ready')"
   ]
  },
  {
   "cell_type": "code",
   "execution_count": 3,
   "id": "83e4cb52-a76c-4ce1-a930-9b6312e01fb3",
   "metadata": {},
   "outputs": [
    {
     "name": "stdout",
     "output_type": "stream",
     "text": [
      "['Nickname' 'Position' 'FPPG' 'Salary']\n"
     ]
    },
    {
     "data": {
      "text/html": [
       "<div>\n",
       "<style scoped>\n",
       "    .dataframe tbody tr th:only-of-type {\n",
       "        vertical-align: middle;\n",
       "    }\n",
       "\n",
       "    .dataframe tbody tr th {\n",
       "        vertical-align: top;\n",
       "    }\n",
       "\n",
       "    .dataframe thead th {\n",
       "        text-align: right;\n",
       "    }\n",
       "</style>\n",
       "<table border=\"1\" class=\"dataframe\">\n",
       "  <thead>\n",
       "    <tr style=\"text-align: right;\">\n",
       "      <th></th>\n",
       "      <th>FPPG</th>\n",
       "      <th>Salary</th>\n",
       "    </tr>\n",
       "  </thead>\n",
       "  <tbody>\n",
       "    <tr>\n",
       "      <th>count</th>\n",
       "      <td>388.000000</td>\n",
       "      <td>388.000000</td>\n",
       "    </tr>\n",
       "    <tr>\n",
       "      <th>mean</th>\n",
       "      <td>6.292113</td>\n",
       "      <td>5320.103093</td>\n",
       "    </tr>\n",
       "    <tr>\n",
       "      <th>std</th>\n",
       "      <td>7.562498</td>\n",
       "      <td>1276.323041</td>\n",
       "    </tr>\n",
       "    <tr>\n",
       "      <th>min</th>\n",
       "      <td>-3.000000</td>\n",
       "      <td>0.000000</td>\n",
       "    </tr>\n",
       "    <tr>\n",
       "      <th>25%</th>\n",
       "      <td>0.000000</td>\n",
       "      <td>4500.000000</td>\n",
       "    </tr>\n",
       "    <tr>\n",
       "      <th>50%</th>\n",
       "      <td>3.100000</td>\n",
       "      <td>4800.000000</td>\n",
       "    </tr>\n",
       "    <tr>\n",
       "      <th>75%</th>\n",
       "      <td>10.450000</td>\n",
       "      <td>6025.000000</td>\n",
       "    </tr>\n",
       "    <tr>\n",
       "      <th>max</th>\n",
       "      <td>36.220000</td>\n",
       "      <td>9200.000000</td>\n",
       "    </tr>\n",
       "  </tbody>\n",
       "</table>\n",
       "</div>"
      ],
      "text/plain": [
       "             FPPG       Salary\n",
       "count  388.000000   388.000000\n",
       "mean     6.292113  5320.103093\n",
       "std      7.562498  1276.323041\n",
       "min     -3.000000     0.000000\n",
       "25%      0.000000  4500.000000\n",
       "50%      3.100000  4800.000000\n",
       "75%     10.450000  6025.000000\n",
       "max     36.220000  9200.000000"
      ]
     },
     "execution_count": 3,
     "metadata": {},
     "output_type": "execute_result"
    }
   ],
   "source": [
    "df = pd.read_csv(SALARY_FILE, delimiter=\";\")\n",
    "rename_map = {\n",
    "    'Pos': 'Position',\n",
    "    'FD points': 'FPPG',\n",
    "    'Name': 'Nickname',\n",
    "    'FD salary': 'Salary'\n",
    "}\n",
    "df = df.rename(columns=rename_map)[['Nickname', 'Position', 'FPPG', 'Salary']]\n",
    "df = df[~df['Salary'].isna()]\n",
    "df['Position'] = df['Position'].apply(lambda x: 'D' if x == 'Def' else x)\n",
    "\n",
    "print(df.columns.values)\n",
    "\n",
    "df.to_csv(ACTIVE_FILE)\n",
    "df.describe()"
   ]
  },
  {
   "cell_type": "code",
   "execution_count": 4,
   "id": "68e22a94-b1c5-4200-8ec1-0fcd43f7e5f3",
   "metadata": {},
   "outputs": [
    {
     "name": "stdout",
     "output_type": "stream",
     "text": [
      "{'pos': 'QB', 'name': 'Allen, Josh', 'cost': 8800.0, 'team': None, 'matchup': None, 'proj': 36.22, 'average_score': 36.22, 'projected_ownership_pct': 0, 'lineup_count': 0, 'marked': None, 'lock': False, 'position_lock': False, 'ban': False, 'position_ban': False, 'multi_position': False, 'possible_positions': 'QB', 'kv_store': OrderedDict([('', '0'), ('Nickname', 'Allen, Josh'), ('Position', 'QB'), ('FPPG', '36.22'), ('Salary', '8800.0')])}\n"
     ]
    }
   ],
   "source": [
    "players = salary_download.generate_players_from_csvs(salary_file_location=ACTIVE_FILE, game=rules.FAN_DUEL)\n",
    "print(players[0].__dict__)"
   ]
  },
  {
   "cell_type": "code",
   "execution_count": 5,
   "id": "fd71e38b-29bd-4832-be0c-83fa39a86b02",
   "metadata": {},
   "outputs": [
    {
     "name": "stdout",
     "output_type": "stream",
     "text": [
      "{'site': 'FAN_DUEL', 'league': 'NFL', 'roster_size': 9, 'position_limits': [['QB', 1, 1], ['RB', 2, 3], ['WR', 3, 4], ['TE', 1, 2], ['D', 1, 1]], 'general_position_limits': [], 'salary_min': 0, 'salary_max': 60000, 'offensive_positions': ['QB', 'RB', 'WR', 'TE', 'FLEX', 'WR/FLEX'], 'defensive_positions': ['D', 'DEF'], 'game_type': 'classic', 'max_players_per_team': 9, 'position_per_team_rules': None, 'min_teams': None}\n"
     ]
    }
   ],
   "source": [
    "def get_nfl_positions():\n",
    "    return [\n",
    "        ['QB', 1, 1],\n",
    "        ['RB', 2, 3],\n",
    "        ['WR', 3, 4],\n",
    "        ['TE', 1, 2],\n",
    "        ['D', 1, 1]\n",
    "    ]     \n",
    "ACTIVE_RULE_SET = rules.FD_NFL_RULE_SET\n",
    "# Overrides (position limits, salary, roster size, positions, etc.\n",
    "ACTIVE_RULE_SET.salary_max = 60000\n",
    "ACTIVE_RULE_SET.defensive_positions = ['D', 'DEF']\n",
    "ACTIVE_RULE_SET.offensive_positions = ['QB', 'RB', 'WR', 'TE', 'FLEX', 'WR/FLEX']\n",
    "ACTIVE_RULE_SET.position_limits = get_nfl_positions()\n",
    "ACTIVE_RULE_SET.max_players_per_team = 9\n",
    "ACTIVE_RULE_SET.roster_size = 9\n",
    "print(ACTIVE_RULE_SET.__dict__)"
   ]
  },
  {
   "cell_type": "code",
   "execution_count": 6,
   "id": "c5718e35-ae15-402e-93e6-c1739007448f",
   "metadata": {},
   "outputs": [
    {
     "data": {
      "text/plain": [
       "{'D', 'QB', 'RB', 'TE', 'WR'}"
      ]
     },
     "execution_count": 6,
     "metadata": {},
     "output_type": "execute_result"
    }
   ],
   "source": [
    "set(df['Position'])"
   ]
  },
  {
   "cell_type": "code",
   "execution_count": 7,
   "id": "522f72e2-659c-4392-9ac2-5de140c239de",
   "metadata": {},
   "outputs": [
    {
     "name": "stdout",
     "output_type": "stream",
     "text": [
      "Optional Week 14 Roster\n",
      "+----------+-----------------+------+---------+--------+------------+----------+--------+\n",
      "| Position | Player          | Team | Matchup | Salary | Projection | vs. Avg. | Locked |\n",
      "+----------+-----------------+------+---------+--------+------------+----------+--------+\n",
      "| QB       | Allen, Josh     | None | None    |  8,800 |      36.22 |     \u001b[0;31;40m0.00\u001b[0m |        |\n",
      "| RB       | Cook, Dalvin    | None | None    |  8,200 |       34.7 |     \u001b[0;31;40m0.00\u001b[0m |        |\n",
      "| RB       | Conner, James   | None | None    |  7,200 |       29.0 |     \u001b[0;31;40m0.00\u001b[0m |        |\n",
      "| RB       | Penny, Rashaad  | None | None    |  5,300 |       26.3 |     \u001b[0;31;40m0.00\u001b[0m |        |\n",
      "| WR       | Adams, Davante  | None | None    |  8,400 |       29.1 |     \u001b[0;31;40m0.00\u001b[0m |        |\n",
      "| WR       | Renfrow, Hunter | None | None    |  6,700 |       22.2 |     \u001b[0;31;40m0.00\u001b[0m |        |\n",
      "| WR       | Sims, Cam       | None | None    |  4,600 |       14.4 |     \u001b[0;31;40m0.00\u001b[0m |        |\n",
      "| TE       | Kittle, George  | None | None    |  7,100 |       27.6 |     \u001b[0;31;40m0.00\u001b[0m |        |\n",
      "| D        | Kansas City     | None | None    |  3,700 |       24.0 |     \u001b[0;31;40m0.00\u001b[0m |        |\n",
      "+----------+-----------------+------+---------+--------+------------+----------+--------+\n",
      "\n",
      "Projected Score: 243.52 \t Cost: $60,000\n"
     ]
    }
   ],
   "source": [
    "print(f\"Optional Week {WEEK} Roster\")\n",
    "roster = run(\n",
    "        rule_set=ACTIVE_RULE_SET,\n",
    "        player_pool=players,\n",
    "        verbose=False\n",
    "    )\n",
    "print(roster)"
   ]
  },
  {
   "cell_type": "code",
   "execution_count": null,
   "id": "bd5a917c-b9a2-4a8f-8ff8-e3b080d84805",
   "metadata": {},
   "outputs": [],
   "source": []
  },
  {
   "cell_type": "code",
   "execution_count": null,
   "id": "8d2a8bd6-915a-47ec-ab1e-02ef3a02b94a",
   "metadata": {},
   "outputs": [],
   "source": []
  }
 ],
 "metadata": {
  "kernelspec": {
   "display_name": "Python 3",
   "language": "python",
   "name": "python3"
  },
  "language_info": {
   "codemirror_mode": {
    "name": "ipython",
    "version": 3
   },
   "file_extension": ".py",
   "mimetype": "text/x-python",
   "name": "python",
   "nbconvert_exporter": "python",
   "pygments_lexer": "ipython3",
   "version": "3.7.12"
  }
 },
 "nbformat": 4,
 "nbformat_minor": 5
}
