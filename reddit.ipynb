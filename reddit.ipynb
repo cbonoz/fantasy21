{
 "cells": [
  {
   "cell_type": "code",
   "execution_count": 1,
   "id": "c82e2404-fcac-4741-ac77-a826a20107f3",
   "metadata": {},
   "outputs": [
    {
     "name": "stdout",
     "output_type": "stream",
     "text": [
      "3.7.12 (default, Oct 13 2021, 06:53:03) \n",
      "[Clang 13.0.0 (clang-1300.0.29.3)] /usr/local/opt/python@3.7/bin/python3.7\n",
      "ready\n"
     ]
    }
   ],
   "source": [
    "import sys\n",
    "print(sys.version, sys.executable)\n",
    "from bs4 import BeautifulSoup\n",
    "import requests\n",
    "import pandas as pd\n",
    "import numpy as np\n",
    "from datetime import date\n",
    "from collections import Counter\n",
    "import re\n",
    "import string\n",
    "import os\n",
    "import praw\n",
    "import nltk\n",
    "from nltk.corpus import stopwords\n",
    "from draftfast import rules\n",
    "from draftfast.optimize import run\n",
    "from draftfast.orm import Player\n",
    "from draftfast.csv_parse import salary_download\n",
    "from draftfast.settings import OptimizerSettings, CustomRule, PlayerPoolSettings\n",
    "from draftfast.lineup_constraints import LineupConstraints\n",
    "from draftfast.csv_parse import salary_download\n",
    "\n",
    "import pandas as pd\n",
    "import seaborn as sns\n",
    "from matplotlib import pyplot as plt\n",
    "\n",
    "ACTIVE_FILE = './data/active.csv'\n",
    "REDDIT_PW = os.getenv('RED_PW')\n",
    "CLIENT_SECRET ='CTtsLidvlHgYMhT4IsBW6Dc-2N8'\n",
    "CLIENT_ID='QH_iPhx9pfhRPQ'\n",
    "# print(REDDIT_PW)\n",
    "# SUBREDDIT = 'cryptocurrency' # 'wallstreetbets' # \n",
    "SUBREDDIT = 'fantasyfootball'\n",
    "print('ready')"
   ]
  },
  {
   "cell_type": "code",
   "execution_count": 2,
   "id": "3fdf2086-2a41-4d8e-b1b1-53e401d241bc",
   "metadata": {},
   "outputs": [],
   "source": [
    "players = salary_download.generate_players_from_csvs(salary_file_location=ACTIVE_FILE, game=rules.FAN_DUEL)"
   ]
  },
  {
   "cell_type": "code",
   "execution_count": 3,
   "id": "bee4c199-0f09-4b25-af78-e41666998f0b",
   "metadata": {},
   "outputs": [],
   "source": [
    "reddit = praw.Reddit(client_id=CLIENT_ID,\n",
    "                     client_secret=CLIENT_SECRET,\n",
    "                     user_agent=\"my user agent\")"
   ]
  },
  {
   "cell_type": "code",
   "execution_count": 4,
   "id": "530fe33e-4d77-4885-bd85-ddff1d492410",
   "metadata": {},
   "outputs": [
    {
     "name": "stdout",
     "output_type": "stream",
     "text": [
      "Cooper Kupp  ---  kupp\n"
     ]
    }
   ],
   "source": [
    "def filter_punctuation(s):\n",
    "    return s.translate(str.maketrans('', '', string.punctuation))\n",
    "\n",
    "def get_last_name(p):\n",
    "    return filter_punctuation(p.name.split(' ')[-1]).lower()\n",
    "\n",
    "print(players[0].name, \" --- \", get_last_name(players[0]))"
   ]
  },
  {
   "cell_type": "code",
   "execution_count": 5,
   "id": "c2d32f2f-77ed-4e2d-91b7-e39d42391937",
   "metadata": {},
   "outputs": [
    {
     "name": "stdout",
     "output_type": "stream",
     "text": [
      "['kupp', 'henry', 'allen', 'adams', 'samuel']\n"
     ]
    },
    {
     "data": {
      "text/plain": [
       "69"
      ]
     },
     "execution_count": 5,
     "metadata": {},
     "output_type": "execute_result"
    }
   ],
   "source": [
    "player_names = [get_last_name(p) for p in players if p.pos != 'D']\n",
    "print(player_names[:5])\n",
    "len(player_names)"
   ]
  },
  {
   "cell_type": "code",
   "execution_count": 6,
   "id": "ad9acae3-c4cb-4759-940a-188c6a302a1a",
   "metadata": {},
   "outputs": [
    {
     "data": {
      "text/plain": [
       "Counter({'kupp': 1, 'samuel': 1})"
      ]
     },
     "execution_count": 6,
     "metadata": {},
     "output_type": "execute_result"
    }
   ],
   "source": [
    "def find_players(text, names, count_duplicates=False):\n",
    "#     https://stackoverflow.com/questions/48025016/regular-expression-matching-stock-ticker?rq=1\n",
    "    text = filter_punctuation(text)\n",
    "    words = text.lower().split()\n",
    "    names = [w for w in words if w in names]\n",
    "    return Counter(names) if count_duplicates else Counter(set(names))\n",
    "\n",
    "find_players('Kupp and Samuel are the best this week', player_names)"
   ]
  },
  {
   "cell_type": "code",
   "execution_count": 7,
   "id": "098f78f1-420d-48e2-ac9b-872897a8646d",
   "metadata": {},
   "outputs": [],
   "source": [
    "SUBMISSION_LIMIT = 20\n",
    "submissions = reddit.subreddit(SUBREDDIT).hot(limit=SUBMISSION_LIMIT)\n",
    "submissions = list(submissions)"
   ]
  },
  {
   "cell_type": "code",
   "execution_count": 8,
   "id": "eb061af6-a1fe-4578-b58a-b4e3b0781268",
   "metadata": {},
   "outputs": [
    {
     "name": "stdout",
     "output_type": "stream",
     "text": [
      "Official: [Index] - Sat Morning, 01/22/2022\n",
      "[Rapoport] #Titans RB Derrick Henry will play today with a metal plate and 5 screws in his foot and a metal plate in his shoe. My story on the return of the 👑\n",
      "The Titans have officially activated RB Derrick Henry. He’s back.\n",
      "Who are some 2022 Rookies you’re considering to draft next year?\n",
      "Looking across nearly 3000 leagues, which players gave you the best odds at a championship this year? Who should you have drafted and who should you have traded for? Includes a widget to look up the odds of 178 different players.\n",
      "Jerry Jones is frustrated with Amari Cooper's contract and relative production.\n",
      "Cam Akers and Sony Michel 1-2 punch next season? Where does Henderson sit?\n",
      "FanDuel NFL Wild Card Saturday DFS Lineup Advice (1/15)\n",
      "The Rams designated RB Darrell Henderson Jr. to return from IR.\n",
      "Looking to create custom logos for their team.\n",
      "20\n"
     ]
    }
   ],
   "source": [
    "for s in submissions[:10]:\n",
    "    print(s.title)\n",
    "    \n",
    "print(len(submissions))"
   ]
  },
  {
   "cell_type": "code",
   "execution_count": 9,
   "id": "5bea276b-0551-45ae-b104-05fa6f02d869",
   "metadata": {},
   "outputs": [
    {
     "name": "stdout",
     "output_type": "stream",
     "text": [
      "\n",
      " 1 Official: [Index] - Sat Morning, 01/22/2022\n",
      "comments 0\n",
      "names Counter()\n",
      "\n",
      " 2 [Rapoport] #Titans RB Derrick Henry will play today with a metal plate and 5 screws in his foot and a metal plate in his shoe. My story on the return of the 👑\n",
      "comments 11\n",
      "names Counter({'henry': 1})\n",
      "\n",
      " 3 The Titans have officially activated RB Derrick Henry. He’s back.\n",
      "comments 65\n",
      "names Counter({'henry': 9, 'kupp': 2})\n",
      "\n",
      " 4 Who are some 2022 Rookies you’re considering to draft next year?\n",
      "comments 33\n",
      "names Counter({'chase': 3, 'mitchell': 2, 'love': 1})\n",
      "\n",
      " 5 Looking across nearly 3000 leagues, which players gave you the best odds at a championship this year? Who should you have drafted and who should you have traded for? Includes a widget to look up the odds of 178 different players.\n",
      "comments 19\n",
      "names Counter({'kupp': 2, 'robinson': 1, 'allen': 1, 'brown': 1})\n",
      "\n",
      " 6 Jerry Jones is frustrated with Amari Cooper's contract and relative production.\n",
      "comments 154\n",
      "names Counter({'jones': 4, 'evans': 4, 'love': 3, 'allen': 2, 'tannehill': 1, 'lance': 1, 'kupp': 1, 'stafford': 1, 'adams': 1, 'brady': 1, 'henry': 1, 'rodgers': 1})\n",
      "\n",
      " 7 Cam Akers and Sony Michel 1-2 punch next season? Where does Henderson sit?\n",
      "comments 161\n",
      "names Counter({'michel': 35, 'akers': 25, 'davis': 4, 'singletary': 4, 'love': 2, 'stafford': 1, 'robinson': 1, 'chase': 1})\n",
      "\n",
      " 8 FanDuel NFL Wild Card Saturday DFS Lineup Advice (1/15)\n",
      "comments 5\n",
      "names Counter({'mixon': 1, 'jones': 1, 'singletary': 1, 'brown': 1, 'diggs': 1, 'hill': 1})\n",
      "\n",
      " 9 The Rams designated RB Darrell Henderson Jr. to return from IR.\n",
      "comments 12\n",
      "names Counter({'akers': 2, 'stafford': 1})\n",
      "\n",
      " 10 Looking to create custom logos for their team.\n",
      "comments 5\n",
      "names Counter()\n",
      "\n",
      " 11 Hypothetical question about hand size as a QB (oh no, tiny hands!)\n",
      "comments 108\n",
      "names Counter({'burrow': 5, 'mahomes': 5, 'rodgers': 4, 'brady': 4})\n",
      "\n",
      " 12 I created a survey of the 2021 Fantasy Football Season. After 285 responses, here are the results.\n",
      "comments 18\n",
      "names Counter({'henry': 1, 'brown': 1})\n",
      "\n",
      " 13 Derrick Henry's usage this weekend?\n",
      "comments 31\n",
      "names Counter({'henry': 3, 'burrow': 3})\n",
      "\n",
      " 14 2021 Fantasy Football Season Data Collection\n",
      "comments 0\n",
      "names Counter()\n",
      "\n",
      " 15 Official: [WDIS WR] - Sat Morning, 01/22/2022\n",
      "comments 1\n",
      "names Counter({'lazard': 1})\n",
      "\n",
      " 16 Official: [WDIS RB] - Sat Morning, 01/22/2022\n",
      "comments 0\n",
      "names Counter()\n",
      "\n",
      " 17 Official: [WDIS QB] - Sat Morning, 01/22/2022\n",
      "comments 0\n",
      "names Counter()\n",
      "\n",
      " 18 Official: [WDIS K/TE/DEF] - Sat Morning, 01/22/2022\n",
      "comments 0\n",
      "names Counter()\n",
      "\n",
      " 19 Official: [WDIS Flex] - Sat Morning, 01/22/2022\n",
      "comments 0\n",
      "names Counter()\n",
      "\n",
      " 20 Official: [Simple Questions and League Issues] - Sat Morning, 01/22/2022\n",
      "comments 0\n",
      "names Counter()\n"
     ]
    }
   ],
   "source": [
    "cnt = Counter()\n",
    "COMMENT_LEVELS = 5\n",
    "\n",
    "for i, submission in enumerate(submissions):\n",
    "    print('\\n',i+1,submission.title)\n",
    "    submission.comments.replace_more(limit=COMMENT_LEVELS) #limit=None (keeps all subtrees of comments, 0 ignores)\n",
    "    submission.comment_sort = \"top\" # one of (confidence, top, new, controversial, old, random, qa, live, blank)\n",
    "    comments = submission.comments.list()\n",
    "    print('comments', len(comments))\n",
    "    names = Counter()\n",
    "    for comment in comments:\n",
    "        text = comment.body or ''\n",
    "        names += find_players(text, player_names)\n",
    "        # print('text preview: ', text[:100])\n",
    "    print('names', names)\n",
    "    cnt += names"
   ]
  },
  {
   "cell_type": "code",
   "execution_count": 10,
   "id": "6a799cf0-54b4-4bb6-b32c-4891e3b16bd2",
   "metadata": {},
   "outputs": [
    {
     "data": {
      "text/html": [
       "<div>\n",
       "<style scoped>\n",
       "    .dataframe tbody tr th:only-of-type {\n",
       "        vertical-align: middle;\n",
       "    }\n",
       "\n",
       "    .dataframe tbody tr th {\n",
       "        vertical-align: top;\n",
       "    }\n",
       "\n",
       "    .dataframe thead th {\n",
       "        text-align: right;\n",
       "    }\n",
       "</style>\n",
       "<table border=\"1\" class=\"dataframe\">\n",
       "  <thead>\n",
       "    <tr style=\"text-align: right;\">\n",
       "      <th></th>\n",
       "      <th>name</th>\n",
       "      <th>count</th>\n",
       "    </tr>\n",
       "  </thead>\n",
       "  <tbody>\n",
       "    <tr>\n",
       "      <th>16</th>\n",
       "      <td>michel</td>\n",
       "      <td>35</td>\n",
       "    </tr>\n",
       "    <tr>\n",
       "      <th>17</th>\n",
       "      <td>akers</td>\n",
       "      <td>27</td>\n",
       "    </tr>\n",
       "    <tr>\n",
       "      <th>0</th>\n",
       "      <td>henry</td>\n",
       "      <td>15</td>\n",
       "    </tr>\n",
       "    <tr>\n",
       "      <th>23</th>\n",
       "      <td>burrow</td>\n",
       "      <td>8</td>\n",
       "    </tr>\n",
       "    <tr>\n",
       "      <th>4</th>\n",
       "      <td>love</td>\n",
       "      <td>6</td>\n",
       "    </tr>\n",
       "    <tr>\n",
       "      <th>19</th>\n",
       "      <td>singletary</td>\n",
       "      <td>5</td>\n",
       "    </tr>\n",
       "    <tr>\n",
       "      <th>15</th>\n",
       "      <td>rodgers</td>\n",
       "      <td>5</td>\n",
       "    </tr>\n",
       "    <tr>\n",
       "      <th>14</th>\n",
       "      <td>brady</td>\n",
       "      <td>5</td>\n",
       "    </tr>\n",
       "    <tr>\n",
       "      <th>1</th>\n",
       "      <td>kupp</td>\n",
       "      <td>5</td>\n",
       "    </tr>\n",
       "    <tr>\n",
       "      <th>24</th>\n",
       "      <td>mahomes</td>\n",
       "      <td>5</td>\n",
       "    </tr>\n",
       "    <tr>\n",
       "      <th>8</th>\n",
       "      <td>jones</td>\n",
       "      <td>5</td>\n",
       "    </tr>\n",
       "    <tr>\n",
       "      <th>9</th>\n",
       "      <td>evans</td>\n",
       "      <td>4</td>\n",
       "    </tr>\n",
       "    <tr>\n",
       "      <th>18</th>\n",
       "      <td>davis</td>\n",
       "      <td>4</td>\n",
       "    </tr>\n",
       "    <tr>\n",
       "      <th>2</th>\n",
       "      <td>chase</td>\n",
       "      <td>4</td>\n",
       "    </tr>\n",
       "    <tr>\n",
       "      <th>12</th>\n",
       "      <td>stafford</td>\n",
       "      <td>3</td>\n",
       "    </tr>\n",
       "    <tr>\n",
       "      <th>7</th>\n",
       "      <td>brown</td>\n",
       "      <td>3</td>\n",
       "    </tr>\n",
       "    <tr>\n",
       "      <th>6</th>\n",
       "      <td>allen</td>\n",
       "      <td>3</td>\n",
       "    </tr>\n",
       "    <tr>\n",
       "      <th>5</th>\n",
       "      <td>robinson</td>\n",
       "      <td>2</td>\n",
       "    </tr>\n",
       "    <tr>\n",
       "      <th>3</th>\n",
       "      <td>mitchell</td>\n",
       "      <td>2</td>\n",
       "    </tr>\n",
       "    <tr>\n",
       "      <th>21</th>\n",
       "      <td>diggs</td>\n",
       "      <td>1</td>\n",
       "    </tr>\n",
       "    <tr>\n",
       "      <th>22</th>\n",
       "      <td>hill</td>\n",
       "      <td>1</td>\n",
       "    </tr>\n",
       "    <tr>\n",
       "      <th>13</th>\n",
       "      <td>adams</td>\n",
       "      <td>1</td>\n",
       "    </tr>\n",
       "    <tr>\n",
       "      <th>20</th>\n",
       "      <td>mixon</td>\n",
       "      <td>1</td>\n",
       "    </tr>\n",
       "    <tr>\n",
       "      <th>11</th>\n",
       "      <td>lance</td>\n",
       "      <td>1</td>\n",
       "    </tr>\n",
       "    <tr>\n",
       "      <th>10</th>\n",
       "      <td>tannehill</td>\n",
       "      <td>1</td>\n",
       "    </tr>\n",
       "    <tr>\n",
       "      <th>25</th>\n",
       "      <td>lazard</td>\n",
       "      <td>1</td>\n",
       "    </tr>\n",
       "  </tbody>\n",
       "</table>\n",
       "</div>"
      ],
      "text/plain": [
       "          name  count\n",
       "16      michel     35\n",
       "17       akers     27\n",
       "0        henry     15\n",
       "23      burrow      8\n",
       "4         love      6\n",
       "19  singletary      5\n",
       "15     rodgers      5\n",
       "14       brady      5\n",
       "1         kupp      5\n",
       "24     mahomes      5\n",
       "8        jones      5\n",
       "9        evans      4\n",
       "18       davis      4\n",
       "2        chase      4\n",
       "12    stafford      3\n",
       "7        brown      3\n",
       "6        allen      3\n",
       "5     robinson      2\n",
       "3     mitchell      2\n",
       "21       diggs      1\n",
       "22        hill      1\n",
       "13       adams      1\n",
       "20       mixon      1\n",
       "11       lance      1\n",
       "10   tannehill      1\n",
       "25      lazard      1"
      ]
     },
     "execution_count": 10,
     "metadata": {},
     "output_type": "execute_result"
    }
   ],
   "source": [
    "data = pd.DataFrame.from_dict(cnt, orient='index').reset_index()\n",
    "x_label = 'name'\n",
    "data = data.rename(columns={'index': x_label, 0: \"count\"})\n",
    "data = data.sort_values(by='count', ascending=False)\n",
    "data"
   ]
  },
  {
   "cell_type": "code",
   "execution_count": 11,
   "id": "5d5fcaf1-f620-4dc5-af00-ed0b7d407be7",
   "metadata": {},
   "outputs": [
    {
     "data": {
      "image/png": "[encoded data removed]",
      "text/plain": [
       "<Figure size 1152x648 with 1 Axes>"
      ]
     },
     "metadata": {
      "needs_background": "light"
     },
     "output_type": "display_data"
    }
   ],
   "source": [
    "plt.figure(figsize=(16,9))\n",
    "\n",
    "ax = sns.barplot(x=x_label, y='count',data=data[:25])\n",
    "plt.xlabel(x_label.capitalize())  \n",
    "plt.ylabel('# Mentions')  \n",
    "plt.title(f\"Mentions of {x_label} in top {SUBMISSION_LIMIT} posts of r/{SUBREDDIT}\")\n",
    "plt.xticks(rotation = 45)\n",
    "plt.show()"
   ]
  },
  {
   "cell_type": "code",
   "execution_count": 12,
   "id": "bc770fb3-e976-4516-bd3e-6ea4dd1c2ab9",
   "metadata": {},
   "outputs": [],
   "source": [
    "# TODO: render full name in chart"
   ]
  }
 ],
 "metadata": {
  "kernelspec": {
   "display_name": "Python 3",
   "language": "python",
   "name": "python3"
  },
  "language_info": {
   "codemirror_mode": {
    "name": "ipython",
    "version": 3
   },
   "file_extension": ".py",
   "mimetype": "text/x-python",
   "name": "python",
   "nbconvert_exporter": "python",
   "pygments_lexer": "ipython3",
   "version": "3.7.12"
  }
 },
 "nbformat": 4,
 "nbformat_minor": 5
}
