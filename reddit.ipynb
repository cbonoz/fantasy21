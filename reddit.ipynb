{
 "cells": [
  {
   "cell_type": "code",
   "execution_count": 47,
   "id": "c82e2404-fcac-4741-ac77-a826a20107f3",
   "metadata": {},
   "outputs": [
    {
     "name": "stdout",
     "output_type": "stream",
     "text": [
      "3.7.12 (default, Oct 13 2021, 06:53:03) \n",
      "[Clang 13.0.0 (clang-1300.0.29.3)] /usr/local/opt/python@3.7/bin/python3.7\n",
      "ready\n"
     ]
    }
   ],
   "source": [
    "import sys\n",
    "print(sys.version, sys.executable)\n",
    "from bs4 import BeautifulSoup\n",
    "import requests\n",
    "import pandas as pd\n",
    "import numpy as np\n",
    "from datetime import date\n",
    "from collections import Counter\n",
    "import re\n",
    "import string\n",
    "import os\n",
    "import praw\n",
    "import nltk\n",
    "from nltk.corpus import stopwords\n",
    "from draftfast import rules\n",
    "from draftfast.optimize import run\n",
    "from draftfast.orm import Player\n",
    "from draftfast.csv_parse import salary_download\n",
    "from draftfast.settings import OptimizerSettings, CustomRule, PlayerPoolSettings\n",
    "from draftfast.lineup_constraints import LineupConstraints\n",
    "from draftfast.csv_parse import salary_download\n",
    "\n",
    "import pandas as pd\n",
    "import seaborn as sns\n",
    "from matplotlib import pyplot as plt\n",
    "\n",
    "ACTIVE_FILE = './data/active.csv'\n",
    "REDDIT_PW = os.getenv('RED_PW')\n",
    "CLIENT_SECRET ='CTtsLidvlHgYMhT4IsBW6Dc-2N8'\n",
    "CLIENT_ID='QH_iPhx9pfhRPQ'\n",
    "# print(REDDIT_PW)\n",
    "# SUBREDDIT = 'cryptocurrency' # 'wallstreetbets' # \n",
    "SUBREDDIT = 'fantasyfootball'\n",
    "print('ready')"
   ]
  },
  {
   "cell_type": "code",
   "execution_count": 48,
   "id": "3fdf2086-2a41-4d8e-b1b1-53e401d241bc",
   "metadata": {},
   "outputs": [],
   "source": [
    "players = salary_download.generate_players_from_csvs(salary_file_location=ACTIVE_FILE, game=rules.FAN_DUEL)"
   ]
  },
  {
   "cell_type": "code",
   "execution_count": 49,
   "id": "bee4c199-0f09-4b25-af78-e41666998f0b",
   "metadata": {},
   "outputs": [],
   "source": [
    "reddit = praw.Reddit(client_id=CLIENT_ID,\n",
    "                     client_secret=CLIENT_SECRET,\n",
    "                     user_agent=\"my user agent\")"
   ]
  },
  {
   "cell_type": "code",
   "execution_count": 50,
   "id": "530fe33e-4d77-4885-bd85-ddff1d492410",
   "metadata": {},
   "outputs": [
    {
     "name": "stdout",
     "output_type": "stream",
     "text": [
      "Cooper Kupp  ---  kupp\n"
     ]
    }
   ],
   "source": [
    "def filter_punctuation(s):\n",
    "    return s.translate(str.maketrans('', '', string.punctuation))\n",
    "\n",
    "def get_last_name(p):\n",
    "    return filter_punctuation(p.name.split(' ')[-1]).lower()\n",
    "\n",
    "print(players[0].name, \" --- \", get_last_name(players[0]))"
   ]
  },
  {
   "cell_type": "code",
   "execution_count": 51,
   "id": "c2d32f2f-77ed-4e2d-91b7-e39d42391937",
   "metadata": {},
   "outputs": [
    {
     "name": "stdout",
     "output_type": "stream",
     "text": [
      "['kupp', 'taylor', 'kamara', 'ekeler', 'samuel']\n"
     ]
    },
    {
     "data": {
      "text/plain": [
       "273"
      ]
     },
     "execution_count": 51,
     "metadata": {},
     "output_type": "execute_result"
    }
   ],
   "source": [
    "player_names = [get_last_name(p) for p in players if p.pos != 'D']\n",
    "print(player_names[:5])\n",
    "len(player_names)"
   ]
  },
  {
   "cell_type": "code",
   "execution_count": 52,
   "id": "ad9acae3-c4cb-4759-940a-188c6a302a1a",
   "metadata": {},
   "outputs": [
    {
     "data": {
      "text/plain": [
       "Counter({'kupp': 1, 'samuel': 1})"
      ]
     },
     "execution_count": 52,
     "metadata": {},
     "output_type": "execute_result"
    }
   ],
   "source": [
    "def find_players(text, names, count_duplicates=False):\n",
    "#     https://stackoverflow.com/questions/48025016/regular-expression-matching-stock-ticker?rq=1\n",
    "    text = filter_punctuation(text)\n",
    "    words = text.lower().split()\n",
    "    names = [w for w in words if w in names]\n",
    "    return Counter(names) if count_duplicates else Counter(set(names))\n",
    "\n",
    "find_players('Kupp and Samuel are the best this week', player_names)"
   ]
  },
  {
   "cell_type": "code",
   "execution_count": 53,
   "id": "098f78f1-420d-48e2-ac9b-872897a8646d",
   "metadata": {},
   "outputs": [],
   "source": [
    "SUBMISSION_LIMIT = 20\n",
    "submissions = reddit.subreddit(SUBREDDIT).hot(limit=SUBMISSION_LIMIT)\n",
    "submissions = list(submissions)"
   ]
  },
  {
   "cell_type": "code",
   "execution_count": 54,
   "id": "eb061af6-a1fe-4578-b58a-b4e3b0781268",
   "metadata": {},
   "outputs": [
    {
     "name": "stdout",
     "output_type": "stream",
     "text": [
      "Official: [Index] - Fri Morning, 12/31/2021\n",
      "Tyler Lockett describing his battle with COVID. Says he was very exhausted, could barely move, chest hurting, throat hurting, anxiety, vomiting. Had no energy, barely eating – says he lost like 8 pounds. Also had some breathing issues. \"That wasn't fun at all.\"\n",
      "Steelers QB Ben Roethlisberger told reporters today that Monday night’s game vs. Browns will likely be his final game at Heinz Field. \"I don’t ever speak in guarantees, but signs are pointing that this could be it.\"\n",
      "AB Contract Incentive Tracker\n",
      "Cam Akers considered unlikely to play Week 17\n",
      "Championship Underdogs: Who are you playing to swing for the fences?\n",
      "Bucs WR Antonio Brown downgraded to did not participate Thursday with an ankle injury.\n",
      "Fred Warner says Trey Lance actually frustrated him early in season on scout team because he wasn't taking risks, was tucking/running a lot. 49ers defense wasn't getting work it needed. Warner pulled Lance aside, told him it's OK to take risks. Some dazzling plays have followed.\n",
      "@AustinEkeler is back from the COVID list and joined @LizLoza_FF to discuss what we should expect from him in Week 17.\n",
      "Zeke reached fastest speed since Week 6 in Week 16\n",
      "20\n"
     ]
    }
   ],
   "source": [
    "for s in submissions[:10]:\n",
    "    print(s.title)\n",
    "    \n",
    "print(len(submissions))"
   ]
  },
  {
   "cell_type": "code",
   "execution_count": 55,
   "id": "5bea276b-0551-45ae-b104-05fa6f02d869",
   "metadata": {},
   "outputs": [
    {
     "name": "stdout",
     "output_type": "stream",
     "text": [
      "\n",
      " 1 Official: [Index] - Fri Morning, 12/31/2021\n",
      "comments 0\n",
      "names Counter()\n",
      "\n",
      " 2 Tyler Lockett describing his battle with COVID. Says he was very exhausted, could barely move, chest hurting, throat hurting, anxiety, vomiting. Had no energy, barely eating – says he lost like 8 pounds. Also had some breathing issues. \"That wasn't fun at all.\"\n",
      "comments 68\n",
      "names Counter({'cooks': 4, 'williams': 3, 'lockett': 2, 'cook': 2, 'golladay': 1, 'hill': 1, 'michel': 1})\n",
      "\n",
      " 3 Steelers QB Ben Roethlisberger told reporters today that Monday night’s game vs. Browns will likely be his final game at Heinz Field. \"I don’t ever speak in guarantees, but signs are pointing that this could be it.\"\n",
      "comments 225\n",
      "names Counter({'claypool': 11, 'rudolph': 7, 'wilson': 4, 'johnson': 3, 'kupp': 3, 'love': 3, 'harris': 2, 'stafford': 2, 'gaskin': 2, 'robinson': 1, 'allen': 1, 'lance': 1, 'hill': 1, 'mayfield': 1, 'williams': 1, 'murray': 1, 'lamb': 1, 'jefferson': 1, 'brown': 1, 'higgins': 1, 'carr': 1, 'huntley': 1, 'kirk': 1, 'herbert': 1, 'lock': 1, 'glennon': 1})\n",
      "\n",
      " 4 AB Contract Incentive Tracker\n",
      "comments 167\n",
      "names Counter({'kupp': 16, 'brady': 14, 'adams': 6, 'hill': 4, 'brown': 4, 'gage': 3, 'jefferson': 3, 'samuel': 3, 'ekeler': 2, 'jones': 2, 'kelce': 2, 'kamara': 2, 'pitts': 2, 'montgomery': 1, 'hurts': 1, 'lamb': 1, 'gallup': 1, 'love': 1, 'mahomes': 1, 'higgins': 1, 'allen': 1, 'chubb': 1, 'chase': 1, 'pascal': 1, 'penny': 1, 'jacobs': 1, 'cousins': 1, 'iii': 1, 'stick': 1})\n",
      "\n",
      " 5 Cam Akers considered unlikely to play Week 17\n",
      "comments 71\n",
      "names Counter({'swift': 4, 'michel': 3, 'chubb': 3, 'penny': 2, 'jones': 2, 'harris': 2, 'allen': 1, 'montgomery': 1, 'barkley': 1, 'freeman': 1, 'rush': 1, 'collins': 1, 'jacobs': 1, 'lance': 1, 'stafford': 1, 'taylor': 1, 'carter': 1})\n",
      "\n",
      " 6 Championship Underdogs: Who are you playing to swing for the fences?\n",
      "comments 427\n",
      "names Counter({'lance': 28, 'scott': 20, 'williams': 20, 'brown': 19, 'penny': 19, 'jones': 15, 'everett': 13, 'adams': 13, 'jefferson': 12, 'burrow': 12, 'swift': 11, 'gore': 10, 'huntley': 10, 'allen': 10, 'ogunbowale': 10, 'mixon': 10, 'burkhead': 9, 'kupp': 9, 'chase': 9, 'cook': 9, 'smith': 8, 'carter': 8, 'higgins': 8, 'moore': 8, 'dallas': 8, 'barkley': 7, 'lockett': 7, 'hurts': 7, 'harris': 7, 'davis': 7, 'foreman': 7, 'hill': 7, 'kamara': 7, 'jackson': 6, 'renfrow': 6, 'jordan': 6, 'wilson': 6, 'brady': 6, 'kelce': 6, 'osborn': 5, 'vaughn': 5, 'singletary': 5, 'herbert': 5, 'murray': 5, 'booker': 5, 'metcalf': 4, 'parker': 4, 'anderson': 4, 'michel': 4, 'andrews': 4, 'ekeler': 4, 'mooney': 3, 'chubb': 3, 'treadwell': 3, 'stafford': 3, 'boyd': 3, 'cooks': 3, 'kittle': 3, 'berrios': 3, 'kirk': 3, 'robinson': 3, 'waddle': 3, 'lazard': 3, 'cousins': 3, 'book': 2, 'cooper': 2, 'darnold': 2, 'patterson': 2, 'pollard': 2, 'mills': 2, 'jacobs': 2, 'johnson': 2, 'gesicki': 2, 'mahomes': 2, 'lamb': 2, 'samuel': 2, 'kmet': 2, 'jr': 2, 'goedert': 2, 'daniel': 2, 'gainwell': 2, 'mckenzie': 1, 'moreau': 1, 'fant': 1, 'taylor': 1, 'uzomah': 1, 'pringle': 1, 'reynolds': 1, 'freeman': 1, 'schultz': 1, 'washington': 1, 'ertz': 1, 'carr': 1, 'lock': 1, 'montgomery': 1, 'rush': 1, 'ryan': 1, 'stick': 1, 'mcnichols': 1, 'dillon': 1})\n",
      "\n",
      " 7 Bucs WR Antonio Brown downgraded to did not participate Thursday with an ankle injury.\n",
      "comments 121\n",
      "names Counter({'brown': 8, 'brady': 6, 'penny': 3, 'parker': 2, 'osborn': 2, 'dillon': 1, 'rush': 1, 'gage': 1, 'mooney': 1, 'cooks': 1, 'jones': 1, 'renfrow': 1, 'swift': 1, 'moore': 1, 'higgins': 1, 'anderson': 1, 'watkins': 1})\n",
      "\n",
      " 8 Fred Warner says Trey Lance actually frustrated him early in season on scout team because he wasn't taking risks, was tucking/running a lot. 49ers defense wasn't getting work it needed. Warner pulled Lance aside, told him it's OK to take risks. Some dazzling plays have followed.\n",
      "comments 59\n",
      "names Counter({'lance': 19, 'burrow': 4, 'wilson': 3, 'huntley': 3, 'mahomes': 2, 'stafford': 2, 'kittle': 2, 'cousins': 2, 'herbert': 2, 'brady': 2, 'kirk': 1, 'kupp': 1, 'jordan': 1, 'heinicke': 1, 'love': 1, 'rush': 1, 'gabbert': 1, 'murray': 1, 'hurts': 1})\n",
      "\n",
      " 9 @AustinEkeler is back from the COVID list and joined @LizLoza_FF to discuss what we should expect from him in Week 17.\n",
      "comments 49\n",
      "names Counter({'jackson': 5, 'taylor': 3, 'ekeler': 3, 'cook': 2, 'kelce': 1, 'austin': 1})\n",
      "\n",
      " 10 Zeke reached fastest speed since Week 6 in Week 16\n",
      "comments 53\n",
      "names Counter({'pollard': 4, 'waddle': 3, 'jones': 2, 'michel': 2, 'harris': 2, 'kirk': 2, 'ekeler': 1, 'brown': 1, 'dallas': 1, 'lance': 1, 'scott': 1, 'adams': 1, 'wilson': 1})\n",
      "\n",
      " 11 In the last 4 games, David Montgomery is averaging 24 touches, and 7.75 targets per game\n",
      "comments 35\n",
      "names Counter({'love': 3, 'montgomery': 1, 'austin': 1, 'lawrence': 1, 'golladay': 1, 'johnson': 1, 'mooney': 1, 'vaughn': 1, 'herbert': 1, 'penny': 1, 'jacobs': 1})\n",
      "\n",
      " 12 Is splitting pots normal?\n",
      "comments 296\n",
      "names Counter({'lock': 3, 'kupp': 2, 'kamara': 1, 'renfrow': 1, 'johnson': 1, 'love': 1, 'jordan': 1, 'hill': 1, 'adams': 1, 'ekeler': 1, 'robinson': 1, 'stick': 1})\n",
      "\n",
      " 13 [McFarland] Tevin Coleman is on the reserve/COVID-19 list. Michael Carter took over a near every-down role (including passing downs) last week with over 70% of snaps. Could see Ty Johnson snipe some passing work. Carter = mid-range RB2 vs. Bucs Finishes when >= 70% snaps: RB7, RB1, RB17\n",
      "comments 35\n",
      "names Counter({'carter': 11, 'penny': 3, 'swift': 3, 'williams': 2, 'johnson': 2, 'patterson': 2, 'collins': 2, 'singletary': 2, 'allen': 2, 'osborn': 1, 'wilson': 1, 'foreman': 1, 'ekeler': 1, 'mixon': 1, 'jefferson': 1, 'abdullah': 1, 'kamara': 1, 'davis': 1, 'rush': 1})\n",
      "\n",
      " 14 [Mike Giardi] The #Jaguars have 27 players on the Reserve/Covid-19 list. They play a game in 3 days (at New England). File under: not great.\n",
      "comments 71\n",
      "names Counter({'harris': 5, 'ogunbowale': 3, 'jones': 3, 'dallas': 3, 'williams': 3, 'swift': 3, 'stevenson': 2, 'kirk': 2, 'cooper': 2, 'kamara': 2, 'penny': 1, 'stick': 1, 'michel': 1})\n",
      "\n",
      " 15 Eli Mitchell at practice for 2nd straight day\n",
      "comments 126\n",
      "names Counter({'swift': 15, 'penny': 12, 'lance': 10, 'waddle': 8, 'chubb': 6, 'jones': 5, 'michel': 5, 'patterson': 4, 'jacobs': 4, 'montgomery': 3, 'ekeler': 3, 'kittle': 3, 'mixon': 3, 'williams': 2, 'harris': 2, 'lock': 2, 'carter': 2, 'wilson': 2, 'love': 2, 'cooks': 1, 'higgins': 1, 'brown': 1, 'ertz': 1, 'kupp': 1, 'cooper': 1, 'rush': 1, 'stick': 1, 'singletary': 1, 'book': 1, 'renfrow': 1, 'jr': 1, 'gordon': 1, 'taylor': 1})\n",
      "\n",
      " 16 Who is your early \"If X happens, I'm all in on this guy\" for next year's draft?\n",
      "comments 525\n",
      "names Counter({'waddle': 25, 'kupp': 24, 'gordon': 19, 'jeudy': 13, 'chase': 13, 'claypool': 13, 'williams': 12, 'adams': 12, 'brown': 11, 'sutton': 10, 'ekeler': 10, 'love': 9, 'cook': 9, 'moore': 8, 'jones': 8, 'robinson': 8, 'swift': 7, 'johnson': 6, 'dillon': 6, 'taylor': 6, 'barkley': 6, 'allen': 5, 'wilson': 5, 'pollard': 5, 'hurts': 5, 'kamara': 5, 'brady': 5, 'kelce': 5, 'cooper': 4, 'carter': 4, 'lance': 4, 'higgins': 4, 'davis': 3, 'thomas': 3, 'smith': 3, 'renfrow': 3, 'mooney': 3, 'carr': 3, 'darnold': 3, 'andrews': 3, 'chubb': 3, 'stafford': 3, 'pitts': 2, 'washington': 2, 'harris': 2, 'lock': 2, 'mattison': 2, 'samuel': 2, 'herbert': 2, 'stick': 2, 'jefferson': 2, 'metcalf': 2, 'rudolph': 2, 'burrow': 2, 'booker': 2, 'mahomes': 2, 'mixon': 2, 'mclaurin': 1, 'heinicke': 1, 'michel': 1, 'iii': 1, 'daniel': 1, 'lawrence': 1, 'bortles': 1, 'foles': 1, 'kmet': 1, 'gallup': 1, 'dallas': 1, 'jordan': 1, 'homer': 1, 'lindsay': 1, 'mckenzie': 1, 'breida': 1, 'hasty': 1, 'cooks': 1, 'watkins': 1, 'parker': 1, 'golladay': 1, 'rush': 1, 'hill': 1, 'book': 1, 'stevenson': 1, 'dalton': 1, 'anderson': 1})\n",
      "\n",
      " 17 Who is the best (healthy) player you are benching in the championship?\n",
      "comments 959\n",
      "names Counter({'brown': 75, 'swift': 68, 'higgins': 65, 'waddle': 59, 'jones': 52, 'penny': 43, 'chase': 42, 'harris': 40, 'cooks': 36, 'kupp': 36, 'johnson': 34, 'jefferson': 33, 'lockett': 32, 'michel': 32, 'moore': 31, 'williams': 29, 'jacobs': 29, 'renfrow': 28, 'allen': 28, 'adams': 25, 'patterson': 25, 'mixon': 24, 'kamara': 23, 'ekeler': 22, 'cooper': 22, 'mclaurin': 21, 'barkley': 16, 'carter': 15, 'chubb': 14, 'kittle': 14, 'hurts': 14, 'lamb': 11, 'cook': 11, 'burrow': 10, 'hill': 10, 'mahomes': 10, 'montgomery': 10, 'brady': 9, 'ogunbowale': 9, 'scott': 9, 'claypool': 8, 'pitts': 8, 'parker': 7, 'goedert': 7, 'smith': 7, 'wilson': 7, 'jordan': 6, 'dallas': 6, 'murray': 6, 'love': 6, 'singletary': 6, 'osborn': 6, 'gordon': 6, 'jr': 6, 'kirk': 6, 'herbert': 6, 'jackson': 5, 'taylor': 5, 'dillon': 5, 'lance': 5, 'schultz': 4, 'samuel': 4, 'pollard': 4, 'huntley': 4, 'stevenson': 4, 'kelce': 4, 'metcalf': 4, 'davis': 4, 'cousins': 4, 'robinson': 3, 'landry': 3, 'stafford': 3, 'burkhead': 2, 'bateman': 2, 'andrews': 2, 'jeudy': 2, 'foreman': 2, 'ertz': 2, 'mills': 2, 'booker': 2, 'palmer': 2, 'boyd': 2, 'dalton': 2, 'glennon': 1, 'rogers': 1, 'gallup': 1, 'austin': 1, 'washington': 1, 'rush': 1, 'vaughn': 1, 'prescott': 1, 'mattison': 1, 'iii': 1, 'higbee': 1, 'stick': 1, 'elliott': 1, 'gore': 1, 'tannehill': 1, 'fant': 1})\n",
      "\n",
      " 18 Dalvin Cook Upgraded to a Full Practice.\n",
      "comments 75\n",
      "names Counter({'cook': 10, 'mattison': 6, 'cooks': 3, 'hill': 2, 'waddle': 2, 'boyd': 1, 'parker': 1, 'swift': 1, 'kupp': 1, 'jackson': 1, 'jones': 1})\n",
      "\n",
      " 19 D’Andre Swift another full practice.\n",
      "comments 110\n",
      "names Counter({'swift': 60, 'brown': 7, 'higgins': 6, 'cooks': 6, 'jacobs': 5, 'penny': 4, 'mixon': 4, 'williams': 4, 'harris': 3, 'michel': 3, 'burrow': 3, 'lamb': 2, 'carter': 2, 'singletary': 2, 'scott': 2, 'barkley': 1, 'cook': 1, 'cooper': 1, 'reynolds': 1, 'montgomery': 1, 'kamara': 1, 'pollard': 1, 'kupp': 1, 'johnson': 1, 'lockett': 1, 'gordon': 1, 'jordan': 1, 'boyle': 1, 'chubb': 1})\n",
      "\n",
      " 20 Justin Boone Rankings Week 17 - Thursday Update\n",
      "comments 97\n",
      "names Counter({'carter': 8, 'swift': 7, 'allen': 5, 'penny': 5, 'williams': 4, 'kupp': 4, 'barkley': 4, 'harris': 3, 'michel': 3, 'kamara': 3, 'scott': 3, 'ekeler': 3, 'ogunbowale': 2, 'chase': 2, 'stafford': 2, 'jones': 2, 'wilson': 2, 'booker': 2, 'cook': 2, 'everett': 2, 'jefferson': 2, 'moore': 2, 'pollard': 1, 'herbert': 1, 'vaughn': 1, 'pitts': 1, 'higbee': 1, 'johnson': 1, 'higgins': 1, 'mooney': 1, 'jordan': 1, 'hurts': 1, 'osborn': 1, 'parker': 1, 'anderson': 1, 'bourne': 1, 'jeudy': 1, 'montgomery': 1, 'gesicki': 1, 'lance': 1, 'reynolds': 1, 'singletary': 1, 'gaskin': 1, 'boyd': 1, 'chubb': 1, 'dallas': 1, 'adams': 1})\n"
     ]
    }
   ],
   "source": [
    "cnt = Counter()\n",
    "COMMENT_LEVELS = 5\n",
    "\n",
    "for i, submission in enumerate(submissions):\n",
    "    print('\\n',i+1,submission.title)\n",
    "    submission.comments.replace_more(limit=COMMENT_LEVELS) #limit=None (keeps all subtrees of comments, 0 ignores)\n",
    "    submission.comment_sort = \"top\" # one of (confidence, top, new, controversial, old, random, qa, live, blank)\n",
    "    comments = submission.comments.list()\n",
    "    print('comments', len(comments))\n",
    "    names = Counter()\n",
    "    for comment in comments:\n",
    "        text = comment.body or ''\n",
    "        names += find_players(text, player_names)\n",
    "        # print('text preview: ', text[:100])\n",
    "    print('names', names)\n",
    "    cnt += names"
   ]
  },
  {
   "cell_type": "code",
   "execution_count": 56,
   "id": "6a799cf0-54b4-4bb6-b32c-4891e3b16bd2",
   "metadata": {},
   "outputs": [
    {
     "data": {
      "text/html": [
       "<div>\n",
       "<style scoped>\n",
       "    .dataframe tbody tr th:only-of-type {\n",
       "        vertical-align: middle;\n",
       "    }\n",
       "\n",
       "    .dataframe tbody tr th {\n",
       "        vertical-align: top;\n",
       "    }\n",
       "\n",
       "    .dataframe thead th {\n",
       "        text-align: right;\n",
       "    }\n",
       "</style>\n",
       "<table border=\"1\" class=\"dataframe\">\n",
       "  <thead>\n",
       "    <tr style=\"text-align: right;\">\n",
       "      <th></th>\n",
       "      <th>name</th>\n",
       "      <th>count</th>\n",
       "    </tr>\n",
       "  </thead>\n",
       "  <tbody>\n",
       "    <tr>\n",
       "      <th>52</th>\n",
       "      <td>swift</td>\n",
       "      <td>180</td>\n",
       "    </tr>\n",
       "    <tr>\n",
       "      <th>23</th>\n",
       "      <td>brown</td>\n",
       "      <td>127</td>\n",
       "    </tr>\n",
       "    <tr>\n",
       "      <th>100</th>\n",
       "      <td>waddle</td>\n",
       "      <td>100</td>\n",
       "    </tr>\n",
       "    <tr>\n",
       "      <th>16</th>\n",
       "      <td>kupp</td>\n",
       "      <td>98</td>\n",
       "    </tr>\n",
       "    <tr>\n",
       "      <th>46</th>\n",
       "      <td>penny</td>\n",
       "      <td>94</td>\n",
       "    </tr>\n",
       "    <tr>\n",
       "      <th>...</th>\n",
       "      <td>...</td>\n",
       "      <td>...</td>\n",
       "    </tr>\n",
       "    <tr>\n",
       "      <th>93</th>\n",
       "      <td>pringle</td>\n",
       "      <td>1</td>\n",
       "    </tr>\n",
       "    <tr>\n",
       "      <th>109</th>\n",
       "      <td>ryan</td>\n",
       "      <td>1</td>\n",
       "    </tr>\n",
       "    <tr>\n",
       "      <th>111</th>\n",
       "      <td>mcnichols</td>\n",
       "      <td>1</td>\n",
       "    </tr>\n",
       "    <tr>\n",
       "      <th>118</th>\n",
       "      <td>abdullah</td>\n",
       "      <td>1</td>\n",
       "    </tr>\n",
       "    <tr>\n",
       "      <th>142</th>\n",
       "      <td>bourne</td>\n",
       "      <td>1</td>\n",
       "    </tr>\n",
       "  </tbody>\n",
       "</table>\n",
       "<p>143 rows × 2 columns</p>\n",
       "</div>"
      ],
      "text/plain": [
       "          name  count\n",
       "52       swift    180\n",
       "23       brown    127\n",
       "100     waddle    100\n",
       "16        kupp     98\n",
       "46       penny     94\n",
       "..         ...    ...\n",
       "93     pringle      1\n",
       "109       ryan      1\n",
       "111  mcnichols      1\n",
       "118   abdullah      1\n",
       "142     bourne      1\n",
       "\n",
       "[143 rows x 2 columns]"
      ]
     },
     "execution_count": 56,
     "metadata": {},
     "output_type": "execute_result"
    }
   ],
   "source": [
    "data = pd.DataFrame.from_dict(cnt, orient='index').reset_index()\n",
    "x_label = 'name'\n",
    "data = data.rename(columns={'index': x_label, 0: \"count\"})\n",
    "data = data.sort_values(by='count', ascending=False)\n",
    "data"
   ]
  },
  {
   "cell_type": "code",
   "execution_count": 57,
   "id": "5d5fcaf1-f620-4dc5-af00-ed0b7d407be7",
   "metadata": {},
   "outputs": [
    {
     "data": {
      "image/png": "[encoded data removed]",
      "text/plain": [
       "<Figure size 1152x648 with 1 Axes>"
      ]
     },
     "metadata": {
      "needs_background": "light"
     },
     "output_type": "display_data"
    }
   ],
   "source": [
    "plt.figure(figsize=(16,9))\n",
    "\n",
    "ax = sns.barplot(x=x_label, y='count',data=data[:25])\n",
    "plt.xlabel(x_label.capitalize())  \n",
    "plt.ylabel('# Mentions')  \n",
    "plt.title(f\"Mentions of {x_label} in top {SUBMISSION_LIMIT} posts of r/{SUBREDDIT}\")\n",
    "plt.xticks(rotation = 45)\n",
    "plt.show()"
   ]
  },
  {
   "cell_type": "code",
   "execution_count": null,
   "id": "bc770fb3-e976-4516-bd3e-6ea4dd1c2ab9",
   "metadata": {},
   "outputs": [],
   "source": [
    "# TODO: render full name in chart"
   ]
  }
 ],
 "metadata": {
  "kernelspec": {
   "display_name": "Python 3",
   "language": "python",
   "name": "python3"
  },
  "language_info": {
   "codemirror_mode": {
    "name": "ipython",
    "version": 3
   },
   "file_extension": ".py",
   "mimetype": "text/x-python",
   "name": "python",
   "nbconvert_exporter": "python",
   "pygments_lexer": "ipython3",
   "version": "3.7.12"
  }
 },
 "nbformat": 4,
 "nbformat_minor": 5
}
